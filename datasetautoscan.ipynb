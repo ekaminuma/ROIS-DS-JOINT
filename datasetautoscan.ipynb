{
  "nbformat": 4,
  "nbformat_minor": 0,
  "metadata": {
    "colab": {
      "name": "datasetautoscan.ipynb",
      "provenance": [],
      "collapsed_sections": [],
      "include_colab_link": true
    },
    "kernelspec": {
      "name": "python3",
      "display_name": "Python 3"
    }
  },
  "cells": [
    {
      "cell_type": "markdown",
      "metadata": {
        "id": "view-in-github",
        "colab_type": "text"
      },
      "source": [
        "<a href=\"https://colab.research.google.com/github/ekaminuma/ROIS-DS-JOINT/blob/master/datasetautoscan.ipynb\" target=\"_parent\"><img src=\"https://colab.research.google.com/assets/colab-badge.svg\" alt=\"Open In Colab\"/></a>"
      ]
    },
    {
      "cell_type": "markdown",
      "metadata": {
        "id": "TZXmspmXntqH",
        "colab_type": "text"
      },
      "source": [
        "###ROIS-DS-JOINT 2019年度成果プログラム\n",
        "## **DatasetAutoScan（キーワードによるデータセットWeb Scraping）**\n",
        "\n",
        "2020/1/30\n",
        "####神沼英里(東京医科歯科大学 医療データ科学推進室)\n",
        "---\n",
        "####**概要**\n",
        "\n",
        "提案手法である医療アクセス制限研究のオープンデータ順位付けは、全工程が手作業のため高コストである。工程の一部でも自動処理が出来れば、運用がし易い。開発した「DatasetAutoScan」は、Google Dataset Searchのキーワード検索結果からURL情報を抜き出しfigshareのオープンデータを取得するまでを自動処理するLinux+Pythonプログラムである。最初のキーワードに疾患名を入力すると、Figshareのオープンデータを収集する。\n",
        "\n",
        "####**処理手順**\n",
        "\n",
        "- [1]. Google Dataset Searchのキーワード検索と結果保存（キーワード例：Diabetes）\n",
        "- [2]. キーワード検索結果からURLのみ抽出\n",
        "- [3]. URLリストからhttps://figshare.com/のみ抽出\n",
        "- [4]. figshare.comのサイトからダウンロードURLを取得\n",
        "- [5]. データファイル(csv,xlsx等)を取得する。\n",
        "\n",
        "####**試行結果**\n",
        "\n",
        "疾患キーワード毎のGoogle Dataset Searchヒット数とFigshare URL数の例\n",
        "\n",
        "  - 「脳卒中　apoplexy」 : GDS 97件 => Figshare URL 8件\n",
        "  - 「脊髄小脳変性症：spinocerebellar degeneration」 : GDS 3件 => Figshare URL 0件\n",
        "\n",
        "####**注意**\n",
        "\n",
        "Figshare以外の使用を考えないならば、GDSを介さずに直接Figshareの検索エンジンを使う事を利用者は考えるかもしれません。しかしFigshareのキーワード検索を試してみた所、GDS程の実用的な検索結果が得られませんでした。 \n",
        "\n",
        "####**参考情報**\n",
        "\n",
        "- Google Dataset Search＝データセットを対象とするGoogleの検索サービス(約2500万データセットを提供) \n",
        "- Figshare.com＝研究成果を共有するオープンアクセスリポジトリ\n",
        "\n",
        "*************************************************\n",
        "----\n",
        "----"
      ]
    },
    {
      "cell_type": "markdown",
      "metadata": {
        "id": "W0DmofZPNi74",
        "colab_type": "text"
      },
      "source": [
        "##**[1] Google Dataset Searchのキーワード検索と結果保存**\n",
        "\n",
        "- 1-1:Gooogle Dataset Searchのキーワード検索結果取得\n",
        "- 1-2: Colab DiskへHTMLファイルを書き込み\n",
        "- 1-3: Local PCへGDS検索結果ファイルをダウンロード\n",
        "- 1-4: HTMLの中身を表示\n",
        "^\n",
        "\n",
        "\n"
      ]
    },
    {
      "cell_type": "code",
      "metadata": {
        "id": "zbmtauBZnp1-",
        "colab_type": "code",
        "outputId": "d76831f6-49cb-4d2d-9107-77ebcd6d47f2",
        "colab": {
          "base_uri": "https://localhost:8080/",
          "height": 35
        }
      },
      "source": [
        "#---[1-1:Gooogle Dataset Searchのキーワード検索結果取得]-----------------------------------------------------\n",
        "#\n",
        "# web_cmdの[query=]の後にキーワードを記入して下さい。 　\n",
        "#\n",
        "# query=Heart%20disease [心疾患]\n",
        "# query=diabetes [糖尿病]\n",
        "# query=apoplexy [脳卒中]\n",
        "#  :\n",
        "#\n",
        "#-------------------------------------------------------------\n",
        "# <Response [200]>と表示されれば成功\n",
        "#--------------------------------------------------------------\n",
        "import requests\n",
        "\n",
        "web_cmd='https://datasetsearch.research.google.com/search?query=apoplexy'\n",
        "\n",
        "geturl = requests.get(web_cmd)\n",
        "print(geturl)\n"
      ],
      "execution_count": 1,
      "outputs": [
        {
          "output_type": "stream",
          "text": [
            "<Response [200]>\n"
          ],
          "name": "stdout"
        }
      ]
    },
    {
      "cell_type": "code",
      "metadata": {
        "id": "Q6U7oCmp7kRp",
        "colab_type": "code",
        "outputId": "de61f59d-947d-48dd-bf1f-a3850726b69c",
        "colab": {
          "base_uri": "https://localhost:8080/",
          "height": 70
        }
      },
      "source": [
        "#---[1-2: Colab DiskへHTMLファイルを書き込み]------------------------------\n",
        "#\n",
        "#------------------------------------\n",
        "with open('url_test1.htm', 'w') as f0:\n",
        "  f0.write(geturl.text)\n",
        "\n",
        "!ls -l   "
      ],
      "execution_count": 2,
      "outputs": [
        {
          "output_type": "stream",
          "text": [
            "total 352\n",
            "drwxr-xr-x 1 root root   4096 May  4 16:26 sample_data\n",
            "-rw-r--r-- 1 root root 352458 May  7 00:50 url_test1.htm\n"
          ],
          "name": "stdout"
        }
      ]
    },
    {
      "cell_type": "code",
      "metadata": {
        "id": "K47xA1NZ706K",
        "colab_type": "code",
        "colab": {}
      },
      "source": [
        "#---[1-3: Local PCへGDS検索結果ファイルをダウンロード]------------------------------\n",
        "#\n",
        "# ColabからLocal PCへurl_test1.htmをダウンロード\n",
        "#\n",
        "#------------------------------------\n",
        "from google.colab import files\n",
        "\n",
        "files.download('url_test1.htm')"
      ],
      "execution_count": 0,
      "outputs": []
    },
    {
      "cell_type": "code",
      "metadata": {
        "id": "zfW8Ygu3x2Fi",
        "colab_type": "code",
        "outputId": "d2b88ecc-2d2d-44a9-bd2b-84626d0c2ac5",
        "colab": {
          "base_uri": "https://localhost:8080/",
          "height": 215
        }
      },
      "source": [
        "#---[1-4:htmlの中身確認]------------------------------\n",
        "#　\n",
        "# 保存したhtmlファイルの中身を確認する。\n",
        "#------------------------------------------------------\n",
        "!head url_test1.htm"
      ],
      "execution_count": 3,
      "outputs": [
        {
          "output_type": "stream",
          "text": [
            "<!doctype html><html lang=\"en\" dir=\"ltr\"><head><base href=\"https://datasetsearch.research.google.com/\"><meta name=\"referrer\" content=\"origin\"><link rel=\"canonical\" href=\"https://datasetsearch.research.google.com/search\"><meta name=\"mobile-web-app-capable\" content=\"yes\"><meta name=\"apple-mobile-web-app-capable\" content=\"yes\"><meta name=\"application-name\" content=\"Google Dataset Search\"><meta name=\"apple-mobile-web-app-title\" content=\"Google Dataset Search\"><meta name=\"apple-mobile-web-app-status-bar-style\" content=\"black\"><meta name=\"msapplication-tap-highlight\" content=\"no\"><link rel=\"manifest\" crossorigin=\"use-credentials\" href=\"_/ResearchSciencesearchDesktopUi/manifest.json\"><link rel=\"home\" href=\"/?lfhs=2\"><link rel=\"msapplication-starturl\" href=\"/?lfhs=2\"><link rel=\"icon\" href=\"//ssl.gstatic.com/images/branding/product/ico/googleg_lodp.ico\" sizes=\"32x32\"><link rel=\"apple-touch-icon-precomposed\" href=\"//ssl.gstatic.com/images/branding/product/ico/googleg_lodp.ico\" sizes=\"32x32\"><link rel=\"msapplication-square32x32logo\" href=\"//ssl.gstatic.com/images/branding/product/ico/googleg_lodp.ico\" sizes=\"32x32\"><script data-id=\"_gd\" nonce=\"ccYj/Pm3HNXCO5HGzMAIxA\">window.WIZ_global_data = {\"DpimGf\":false,\"EP1ykd\":[\"/_/*\"],\"FdrFJe\":\"-9003332000382384725\",\"Im6cmf\":\"/_/ResearchSciencesearchDesktopUi\",\"LVIXXb\":1,\"LoQv7e\":false,\"MT7f9b\":[],\"QrtxK\":\"\",\"S06Grb\":\"\",\"cfb2h\":\"boq_researchsciencesearchuiserver_20200501.12_p0\",\"eptZe\":\"/_/ResearchSciencesearchDesktopUi/\",\"fPDxwd\":[1763433,1772879],\"gGcLoe\":false,\"nQyAE\":{\"R2qMUc\":\"true\",\"FHxfue\":\"true\",\"ogYeFb\":\"false\",\"wcLcde\":\"false\",\"tBSlob\":\"false\"},\"qwAQke\":\"ResearchSciencesearchDesktopUi\",\"rtQCxc\":240,\"w2btAe\":\"%.@.null,null,\\\"\\\",false]\\n\",\"zChJod\":\"%.@.]\\n\"};</script><script nonce=\"ccYj/Pm3HNXCO5HGzMAIxA\">(function(){/*\n",
            "\n",
            " Copyright The Closure Library Authors.\n",
            " SPDX-License-Identifier: Apache-2.0\n",
            "*/\n",
            "'use strict';var a=window,c=a.performance,l=k();a.cc_latency_start_time=c&&c.now?0:c&&c.timing&&c.timing.navigationStart?c.timing.navigationStart:l;function k(){return c&&c.now?c.now():(new Date).getTime()}function n(f){if(c&&c.now&&c.mark){var g=c.mark(f);if(g)return g.startTime;if(c.getEntriesByName&&(f=c.getEntriesByName(f).pop()))return f.startTime}return k()}a.onaft=function(){n(\"aft\")};\n",
            "a.l=function(f){function g(b){var e={};e[b]=k();a.cc_latency.push(e)}function m(b){var e=n(\"iml\");b.setAttribute(\"data-iml\",e)}a.cc_aid=f;a.iml_start=a.cc_latency_start_time;a.css_size=0;a.cc_latency=[];a.ccTick=g;a.onJsLoad=function(){g(\"jsl\")};a.onCssLoad=function(){g(\"cssl\")};a._isVisible=function(b,e,h){if(!e||\"none\"==e.style.display)return!1;var d=b.defaultView;if(d&&d.getComputedStyle&&(d=d.getComputedStyle(e),\"hidden\"==d.visibility||\"0px\"==d.height||\"0px\"==d.width))return!1;if(!e.getBoundingClientRect)return!0;\n",
            "d=h?h:e.getBoundingClientRect();e=d.left+a.pageXOffset;h=d.top+a.pageYOffset;if(0>h+d.height||0>e+d.width||0>=d.height||0>=d.width)return!1;b=b.documentElement;return h<=(a.innerHeight||b.clientHeight)&&e<=(a.innerWidth||b.clientWidth)};a._recordImlEl=m;document.documentElement.addEventListener(\"load\",function(b){b=b.target;\"IMG\"!=b.tagName||b.hasAttribute(\"data-iid\")||b.hasAttribute(\"data-src\")||b.hasAttribute(\"data-ils\")||b.hasAttribute(\"data-noaft\")||m(b);if(a.aft_counter&&(b=a.aft_counter.indexOf(b),\n",
            "-1!==b&&(b=1===a.aft_counter.splice(b,1).length,0===a.aft_counter.length&&b)))a.onaft(k())},!0);a.prt=-1;a.wiz_tick=function(){var b=n(\"prt\");a.prt=b}};}).call(this);\n",
            "l('OuPM5e')</script><script nonce=\"ccYj/Pm3HNXCO5HGzMAIxA\">var _F_cssRowKey = 'boq-dataset-search.ResearchSciencesearchDesktopUi.LL28nv8USFM.L.W.O';var _F_combinedSignature = 'ADoVvm_Aohku03wBVHh0BXLuswwcVQDtJw';function _DumpException(e) {throw e;}</script><style data-href=\"https://www.gstatic.com/_/mss/boq-dataset-search/_/ss/k=boq-dataset-search.ResearchSciencesearchDesktopUi.LL28nv8USFM.L.W.O/am=AlE/d=1/ed=1/ct=zgms/rs=ADoVvm_wp-Vs3UPfe69XULB16pzlaABfxQ/m=immersiveview,_b,_tp\" nonce=\"ccYj/Pm3HNXCO5HGzMAIxA\">html{height:100%;overflow:hidden}body{height:100%;overflow:hidden;-webkit-font-smoothing:antialiased;color:rgba(0,0,0,0.87);font-family:Roboto,RobotoDraft,Helvetica,Arial,sans-serif;margin:0;-webkit-text-size-adjust:100%;-webkit-text-size-adjust:100%;text-size-adjust:100%}textarea{font-family:Roboto,RobotoDraft,Helvetica,Arial,sans-serif}a{text-decoration:none;color:#2962ff}img{border:none}*{-webkit-tap-highlight-color:transparent}#apps-debug-tracers{display:none}@keyframes mdc-ripple-fg-radius-in{0%{-webkit-animation-timing-function:cubic-bezier(0.4,0,0.2,1);animation-timing-function:cubic-bezier(0.4,0,0.2,1);-webkit-transform:translate(var(--mdc-ripple-fg-translate-start,0)) scale(1);transform:translate(var(--mdc-ripple-fg-translate-start,0)) scale(1)}to{-webkit-transform:translate(var(--mdc-ripple-fg-translate-end,0)) scale(var(--mdc-ripple-fg-scale,1));transform:translate(var(--mdc-ripple-fg-translate-end,0)) scale(var(--mdc-ripple-fg-scale,1))}}@keyframes mdc-ripple-fg-opacity-in{0%{-webkit-animation-timing-function:linear;animation-timing-function:linear;opacity:0}to{opacity:var(--mdc-ripple-fg-opacity,0)}}@keyframes mdc-ripple-fg-opacity-out{0%{-webkit-animation-timing-function:linear;animation-timing-function:linear;opacity:var(--mdc-ripple-fg-opacity,0)}to{opacity:0}}.VfPpkd-ksKsZd-XxIAqe{--mdc-ripple-fg-size:0;--mdc-ripple-left:0;--mdc-ripple-top:0;--mdc-ripple-fg-scale:1;--mdc-ripple-fg-translate-end:0;--mdc-ripple-fg-translate-start:0;-webkit-tap-highlight-color:rgba(0,0,0,0);will-change:transform,opacity;position:relative;outline:none;overflow:hidden}.VfPpkd-ksKsZd-XxIAqe::before{position:absolute;-webkit-border-radius:50%;border-radius:50%;opacity:0;pointer-events:none;content:\"\"}.VfPpkd-ksKsZd-XxIAqe::after{position:absolute;-webkit-border-radius:50%;border-radius:50%;opacity:0;pointer-events:none;content:\"\"}.VfPpkd-ksKsZd-XxIAqe::before{-webkit-transition:opacity 15ms linear,background-color 15ms linear;transition:opacity 15ms linear,background-color 15ms linear;z-index:1}.VfPpkd-ksKsZd-XxIAqe.VfPpkd-ksKsZd-mWPk3d::before{-webkit-transform:scale(var(--mdc-ripple-fg-scale,1));transform:scale(var(--mdc-ripple-fg-scale,1))}.VfPpkd-ksKsZd-XxIAqe.VfPpkd-ksKsZd-mWPk3d::after{top:0;left:0;-webkit-transform:scale(0);transform:scale(0);-webkit-transform-origin:center center;transform-origin:center center}.VfPpkd-ksKsZd-XxIAqe.VfPpkd-ksKsZd-mWPk3d-OWXEXe-ZNMTqd::after{top:var(--mdc-ripple-top,0);left:var(--mdc-ripple-left,0)}.VfPpkd-ksKsZd-XxIAqe.VfPpkd-ksKsZd-mWPk3d-OWXEXe-Tv8l5d-lJfZMc::after{-webkit-animation:mdc-ripple-fg-radius-in 225ms forwards,mdc-ripple-fg-opacity-in 75ms forwards;animation:mdc-ripple-fg-radius-in 225ms forwards,mdc-ripple-fg-opacity-in 75ms forwards}.VfPpkd-ksKsZd-XxIAqe.VfPpkd-ksKsZd-mWPk3d-OWXEXe-Tv8l5d-OmS1vf::after{-webkit-animation:mdc-ripple-fg-opacity-out 150ms;animation:mdc-ripple-fg-opacity-out 150ms;-webkit-transform:translate(var(--mdc-ripple-fg-translate-end,0)) scale(var(--mdc-ripple-fg-scale,1));transform:translate(var(--mdc-ripple-fg-translate-end,0)) scale(var(--mdc-ripple-fg-scale,1))}.VfPpkd-ksKsZd-XxIAqe::before{background-color:#000}.VfPpkd-ksKsZd-XxIAqe::after{background-color:#000}.VfPpkd-ksKsZd-XxIAqe:hover::before{opacity:.04}.VfPpkd-ksKsZd-XxIAqe.VfPpkd-ksKsZd-mWPk3d-OWXEXe-AHe6Kc-XpnDCe::before{-webkit-transition-duration:75ms;transition-duration:75ms;opacity:.12}.VfPpkd-ksKsZd-XxIAqe:not(.VfPpkd-ksKsZd-mWPk3d):focus::before{-webkit-transition-duration:75ms;transition-duration:75ms;opacity:.12}.VfPpkd-ksKsZd-XxIAqe:not(.VfPpkd-ksKsZd-mWPk3d)::after{-webkit-transition:opacity 150ms linear;transition:opacity 150ms linear}.VfPpkd-ksKsZd-XxIAqe:not(.VfPpkd-ksKsZd-mWPk3d):active::after{-webkit-transition-duration:75ms;transition-duration:75ms;opacity:.12}.VfPpkd-ksKsZd-XxIAqe.VfPpkd-ksKsZd-mWPk3d{--mdc-ripple-fg-opacity:.12}.VfPpkd-ksKsZd-XxIAqe::before{top:-webkit-calc(50% - 100%);top:calc(50% - 100%);left:-webkit-calc(50% - 100%);left:calc(50% - 100%);width:200%;height:200%}.VfPpkd-ksKsZd-XxIAqe::after{top:-webkit-calc(50% - 100%);top:calc(50% - 100%);left:-webkit-calc(50% - 100%);left:calc(50% - 100%);width:200%;height:200%}.VfPpkd-ksKsZd-XxIAqe.VfPpkd-ksKsZd-mWPk3d::after{width:var(--mdc-ripple-fg-size,100%);height:var(--mdc-ripple-fg-size,100%)}.VfPpkd-ksKsZd-XxIAqe[data-mdc-ripple-is-unbounded]{overflow:visible}.VfPpkd-ksKsZd-XxIAqe[data-mdc-ripple-is-unbounded]::before{top:-webkit-calc(50% - 50%);top:calc(50% - 50%);left:-webkit-calc(50% - 50%);left:calc(50% - 50%);width:100%;height:100%}.VfPpkd-ksKsZd-XxIAqe[data-mdc-ripple-is-unbounded]::after{top:-webkit-calc(50% - 50%);top:calc(50% - 50%);left:-webkit-calc(50% - 50%);left:calc(50% - 50%);width:100%;height:100%}.VfPpkd-ksKsZd-XxIAqe[data-mdc-ripple-is-unbounded].VfPpkd-ksKsZd-mWPk3d::before{top:var(--mdc-ripple-top,calc(50% - 50%));left:var(--mdc-ripple-left,calc(50% - 50%));width:var(--mdc-ripple-fg-size,100%);height:var(--mdc-ripple-fg-size,100%)}.VfPpkd-ksKsZd-XxIAqe[data-mdc-ripple-is-unbounded].VfPpkd-ksKsZd-mWPk3d::after{top:var(--mdc-ripple-top,calc(50% - 50%));left:var(--mdc-ripple-left,calc(50% - 50%));width:var(--mdc-ripple-fg-size,100%);height:var(--mdc-ripple-fg-size,100%)}.VfPpkd-ksKsZd-XxIAqe-OWXEXe-ssJRIf::before{background-color:#6200ee;background-color:var(--mdc-theme-primary,#6200ee)}.VfPpkd-ksKsZd-XxIAqe-OWXEXe-ssJRIf::after{background-color:#6200ee;background-color:var(--mdc-theme-primary,#6200ee)}.VfPpkd-ksKsZd-XxIAqe-OWXEXe-ssJRIf:hover::before{opacity:.04}.VfPpkd-ksKsZd-XxIAqe-OWXEXe-ssJRIf.VfPpkd-ksKsZd-mWPk3d-OWXEXe-AHe6Kc-XpnDCe::before{-webkit-transition-duration:75ms;transition-duration:75ms;opacity:.12}.VfPpkd-ksKsZd-XxIAqe-OWXEXe-ssJRIf:not(.VfPpkd-ksKsZd-mWPk3d):focus::before{-webkit-transition-duration:75ms;transition-duration:75ms;opacity:.12}.VfPpkd-ksKsZd-XxIAqe-OWXEXe-ssJRIf:not(.VfPpkd-ksKsZd-mWPk3d)::after{-webkit-transition:opacity 150ms linear;transition:opacity 150ms linear}.VfPpkd-ksKsZd-XxIAqe-OWXEXe-ssJRIf:not(.VfPpkd-ksKsZd-mWPk3d):active::after{-webkit-transition-duration:75ms;transition-duration:75ms;opacity:.12}.VfPpkd-ksKsZd-XxIAqe-OWXEXe-ssJRIf.VfPpkd-ksKsZd-mWPk3d{--mdc-ripple-fg-opacity:.12}.VfPpkd-dgl2Hf-ppHlrf-sM5MNb{display:inline}.VfPpkd-LgbsSe{-webkit-font-smoothing:antialiased;font-family:Roboto,sans-serif;font-family:var(--mdc-typography-button-font-family,var(--mdc-typography-font-family,Roboto,sans-serif));font-size:.875rem;font-size:var(--mdc-typography-button-font-size,0.875rem);line-height:2.25rem;line-height:var(--mdc-typography-button-line-height,2.25rem);font-weight:500;font-weight:var(--mdc-typography-button-font-weight,500);letter-spacing:.0892857143em;letter-spacing:var(--mdc-typography-button-letter-spacing,0.0892857143em);text-decoration:none;text-decoration:var(--mdc-typography-button-text-decoration,none);text-transform:uppercase;text-transform:var(--mdc-typography-button-text-transform,uppercase);padding:0 8px 0 8px;position:relative;display:-webkit-inline-box;display:-webkit-inline-flex;display:inline-flex;-webkit-align-items:center;align-items:center;-webkit-justify-content:center;justify-content:center;-webkit-box-sizing:border-box;box-sizing:border-box;min-width:64px;border:none;outline:none;line-height:inherit;-webkit-user-select:none;-webkit-appearance:none;overflow:visible;vertical-align:middle;-webkit-border-radius:4px;border-radius:4px}.VfPpkd-LgbsSe .VfPpkd-BFbNVe-bF1uUb{width:100%;height:100%;top:0;left:0}.VfPpkd-LgbsSe::-moz-focus-inner{padding:0;border:0}.VfPpkd-LgbsSe:active{outline:none}.VfPpkd-LgbsSe:hover{cursor:pointer}.VfPpkd-LgbsSe:disabled{cursor:default;pointer-events:none}.VfPpkd-LgbsSe .VfPpkd-Jh9lGc{-webkit-border-radius:4px;border-radius:4px}.VfPpkd-LgbsSe:not(:disabled),.VfPpkd-LgbsSe:disabled{background-color:transparent}.VfPpkd-LgbsSe .VfPpkd-kBDsod{margin-left:0;margin-right:8px;display:inline-block;width:18px;height:18px;font-size:18px;vertical-align:top}[dir=rtl] .VfPpkd-LgbsSe .VfPpkd-kBDsod,.VfPpkd-LgbsSe .VfPpkd-kBDsod[dir=rtl]{margin-left:8px;margin-right:0}.VfPpkd-LgbsSe .VfPpkd-RLmnJb{position:absolute;top:50%;right:0;height:48px;left:0;-webkit-transform:translateY(-50%);transform:translateY(-50%)}.VfPpkd-LgbsSe:not(:disabled){color:#6200ee;color:var(--mdc-theme-primary,#6200ee)}.VfPpkd-LgbsSe:disabled{color:rgba(0,0,0,0.38)}.VfPpkd-vQzf8d+.VfPpkd-kBDsod{margin-left:8px;margin-right:0}[dir=rtl] .VfPpkd-vQzf8d+.VfPpkd-kBDsod,.VfPpkd-vQzf8d+.VfPpkd-kBDsod[dir=rtl]{margin-left:0;margin-right:8px}svg.VfPpkd-kBDsod{fill:currentColor}.VfPpkd-LgbsSe-OWXEXe-MV7yeb .VfPpkd-kBDsod,.VfPpkd-LgbsSe-OWXEXe-k8QpJ .VfPpkd-kBDsod,.VfPpkd-LgbsSe-OWXEXe-INsAgc .VfPpkd-kBDsod{margin-left:-4px;margin-right:8px}[dir=rtl] .VfPpkd-LgbsSe-OWXEXe-MV7yeb .VfPpkd-kBDsod,.VfPpkd-LgbsSe-OWXEXe-MV7yeb .VfPpkd-kBDsod[dir=rtl],[dir=rtl] .VfPpkd-LgbsSe-OWXEXe-k8QpJ .VfPpkd-kBDsod,.VfPpkd-LgbsSe-OWXEXe-k8QpJ .VfPpkd-kBDsod[dir=rtl],[dir=rtl] .VfPpkd-LgbsSe-OWXEXe-INsAgc .VfPpkd-kBDsod,.VfPpkd-LgbsSe-OWXEXe-INsAgc .VfPpkd-kBDsod[dir=rtl],.VfPpkd-LgbsSe-OWXEXe-MV7yeb .VfPpkd-vQzf8d+.VfPpkd-kBDsod,.VfPpkd-LgbsSe-OWXEXe-k8QpJ .VfPpkd-vQzf8d+.VfPpkd-kBDsod,.VfPpkd-LgbsSe-OWXEXe-INsAgc .VfPpkd-vQzf8d+.VfPpkd-kBDsod{margin-left:8px;margin-right:-4px}[dir=rtl] .VfPpkd-LgbsSe-OWXEXe-MV7yeb .VfPpkd-vQzf8d+.VfPpkd-kBDsod,.VfPpkd-LgbsSe-OWXEXe-MV7yeb .VfPpkd-vQzf8d+.VfPpkd-kBDsod[dir=rtl],[dir=rtl] .VfPpkd-LgbsSe-OWXEXe-k8QpJ .VfPpkd-vQzf8d+.VfPpkd-kBDsod,.VfPpkd-LgbsSe-OWXEXe-k8QpJ .VfPpkd-vQzf8d+.VfPpkd-kBDsod[dir=rtl],[dir=rtl] .VfPpkd-LgbsSe-OWXEXe-INsAgc .VfPpkd-vQzf8d+.VfPpkd-kBDsod,.VfPpkd-LgbsSe-OWXEXe-INsAgc .VfPpkd-vQzf8d+.VfPpkd-kBDsod[dir=rtl]{margin-left:-4px;margin-right:8px}.VfPpkd-LgbsSe-OWXEXe-MV7yeb,.VfPpkd-LgbsSe-OWXEXe-k8QpJ{padding:0 16px 0 16px}.VfPpkd-LgbsSe-OWXEXe-MV7yeb:not(:disabled),.VfPpkd-LgbsSe-OWXEXe-k8QpJ:not(:disabled){background-color:#6200ee;background-color:var(--mdc-theme-primary,#6200ee)}.VfPpkd-LgbsSe-OWXEXe-MV7yeb:not(:disabled),.VfPpkd-LgbsSe-OWXEXe-k8QpJ:not(:disabled){color:#fff;color:var(--mdc-theme-on-primary,#fff)}.VfPpkd-LgbsSe-OWXEXe-MV7yeb:disabled,.VfPpkd-LgbsSe-OWXEXe-k8QpJ:disabled{background-color:rgba(0,0,0,0.12)}.VfPpkd-LgbsSe-OWXEXe-MV7yeb:disabled,.VfPpkd-LgbsSe-OWXEXe-k8QpJ:disabled{color:rgba(0,0,0,0.38)}.VfPpkd-LgbsSe-OWXEXe-MV7yeb{-webkit-box-shadow:0 3px 1px -2px rgba(0,0,0,0.2),0 2px 2px 0 rgba(0,0,0,0.14),0 1px 5px 0 rgba(0,0,0,0.12);box-shadow:0 3px 1px -2px rgba(0,0,0,0.2),0 2px 2px 0 rgba(0,0,0,0.14),0 1px 5px 0 rgba(0,0,0,0.12);-webkit-transition:box-shadow 280ms cubic-bezier(0.4,0,0.2,1);transition:box-shadow 280ms cubic-bezier(0.4,0,0.2,1)}.VfPpkd-LgbsSe-OWXEXe-MV7yeb:hover,.VfPpkd-LgbsSe-OWXEXe-MV7yeb:focus{-webkit-box-shadow:0 2px 4px -1px rgba(0,0,0,0.2),0 4px 5px 0 rgba(0,0,0,0.14),0 1px 10px 0 rgba(0,0,0,0.12);box-shadow:0 2px 4px -1px rgba(0,0,0,0.2),0 4px 5px 0 rgba(0,0,0,0.14),0 1px 10px 0 rgba(0,0,0,0.12)}.VfPpkd-LgbsSe-OWXEXe-MV7yeb:active{-webkit-box-shadow:0 5px 5px -3px rgba(0,0,0,0.2),0 8px 10px 1px rgba(0,0,0,0.14),0 3px 14px 2px rgba(0,0,0,0.12);box-shadow:0 5px 5px -3px rgba(0,0,0,0.2),0 8px 10px 1px rgba(0,0,0,0.14),0 3px 14px 2px rgba(0,0,0,0.12)}.VfPpkd-LgbsSe-OWXEXe-MV7yeb:disabled{-webkit-box-shadow:0 0 0 0 rgba(0,0,0,0.2),0 0 0 0 rgba(0,0,0,0.14),0 0 0 0 rgba(0,0,0,0.12);box-shadow:0 0 0 0 rgba(0,0,0,0.2),0 0 0 0 rgba(0,0,0,0.14),0 0 0 0 rgba(0,0,0,0.12)}.VfPpkd-LgbsSe-OWXEXe-INsAgc{padding:0 15px 0 15px;border-width:1px;border-style:solid}.VfPpkd-LgbsSe-OWXEXe-INsAgc .VfPpkd-Jh9lGc{top:-1px;left:-1px;border:1px solid transparent}.VfPpkd-LgbsSe-OWXEXe-INsAgc .VfPpkd-RLmnJb{left:-1px;width:-webkit-calc(100% + 2*1px);width:calc(100% + 2*1px)}.VfPpkd-LgbsSe-OWXEXe-INsAgc:not(:disabled),.VfPpkd-LgbsSe-OWXEXe-INsAgc:disabled{border-color:rgba(0,0,0,0.12)}.VfPpkd-LgbsSe-OWXEXe-dgl2Hf{margin-top:6px;margin-bottom:6px}.VfPpkd-LgbsSe{--mdc-ripple-fg-size:0;--mdc-ripple-left:0;--mdc-ripple-top:0;--mdc-ripple-fg-scale:1;--mdc-ripple-fg-translate-end:0;--mdc-ripple-fg-translate-start:0;-webkit-tap-highlight-color:rgba(0,0,0,0);will-change:transform,opacity}.VfPpkd-LgbsSe .VfPpkd-Jh9lGc::before,.VfPpkd-LgbsSe .VfPpkd-Jh9lGc::after{position:absolute;-webkit-border-radius:50%;border-radius:50%;opacity:0;pointer-events:none;content:\"\"}.VfPpkd-LgbsSe .VfPpkd-Jh9lGc::before{-webkit-transition:opacity 15ms linear,background-color 15ms linear;transition:opacity 15ms linear,background-color 15ms linear;z-index:1}.VfPpkd-LgbsSe.VfPpkd-ksKsZd-mWPk3d .VfPpkd-Jh9lGc::before{-webkit-transform:scale(var(--mdc-ripple-fg-scale,1));transform:scale(var(--mdc-ripple-fg-scale,1))}.VfPpkd-LgbsSe.VfPpkd-ksKsZd-mWPk3d .VfPpkd-Jh9lGc::after{top:0;left:0;-webkit-transform:scale(0);transform:scale(0);-webkit-transform-origin:center center;transform-origin:center center}.VfPpkd-LgbsSe.VfPpkd-ksKsZd-mWPk3d-OWXEXe-ZNMTqd .VfPpkd-Jh9lGc::after{top:var(--mdc-ripple-top,0);left:var(--mdc-ripple-left,0)}.VfPpkd-LgbsSe.VfPpkd-ksKsZd-mWPk3d-OWXEXe-Tv8l5d-lJfZMc .VfPpkd-Jh9lGc::after{-webkit-animation:mdc-ripple-fg-radius-in 225ms forwards,mdc-ripple-fg-opacity-in 75ms forwards;animation:mdc-ripple-fg-radius-in 225ms forwards,mdc-ripple-fg-opacity-in 75ms forwards}.VfPpkd-LgbsSe.VfPpkd-ksKsZd-mWPk3d-OWXEXe-Tv8l5d-OmS1vf .VfPpkd-Jh9lGc::after{-webkit-animation:mdc-ripple-fg-opacity-out 150ms;animation:mdc-ripple-fg-opacity-out 150ms;-webkit-transform:translate(var(--mdc-ripple-fg-translate-end,0)) scale(var(--mdc-ripple-fg-scale,1));transform:translate(var(--mdc-ripple-fg-translate-end,0)) scale(var(--mdc-ripple-fg-scale,1))}.VfPpkd-LgbsSe .VfPpkd-Jh9lGc::before,.VfPpkd-LgbsSe .VfPpkd-Jh9lGc::after{top:-webkit-calc(50% - 100%);top:calc(50% - 100%);left:-webkit-calc(50% - 100%);left:calc(50% - 100%);width:200%;height:200%}.VfPpkd-LgbsSe.VfPpkd-ksKsZd-mWPk3d .VfPpkd-Jh9lGc::after{width:var(--mdc-ripple-fg-size,100%);height:var(--mdc-ripple-fg-size,100%)}.VfPpkd-LgbsSe .VfPpkd-Jh9lGc::before,.VfPpkd-LgbsSe .VfPpkd-Jh9lGc::after{background-color:#6200ee;background-color:var(--mdc-theme-primary,#6200ee)}.VfPpkd-LgbsSe:hover .VfPpkd-Jh9lGc::before{opacity:.04}.VfPpkd-LgbsSe.VfPpkd-ksKsZd-mWPk3d-OWXEXe-AHe6Kc-XpnDCe .VfPpkd-Jh9lGc::before,.VfPpkd-LgbsSe:not(.VfPpkd-ksKsZd-mWPk3d):focus .VfPpkd-Jh9lGc::before{-webkit-transition-duration:75ms;transition-duration:75ms;opacity:.12}.VfPpkd-LgbsSe:not(.VfPpkd-ksKsZd-mWPk3d) .VfPpkd-Jh9lGc::after{-webkit-transition:opacity 150ms linear;transition:opacity 150ms linear}.VfPpkd-LgbsSe:not(.VfPpkd-ksKsZd-mWPk3d):active .VfPpkd-Jh9lGc::after{-webkit-transition-duration:75ms;transition-duration:75ms;opacity:.12}.VfPpkd-LgbsSe.VfPpkd-ksKsZd-mWPk3d{--mdc-ripple-fg-opacity:.12}.VfPpkd-LgbsSe .VfPpkd-Jh9lGc{position:absolute;-webkit-box-sizing:content-box;box-sizing:content-box;width:100%;height:100%;overflow:hidden}.VfPpkd-LgbsSe:not(.VfPpkd-LgbsSe-OWXEXe-INsAgc) .VfPpkd-Jh9lGc{top:0;left:0}.VfPpkd-LgbsSe-OWXEXe-MV7yeb .VfPpkd-Jh9lGc::before,.VfPpkd-LgbsSe-OWXEXe-MV7yeb .VfPpkd-Jh9lGc::after,.VfPpkd-LgbsSe-OWXEXe-k8QpJ .VfPpkd-Jh9lGc::before,.VfPpkd-LgbsSe-OWXEXe-k8QpJ .VfPpkd-Jh9lGc::after{background-color:#fff;background-color:var(--mdc-theme-on-primary,#fff)}.VfPpkd-LgbsSe-OWXEXe-MV7yeb:hover .VfPpkd-Jh9lGc::before,.VfPpkd-LgbsSe-OWXEXe-k8QpJ:hover .VfPpkd-Jh9lGc::before{opacity:.08}.VfPpkd-LgbsSe-OWXEXe-MV7yeb.VfPpkd-ksKsZd-mWPk3d-OWXEXe-AHe6Kc-XpnDCe .VfPpkd-Jh9lGc::before,.VfPpkd-LgbsSe-OWXEXe-MV7yeb:not(.VfPpkd-ksKsZd-mWPk3d):focus .VfPpkd-Jh9lGc::before,.VfPpkd-LgbsSe-OWXEXe-k8QpJ.VfPpkd-ksKsZd-mWPk3d-OWXEXe-AHe6Kc-XpnDCe .VfPpkd-Jh9lGc::before,.VfPpkd-LgbsSe-OWXEXe-k8QpJ:not(.VfPpkd-ksKsZd-mWPk3d):focus .VfPpkd-Jh9lGc::before{-webkit-transition-duration:75ms;transition-duration:75ms;opacity:.24}.VfPpkd-LgbsSe-OWXEXe-MV7yeb:not(.VfPpkd-ksKsZd-mWPk3d) .VfPpkd-Jh9lGc::after,.VfPpkd-LgbsSe-OWXEXe-k8QpJ:not(.VfPpkd-ksKsZd-mWPk3d) .VfPpkd-Jh9lGc::after{-webkit-transition:opacity 150ms linear;transition:opacity 150ms linear}.VfPpkd-LgbsSe-OWXEXe-MV7yeb:not(.VfPpkd-ksKsZd-mWPk3d):active .VfPpkd-Jh9lGc::after,.VfPpkd-LgbsSe-OWXEXe-k8QpJ:not(.VfPpkd-ksKsZd-mWPk3d):active .VfPpkd-Jh9lGc::after{-webkit-transition-duration:75ms;transition-duration:75ms;opacity:.24}.VfPpkd-LgbsSe-OWXEXe-MV7yeb.VfPpkd-ksKsZd-mWPk3d,.VfPpkd-LgbsSe-OWXEXe-k8QpJ.VfPpkd-ksKsZd-mWPk3d{--mdc-ripple-fg-opacity:.24}.VfPpkd-LgbsSe{height:36px}.VfPpkd-Bz112c-LgbsSe{display:inline-block;position:relative;-webkit-box-sizing:border-box;box-sizing:border-box;border:none;outline:none;background-color:transparent;fill:currentColor;color:inherit;font-size:24px;text-decoration:none;cursor:pointer;-webkit-user-select:none;width:48px;height:48px;padding:12px}.VfPpkd-Bz112c-LgbsSe svg,.VfPpkd-Bz112c-LgbsSe img{width:24px;height:24px}.VfPpkd-Bz112c-LgbsSe:disabled{color:rgba(0,0,0,0.38);color:var(--mdc-theme-text-disabled-on-light,rgba(0,0,0,0.38));cursor:default;pointer-events:none}.VfPpkd-Bz112c-kBDsod{display:inline-block}.VfPpkd-Bz112c-kBDsod.VfPpkd-Bz112c-kBDsod-OWXEXe-IT5dJd,.VfPpkd-Bz112c-LgbsSe-OWXEXe-IT5dJd .VfPpkd-Bz112c-kBDsod{display:none}.VfPpkd-Bz112c-LgbsSe-OWXEXe-IT5dJd .VfPpkd-Bz112c-kBDsod.VfPpkd-Bz112c-kBDsod-OWXEXe-IT5dJd{display:inline-block}.VfPpkd-Bz112c-LgbsSe{--mdc-ripple-fg-size:0;--mdc-ripple-left:0;--mdc-ripple-top:0;--mdc-ripple-fg-scale:1;--mdc-ripple-fg-translate-end:0;--mdc-ripple-fg-translate-start:0;-webkit-tap-highlight-color:rgba(0,0,0,0);will-change:transform,opacity}.VfPpkd-Bz112c-LgbsSe::before{position:absolute;-webkit-border-radius:50%;border-radius:50%;opacity:0;pointer-events:none;content:\"\"}.VfPpkd-Bz112c-LgbsSe::after{position:absolute;-webkit-border-radius:50%;border-radius:50%;opacity:0;pointer-events:none;content:\"\"}.VfPpkd-Bz112c-LgbsSe::before{-webkit-transition:opacity 15ms linear,background-color 15ms linear;transition:opacity 15ms linear,background-color 15ms linear;z-index:1}.VfPpkd-Bz112c-LgbsSe.VfPpkd-ksKsZd-mWPk3d::before{-webkit-transform:scale(var(--mdc-ripple-fg-scale,1));transform:scale(var(--mdc-ripple-fg-scale,1))}.VfPpkd-Bz112c-LgbsSe.VfPpkd-ksKsZd-mWPk3d::after{-webkit-transform:scale(0);transform:scale(0);-webkit-transform-origin:center center;transform-origin:center center}.VfPpkd-Bz112c-LgbsSe.VfPpkd-ksKsZd-mWPk3d-OWXEXe-ZNMTqd::after{top:var(--mdc-ripple-top,0);left:var(--mdc-ripple-left,0)}.VfPpkd-Bz112c-LgbsSe.VfPpkd-ksKsZd-mWPk3d-OWXEXe-Tv8l5d-lJfZMc::after{-webkit-animation:mdc-ripple-fg-radius-in 225ms forwards,mdc-ripple-fg-opacity-in 75ms forwards;animation:mdc-ripple-fg-radius-in 225ms forwards,mdc-ripple-fg-opacity-in 75ms forwards}.VfPpkd-Bz112c-LgbsSe.VfPpkd-ksKsZd-mWPk3d-OWXEXe-Tv8l5d-OmS1vf::after{-webkit-animation:mdc-ripple-fg-opacity-out 150ms;animation:mdc-ripple-fg-opacity-out 150ms;-webkit-transform:translate(var(--mdc-ripple-fg-translate-end,0)) scale(var(--mdc-ripple-fg-scale,1));transform:translate(var(--mdc-ripple-fg-translate-end,0)) scale(var(--mdc-ripple-fg-scale,1))}.VfPpkd-Bz112c-LgbsSe::before{top:-webkit-calc(50% - 50%);top:calc(50% - 50%);left:-webkit-calc(50% - 50%);left:calc(50% - 50%);width:100%;height:100%}.VfPpkd-Bz112c-LgbsSe::after{top:-webkit-calc(50% - 50%);top:calc(50% - 50%);left:-webkit-calc(50% - 50%);left:calc(50% - 50%);width:100%;height:100%}.VfPpkd-Bz112c-LgbsSe.VfPpkd-ksKsZd-mWPk3d::before{top:var(--mdc-ripple-top,calc(50% - 50%));left:var(--mdc-ripple-left,calc(50% - 50%));width:var(--mdc-ripple-fg-size,100%);height:var(--mdc-ripple-fg-size,100%)}.VfPpkd-Bz112c-LgbsSe.VfPpkd-ksKsZd-mWPk3d::after{top:var(--mdc-ripple-top,calc(50% - 50%));left:var(--mdc-ripple-left,calc(50% - 50%));width:var(--mdc-ripple-fg-size,100%);height:var(--mdc-ripple-fg-size,100%)}.VfPpkd-Bz112c-LgbsSe::before{background-color:#000}.VfPpkd-Bz112c-LgbsSe::after{background-color:#000}.VfPpkd-Bz112c-LgbsSe:hover::before{opacity:.04}.VfPpkd-Bz112c-LgbsSe.VfPpkd-ksKsZd-mWPk3d-OWXEXe-AHe6Kc-XpnDCe::before{-webkit-transition-duration:75ms;transition-duration:75ms;opacity:.12}.VfPpkd-Bz112c-LgbsSe:not(.VfPpkd-ksKsZd-mWPk3d):focus::before{-webkit-transition-duration:75ms;transition-duration:75ms;opacity:.12}.VfPpkd-Bz112c-LgbsSe:not(.VfPpkd-ksKsZd-mWPk3d)::after{-webkit-transition:opacity 150ms linear;transition:opacity 150ms linear}.VfPpkd-Bz112c-LgbsSe:not(.VfPpkd-ksKsZd-mWPk3d):active::after{-webkit-transition-duration:75ms;transition-duration:75ms;opacity:.12}.VfPpkd-Bz112c-LgbsSe.VfPpkd-ksKsZd-mWPk3d{--mdc-ripple-fg-opacity:.12}.nCP5yc{font-family:\"Google Sans\",Roboto,Arial,sans-serif;font-size:.875rem;font-weight:500;letter-spacing:.0107142857em;text-transform:none;-webkit-transition:border 280ms cubic-bezier(0.4,0,0.2,1),box-shadow 280ms cubic-bezier(0.4,0,0.2,1);transition:border 280ms cubic-bezier(0.4,0,0.2,1),box-shadow 280ms cubic-bezier(0.4,0,0.2,1);-webkit-box-shadow:none;box-shadow:none}.nCP5yc .VfPpkd-Jh9lGc{height:100%;position:absolute;overflow:hidden;width:100%;z-index:0}.nCP5yc .VfPpkd-vQzf8d,.nCP5yc .VfPpkd-kBDsod{position:relative}.nCP5yc:not(:disabled){background-color:#1a73e8;background-color:var(--gm-fillbutton-container-color,#1a73e8);color:#fff;color:var(--gm-fillbutton-ink-color,#fff)}.nCP5yc:disabled{background-color:rgba(60,64,67,0.12);background-color:var(--gm-fillbutton-disabled-container-color,rgba(60,64,67,0.12));color:rgba(60,64,67,0.38);color:var(--gm-fillbutton-disabled-ink-color,rgba(60,64,67,0.38))}.nCP5yc .VfPpkd-Jh9lGc::before,.nCP5yc .VfPpkd-Jh9lGc::after{background-color:#202124;background-color:var(--gm-fillbutton-state-color,#202124)}.nCP5yc:hover .VfPpkd-Jh9lGc::before{opacity:.16}.nCP5yc.VfPpkd-ksKsZd-mWPk3d-OWXEXe-AHe6Kc-XpnDCe .VfPpkd-Jh9lGc::before,.nCP5yc:not(.VfPpkd-ksKsZd-mWPk3d):focus .VfPpkd-Jh9lGc::before{-webkit-transition-duration:75ms;transition-duration:75ms;opacity:.24}.nCP5yc:not(.VfPpkd-ksKsZd-mWPk3d) .VfPpkd-Jh9lGc::after{-webkit-transition:opacity 150ms linear;transition:opacity 150ms linear}.nCP5yc:not(.VfPpkd-ksKsZd-mWPk3d):active .VfPpkd-Jh9lGc::after{-webkit-transition-duration:75ms;transition-duration:75ms;opacity:.2}.nCP5yc.VfPpkd-ksKsZd-mWPk3d{--mdc-ripple-fg-opacity:.2}.nCP5yc .VfPpkd-BFbNVe-bF1uUb{opacity:0}.nCP5yc:hover,.nCP5yc:focus{-webkit-box-shadow:0 1px 2px 0 rgba(60,64,67,0.3),0 1px 3px 1px rgba(60,64,67,0.15);box-shadow:0 1px 2px 0 rgba(60,64,67,0.3),0 1px 3px 1px rgba(60,64,67,0.15);-webkit-box-shadow:0 1px 2px 0 var(--gm-fillbutton-keyshadow-color,rgba(60,64,67,0.3)),0 1px 3px 1px var(--gm-fillbutton-ambientshadow-color,rgba(60,64,67,0.15));box-shadow:0 1px 2px 0 var(--gm-fillbutton-keyshadow-color,rgba(60,64,67,0.3)),0 1px 3px 1px var(--gm-fillbutton-ambientshadow-color,rgba(60,64,67,0.15))}.nCP5yc:hover .VfPpkd-BFbNVe-bF1uUb,.nCP5yc:focus .VfPpkd-BFbNVe-bF1uUb{opacity:0}.nCP5yc:active{-webkit-box-shadow:0 1px 2px 0 rgba(60,64,67,0.3),0 2px 6px 2px rgba(60,64,67,0.15);box-shadow:0 1px 2px 0 rgba(60,64,67,0.3),0 2px 6px 2px rgba(60,64,67,0.15);-webkit-box-shadow:0 1px 2px 0 var(--gm-fillbutton-keyshadow-color,rgba(60,64,67,0.3)),0 2px 6px 2px var(--gm-fillbutton-ambientshadow-color,rgba(60,64,67,0.15));box-shadow:0 1px 2px 0 var(--gm-fillbutton-keyshadow-color,rgba(60,64,67,0.3)),0 2px 6px 2px var(--gm-fillbutton-ambientshadow-color,rgba(60,64,67,0.15))}.nCP5yc:active .VfPpkd-BFbNVe-bF1uUb{opacity:0}.Rj2Mlf{font-family:\"Google Sans\",Roboto,Arial,sans-serif;font-size:.875rem;font-weight:500;letter-spacing:.0107142857em;text-transform:none;-webkit-transition:border 280ms cubic-bezier(0.4,0,0.2,1),box-shadow 280ms cubic-bezier(0.4,0,0.2,1);transition:border 280ms cubic-bezier(0.4,0,0.2,1),box-shadow 280ms cubic-bezier(0.4,0,0.2,1);-webkit-box-shadow:none;box-shadow:none}.Rj2Mlf .VfPpkd-Jh9lGc{height:100%;position:absolute;overflow:hidden;width:100%;z-index:0}.Rj2Mlf .VfPpkd-vQzf8d,.Rj2Mlf .VfPpkd-kBDsod{position:relative}.Rj2Mlf:not(:disabled){color:#1a73e8;color:var(--gm-hairlinebutton-ink-color,#1a73e8);border-color:#dadce0;border-color:var(--gm-hairlinebutton-outline-color,#dadce0)}.Rj2Mlf:disabled{color:rgba(60,64,67,0.38);color:var(--gm-hairlinebutton-disabled-ink-color,rgba(60,64,67,0.38));border-color:rgba(60,64,67,0.12);border-color:var(--gm-hairlinebutton-disabled-outline-color,rgba(60,64,67,0.12))}.Rj2Mlf:hover:not(:disabled),.Rj2Mlf:active:not(:disabled),.Rj2Mlf:not(.VfPpkd-ksKsZd-mWPk3d):focus:not(:disabled),.Rj2Mlf.VfPpkd-ksKsZd-mWPk3d-OWXEXe-AHe6Kc-XpnDCe:not(:disabled){color:#174ea6;color:var(--gm-hairlinebutton-ink-color--stateful,#174ea6)}.Rj2Mlf:hover:not(:disabled),.Rj2Mlf:active:not(:disabled){border-color:#dadce0;border-color:var(--gm-hairlinebutton-outline-color,#dadce0)}.Rj2Mlf:focus:not(:disabled){border-color:#174ea6;border-color:var(--gm-hairlinebutton-outline-color--stateful,#174ea6)}.Rj2Mlf .VfPpkd-BFbNVe-bF1uUb{opacity:0}.Rj2Mlf .VfPpkd-Jh9lGc::before,.Rj2Mlf .VfPpkd-Jh9lGc::after{background-color:#1a73e8;background-color:var(--gm-hairlinebutton-state-color,#1a73e8)}.Rj2Mlf:hover .VfPpkd-Jh9lGc::before{opacity:.04}.Rj2Mlf.VfPpkd-ksKsZd-mWPk3d-OWXEXe-AHe6Kc-XpnDCe .VfPpkd-Jh9lGc::before,.Rj2Mlf:not(.VfPpkd-ksKsZd-mWPk3d):focus .VfPpkd-Jh9lGc::before{-webkit-transition-duration:75ms;transition-duration:75ms;opacity:.12}.Rj2Mlf:not(.VfPpkd-ksKsZd-mWPk3d) .VfPpkd-Jh9lGc::after{-webkit-transition:opacity 150ms linear;transition:opacity 150ms linear}.Rj2Mlf:not(.VfPpkd-ksKsZd-mWPk3d):active .VfPpkd-Jh9lGc::after{-webkit-transition-duration:75ms;transition-duration:75ms;opacity:.12}.Rj2Mlf.VfPpkd-ksKsZd-mWPk3d{--mdc-ripple-fg-opacity:.12}.b9hyVd{font-family:\"Google Sans\",Roboto,Arial,sans-serif;font-size:.875rem;font-weight:500;letter-spacing:.0107142857em;text-transform:none;-webkit-transition:border 280ms cubic-bezier(0.4,0,0.2,1),box-shadow 280ms cubic-bezier(0.4,0,0.2,1);transition:border 280ms cubic-bezier(0.4,0,0.2,1),box-shadow 280ms cubic-bezier(0.4,0,0.2,1);border:0;-webkit-box-shadow:0 1px 2px 0 rgba(60,64,67,0.3),0 1px 3px 1px rgba(60,64,67,0.15);box-shadow:0 1px 2px 0 rgba(60,64,67,0.3),0 1px 3px 1px rgba(60,64,67,0.15);-webkit-box-shadow:0 1px 2px 0 var(--gm-protectedbutton-keyshadow-color,rgba(60,64,67,0.3)),0 1px 3px 1px var(--gm-protectedbutton-ambientshadow-color,rgba(60,64,67,0.15));box-shadow:0 1px 2px 0 var(--gm-protectedbutton-keyshadow-color,rgba(60,64,67,0.3)),0 1px 3px 1px var(--gm-protectedbutton-ambientshadow-color,rgba(60,64,67,0.15))}.b9hyVd .VfPpkd-Jh9lGc{height:100%;position:absolute;overflow:hidden;width:100%;z-index:0}.b9hyVd .VfPpkd-vQzf8d,.b9hyVd .VfPpkd-kBDsod{position:relative}.b9hyVd:not(:disabled){background-color:#fff;background-color:var(--gm-protectedbutton-container-color,#fff);color:#1a73e8;color:var(--gm-protectedbutton-ink-color,#1a73e8)}.b9hyVd:disabled{background-color:rgba(60,64,67,0.12);background-color:var(--gm-protectedbutton-disabled-container-color,rgba(60,64,67,0.12));color:rgba(60,64,67,0.38);color:var(--gm-protectedbutton-disabled-ink-color,rgba(60,64,67,0.38))}.b9hyVd:hover:not(:disabled),.b9hyVd:active:not(:disabled),.b9hyVd:not(.VfPpkd-ksKsZd-mWPk3d):focus:not(:disabled),.b9hyVd.VfPpkd-ksKsZd-mWPk3d-OWXEXe-AHe6Kc-XpnDCe:not(:disabled){color:#174ea6;color:var(--gm-protectedbutton-ink-color--stateful,#174ea6)}.b9hyVd .VfPpkd-BFbNVe-bF1uUb{opacity:0}.b9hyVd:hover,.b9hyVd:focus{border:0;-webkit-box-shadow:0 1px 2px 0 rgba(60,64,67,0.3),0 2px 6px 2px rgba(60,64,67,0.15);box-shadow:0 1px 2px 0 rgba(60,64,67,0.3),0 2px 6px 2px rgba(60,64,67,0.15);-webkit-box-shadow:0 1px 2px 0 var(--gm-protectedbutton-keyshadow-color,rgba(60,64,67,0.3)),0 2px 6px 2px var(--gm-protectedbutton-ambientshadow-color,rgba(60,64,67,0.15));box-shadow:0 1px 2px 0 var(--gm-protectedbutton-keyshadow-color,rgba(60,64,67,0.3)),0 2px 6px 2px var(--gm-protectedbutton-ambientshadow-color,rgba(60,64,67,0.15))}.b9hyVd:hover .VfPpkd-BFbNVe-bF1uUb,.b9hyVd:focus .VfPpkd-BFbNVe-bF1uUb{opacity:0}.b9hyVd:active{border:0;-webkit-box-shadow:0 1px 3px 0 rgba(60,64,67,0.3),0 4px 8px 3px rgba(60,64,67,0.15);box-shadow:0 1px 3px 0 rgba(60,64,67,0.3),0 4px 8px 3px rgba(60,64,67,0.15);-webkit-box-shadow:0 1px 3px 0 var(--gm-protectedbutton-keyshadow-color,rgba(60,64,67,0.3)),0 4px 8px 3px var(--gm-protectedbutton-ambientshadow-color,rgba(60,64,67,0.15));box-shadow:0 1px 3px 0 var(--gm-protectedbutton-keyshadow-color,rgba(60,64,67,0.3)),0 4px 8px 3px var(--gm-protectedbutton-ambientshadow-color,rgba(60,64,67,0.15))}.b9hyVd:active .VfPpkd-BFbNVe-bF1uUb{opacity:0}.b9hyVd .VfPpkd-Jh9lGc::before,.b9hyVd .VfPpkd-Jh9lGc::after{background-color:#1a73e8;background-color:var(--gm-protectedbutton-state-color,#1a73e8)}.b9hyVd:hover .VfPpkd-Jh9lGc::before{opacity:.04}.b9hyVd.VfPpkd-ksKsZd-mWPk3d-OWXEXe-AHe6Kc-XpnDCe .VfPpkd-Jh9lGc::before,.b9hyVd:not(.VfPpkd-ksKsZd-mWPk3d):focus .VfPpkd-Jh9lGc::before{-webkit-transition-duration:75ms;transition-duration:75ms;opacity:.12}.b9hyVd:not(.VfPpkd-ksKsZd-mWPk3d) .VfPpkd-Jh9lGc::after{-webkit-transition:opacity 150ms linear;transition:opacity 150ms linear}.b9hyVd:not(.VfPpkd-ksKsZd-mWPk3d):active .VfPpkd-Jh9lGc::after{-webkit-transition-duration:75ms;transition-duration:75ms;opacity:.12}.b9hyVd.VfPpkd-ksKsZd-mWPk3d{--mdc-ripple-fg-opacity:.12}.ksBjEc{font-family:\"Google Sans\",Roboto,Arial,sans-serif;font-size:.875rem;font-weight:500;letter-spacing:.0107142857em;text-transform:none}.ksBjEc .VfPpkd-Jh9lGc{height:100%;position:absolute;overflow:hidden;width:100%;z-index:0}.ksBjEc .VfPpkd-vQzf8d,.ksBjEc .VfPpkd-kBDsod{position:relative}.ksBjEc:not(:disabled){background-color:transparent;color:#1a73e8;color:var(--gm-colortextbutton-ink-color,#1a73e8)}.ksBjEc:disabled{color:rgba(60,64,67,0.38);color:var(--gm-colortextbutton-disabled-ink-color,rgba(60,64,67,0.38))}.ksBjEc:hover:not(:disabled),.ksBjEc:active:not(:disabled),.ksBjEc:not(.VfPpkd-ksKsZd-mWPk3d):focus:not(:disabled),.ksBjEc.VfPpkd-ksKsZd-mWPk3d-OWXEXe-AHe6Kc-XpnDCe:not(:disabled){color:#174ea6;color:var(--gm-colortextbutton-ink-color--stateful,#174ea6)}.ksBjEc .VfPpkd-Jh9lGc::before,.ksBjEc .VfPpkd-Jh9lGc::after{background-color:#1a73e8;background-color:var(--gm-colortextbutton-state-color,#1a73e8)}.ksBjEc:hover .VfPpkd-Jh9lGc::before{opacity:.04}.ksBjEc.VfPpkd-ksKsZd-mWPk3d-OWXEXe-AHe6Kc-XpnDCe .VfPpkd-Jh9lGc::before,.ksBjEc:not(.VfPpkd-ksKsZd-mWPk3d):focus .VfPpkd-Jh9lGc::before{-webkit-transition-duration:75ms;transition-duration:75ms;opacity:.12}.ksBjEc:not(.VfPpkd-ksKsZd-mWPk3d) .VfPpkd-Jh9lGc::after{-webkit-transition:opacity 150ms linear;transition:opacity 150ms linear}.ksBjEc:not(.VfPpkd-ksKsZd-mWPk3d):active .VfPpkd-Jh9lGc::after{-webkit-transition-duration:75ms;transition-duration:75ms;opacity:.12}.ksBjEc.VfPpkd-ksKsZd-mWPk3d{--mdc-ripple-fg-opacity:.12}.LjDxcd{font-family:\"Google Sans\",Roboto,Arial,sans-serif;font-size:.875rem;font-weight:500;letter-spacing:.0107142857em;text-transform:none}.LjDxcd .VfPpkd-Jh9lGc{height:100%;position:absolute;overflow:hidden;width:100%;z-index:0}.LjDxcd .VfPpkd-vQzf8d,.LjDxcd .VfPpkd-kBDsod{position:relative}.LjDxcd:not(:disabled){color:#5f6368;color:var(--gm-neutraltextbutton-ink-color,#5f6368)}.LjDxcd:disabled{color:rgba(60,64,67,0.38);color:var(--gm-neutraltextbutton-disabled-ink-color,rgba(60,64,67,0.38))}.LjDxcd:hover:not(:disabled),.LjDxcd:active:not(:disabled),.LjDxcd:not(.VfPpkd-ksKsZd-mWPk3d):focus:not(:disabled),.LjDxcd.VfPpkd-ksKsZd-mWPk3d-OWXEXe-AHe6Kc-XpnDCe:not(:disabled){color:#202124;color:var(--gm-neutraltextbutton-ink-color--stateful,#202124)}.LjDxcd .VfPpkd-Jh9lGc::before,.LjDxcd .VfPpkd-Jh9lGc::after{background-color:#5f6368;background-color:var(--gm-neutraltextbutton-state-color,#5f6368)}.LjDxcd:hover .VfPpkd-Jh9lGc::before{opacity:.04}.LjDxcd.VfPpkd-ksKsZd-mWPk3d-OWXEXe-AHe6Kc-XpnDCe .VfPpkd-Jh9lGc::before,.LjDxcd:not(.VfPpkd-ksKsZd-mWPk3d):focus .VfPpkd-Jh9lGc::before{-webkit-transition-duration:75ms;transition-duration:75ms;opacity:.12}.LjDxcd:not(.VfPpkd-ksKsZd-mWPk3d) .VfPpkd-Jh9lGc::after{-webkit-transition:opacity 150ms linear;transition:opacity 150ms linear}.LjDxcd:not(.VfPpkd-ksKsZd-mWPk3d):active .VfPpkd-Jh9lGc::after{-webkit-transition-duration:75ms;transition-duration:75ms;opacity:.12}.LjDxcd.VfPpkd-ksKsZd-mWPk3d{--mdc-ripple-fg-opacity:.12}.DuMIQc{padding:0 24px 0 24px}.P62QJc{padding:0 23px 0 23px;border-width:1px}.P62QJc .VfPpkd-Jh9lGc{top:-1px;left:-1px;border:1px solid transparent}.P62QJc .VfPpkd-RLmnJb{left:-1px;width:-webkit-calc(100% + 2*1px);width:calc(100% + 2*1px)}.yHy1rc{z-index:0}.yHy1rc::before{z-index:-1}.yHy1rc::after{z-index:-1}.yHy1rc:disabled,.fzRBVc:disabled{color:rgba(60,64,67,0.38);color:var(--gm-iconbutton-disabled-ink-color,rgba(60,64,67,0.38))}.WpHeLc{height:100%;left:0;position:absolute;top:0;width:100%;outline:none}[dir=rtl] .HDnnrf .VfPpkd-kBDsod,.HDnnrf .VfPpkd-kBDsod[dir=rtl],[dir=rtl] .QDwDD,.QDwDD[dir=rtl]{-webkit-transform:scaleX(-1);transform:scaleX(-1)}.VfPpkd-LgbsSe-OWXEXe-pvxB9-WPi0i-FxcSnc{will-change:unset}.VfPpkd-BFbNVe-bF1uUb{position:absolute;-webkit-border-radius:inherit;border-radius:inherit;opacity:0;pointer-events:none;-webkit-transition:opacity 280ms cubic-bezier(0.4,0,0.2,1);transition:opacity 280ms cubic-bezier(0.4,0,0.2,1);background-color:#fff}.NZp2ef{background-color:#e8eaed}.kFwPee{height:100%}.ydMMEb{width:100%}.SSPGKf{display:block;overflow-y:hidden;z-index:1}.eejsDc{overflow-y:auto;-webkit-overflow-scrolling:touch}@keyframes primary-indeterminate-translate{0%{-webkit-transform:translateX(-145.166611%);transform:translateX(-145.166611%)}20%{-webkit-animation-timing-function:cubic-bezier(.5,0,.701732,.495819);animation-timing-function:cubic-bezier(.5,0,.701732,.495819);-webkit-transform:translateX(-145.166611%);transform:translateX(-145.166611%)}59.15%{-webkit-animation-timing-function:cubic-bezier(.302435,.381352,.55,.956352);animation-timing-function:cubic-bezier(.302435,.381352,.55,.956352);-webkit-transform:translateX(-61.495191%);transform:translateX(-61.495191%)}to{-webkit-transform:translateX(55.444446%);transform:translateX(55.444446%)}}@-webkit-keyframes primary-indeterminate-translate{0%{-webkit-transform:translateX(-145.166611%);transform:translateX(-145.166611%)}20%{-webkit-animation-timing-function:cubic-bezier(.5,0,.701732,.495819);animation-timing-function:cubic-bezier(.5,0,.701732,.495819);-webkit-transform:translateX(-145.166611%);transform:translateX(-145.166611%)}59.15%{-webkit-animation-timing-function:cubic-bezier(.302435,.381352,.55,.956352);animation-timing-function:cubic-bezier(.302435,.381352,.55,.956352);-webkit-transform:translateX(-61.495191%);transform:translateX(-61.495191%)}to{-webkit-transform:translateX(55.444446%);transform:translateX(55.444446%)}}@keyframes primary-indeterminate-translate-reverse{0%{-webkit-transform:translateX(145.166611%);transform:translateX(145.166611%)}20%{-webkit-animation-timing-function:cubic-bezier(.5,0,.701732,.495819);animation-timing-function:cubic-bezier(.5,0,.701732,.495819);-webkit-transform:translateX(145.166611%);transform:translateX(145.166611%)}59.15%{-webkit-animation-timing-function:cubic-bezier(.302435,.381352,.55,.956352);animation-timing-function:cubic-bezier(.302435,.381352,.55,.956352);-webkit-transform:translateX(61.495191%);transform:translateX(61.495191%)}to{-webkit-transform:translateX(-55.4444461%);transform:translateX(-55.4444461%)}}@-webkit-keyframes primary-indeterminate-translate-reverse{0%{-webkit-transform:translateX(145.166611%);transform:translateX(145.166611%)}20%{-webkit-animation-timing-function:cubic-bezier(.5,0,.701732,.495819);animation-timing-function:cubic-bezier(.5,0,.701732,.495819);-webkit-transform:translateX(145.166611%);transform:translateX(145.166611%)}59.15%{-webkit-animation-timing-function:cubic-bezier(.302435,.381352,.55,.956352);animation-timing-function:cubic-bezier(.302435,.381352,.55,.956352);-webkit-transform:translateX(61.495191%);transform:translateX(61.495191%)}to{-webkit-transform:translateX(-55.4444461%);transform:translateX(-55.4444461%)}}@keyframes primary-indeterminate-scale{0%{-webkit-transform:scaleX(.08);transform:scaleX(.08)}36.65%{-webkit-animation-timing-function:cubic-bezier(.334731,.124820,.785844,1);animation-timing-function:cubic-bezier(.334731,.124820,.785844,1);-webkit-transform:scaleX(.08);transform:scaleX(.08)}69.15%{-webkit-animation-timing-function:cubic-bezier(.06,.11,.6,1);animation-timing-function:cubic-bezier(.06,.11,.6,1);-webkit-transform:scaleX(.661479);transform:scaleX(.661479)}to{-webkit-transform:scaleX(.08);transform:scaleX(.08)}}@-webkit-keyframes primary-indeterminate-scale{0%{-webkit-transform:scaleX(.08);transform:scaleX(.08)}36.65%{-webkit-animation-timing-function:cubic-bezier(.334731,.124820,.785844,1);animation-timing-function:cubic-bezier(.334731,.124820,.785844,1);-webkit-transform:scaleX(.08);transform:scaleX(.08)}69.15%{-webkit-animation-timing-function:cubic-bezier(.06,.11,.6,1);animation-timing-function:cubic-bezier(.06,.11,.6,1);-webkit-transform:scaleX(.661479);transform:scaleX(.661479)}to{-webkit-transform:scaleX(.08);transform:scaleX(.08)}}@keyframes auxiliary-indeterminate-translate{0%{-webkit-animation-timing-function:cubic-bezier(.15,0,.515058,.409685);animation-timing-function:cubic-bezier(.15,0,.515058,.409685);-webkit-transform:translateX(-54.888891%);transform:translateX(-54.888891%)}25%{-webkit-animation-timing-function:cubic-bezier(.310330,.284058,.8,.733712);animation-timing-function:cubic-bezier(.310330,.284058,.8,.733712);-webkit-transform:translateX(-17.236978%);transform:translateX(-17.236978%)}48.35%{-webkit-animation-timing-function:cubic-bezier(.4,.627035,.6,.902026);animation-timing-function:cubic-bezier(.4,.627035,.6,.902026);-webkit-transform:translateX(29.497274%);transform:translateX(29.497274%)}to{-webkit-transform:translateX(105.388891%);transform:translateX(105.388891%)}}@-webkit-keyframes auxiliary-indeterminate-translate{0%{-webkit-animation-timing-function:cubic-bezier(.15,0,.515058,.409685);animation-timing-function:cubic-bezier(.15,0,.515058,.409685);-webkit-transform:translateX(-54.888891%);transform:translateX(-54.888891%)}25%{-webkit-animation-timing-function:cubic-bezier(.310330,.284058,.8,.733712);animation-timing-function:cubic-bezier(.310330,.284058,.8,.733712);-webkit-transform:translateX(-17.236978%);transform:translateX(-17.236978%)}48.35%{-webkit-animation-timing-function:cubic-bezier(.4,.627035,.6,.902026);animation-timing-function:cubic-bezier(.4,.627035,.6,.902026);-webkit-transform:translateX(29.497274%);transform:translateX(29.497274%)}to{-webkit-transform:translateX(105.388891%);transform:translateX(105.388891%)}}@keyframes auxiliary-indeterminate-translate-reverse{0%{-webkit-animation-timing-function:cubic-bezier(.15,0,.515058,.409685);animation-timing-function:cubic-bezier(.15,0,.515058,.409685);-webkit-transform:translateX(54.888891%);transform:translateX(54.888891%)}25%{-webkit-animation-timing-function:cubic-bezier(.310330,.284058,.8,.733712);animation-timing-function:cubic-bezier(.310330,.284058,.8,.733712);-webkit-transform:translateX(17.236978%);transform:translateX(17.236978%)}48.35%{-webkit-animation-timing-function:cubic-bezier(.4,.627035,.6,.902026);animation-timing-function:cubic-bezier(.4,.627035,.6,.902026);-webkit-transform:translateX(-29.497274%);transform:translateX(-29.497274%)}to{-webkit-transform:translateX(-105.388891%);transform:translateX(-105.388891%)}}@-webkit-keyframes auxiliary-indeterminate-translate-reverse{0%{-webkit-animation-timing-function:cubic-bezier(.15,0,.515058,.409685);animation-timing-function:cubic-bezier(.15,0,.515058,.409685);-webkit-transform:translateX(54.888891%);transform:translateX(54.888891%)}25%{-webkit-animation-timing-function:cubic-bezier(.310330,.284058,.8,.733712);animation-timing-function:cubic-bezier(.310330,.284058,.8,.733712);-webkit-transform:translateX(17.236978%);transform:translateX(17.236978%)}48.35%{-webkit-animation-timing-function:cubic-bezier(.4,.627035,.6,.902026);animation-timing-function:cubic-bezier(.4,.627035,.6,.902026);-webkit-transform:translateX(-29.497274%);transform:translateX(-29.497274%)}to{-webkit-transform:translateX(-105.388891%);transform:translateX(-105.388891%)}}@keyframes auxiliary-indeterminate-scale{0%{-webkit-animation-timing-function:cubic-bezier(.205028,.057051,.576610,.453971);animation-timing-function:cubic-bezier(.205028,.057051,.576610,.453971);-webkit-transform:scaleX(.08);transform:scaleX(.08)}19.15%{-webkit-animation-timing-function:cubic-bezier(.152313,.196432,.648374,1.004315);animation-timing-function:cubic-bezier(.152313,.196432,.648374,1.004315);-webkit-transform:scaleX(.457104);transform:scaleX(.457104)}44.15%{-webkit-animation-timing-function:cubic-bezier(.257759,.003163,.211762,1.381790);animation-timing-function:cubic-bezier(.257759,.003163,.211762,1.381790);-webkit-transform:scaleX(.727960);transform:scaleX(.727960)}to{-webkit-transform:scaleX(.08);transform:scaleX(.08)}}@-webkit-keyframes auxiliary-indeterminate-scale{0%{-webkit-animation-timing-function:cubic-bezier(.205028,.057051,.576610,.453971);animation-timing-function:cubic-bezier(.205028,.057051,.576610,.453971);-webkit-transform:scaleX(.08);transform:scaleX(.08)}19.15%{-webkit-animation-timing-function:cubic-bezier(.152313,.196432,.648374,1.004315);animation-timing-function:cubic-bezier(.152313,.196432,.648374,1.004315);-webkit-transform:scaleX(.457104);transform:scaleX(.457104)}44.15%{-webkit-animation-timing-function:cubic-bezier(.257759,.003163,.211762,1.381790);animation-timing-function:cubic-bezier(.257759,.003163,.211762,1.381790);-webkit-transform:scaleX(.727960);transform:scaleX(.727960)}to{-webkit-transform:scaleX(.08);transform:scaleX(.08)}}@keyframes buffering{to{-webkit-transform:translateX(-10px);transform:translateX(-10px)}}@-webkit-keyframes buffering{to{-webkit-transform:translateX(-10px);transform:translateX(-10px)}}@keyframes buffering-reverse{to{-webkit-transform:translateX(10px);transform:translateX(10px)}}@-webkit-keyframes buffering-reverse{to{-webkit-transform:translateX(10px);transform:translateX(10px)}}@keyframes indeterminate-translate-ie{0%{-webkit-transform:translateX(-100%);transform:translateX(-100%)}to{-webkit-transform:translateX(100%);transform:translateX(100%)}}@keyframes indeterminate-translate-reverse-ie{0%{-webkit-transform:translateX(100%);transform:translateX(100%)}to{-webkit-transform:translateX(-100%);transform:translateX(-100%)}}.sZwd7c{height:4px;overflow:hidden;position:relative;-webkit-transform:translateZ(0);transform:translateZ(0);-webkit-transition:opacity 250ms linear;transition:opacity 250ms linear;width:100%}.w2zcLc{position:absolute}.xcNBHc,.MyvhI,.l3q5xe{height:100%;position:absolute;width:100%}.w2zcLc{-webkit-transform-origin:top left;transform-origin:top left;transition:transform 250ms ease}.MyvhI{-webkit-transform-origin:top left;transform-origin:top left;-webkit-transition:-webkit-transform 250ms ease;transition:transform 250ms ease;-webkit-animation:none;animation:none}.l3q5xe{-webkit-animation:none;animation:none}.w2zcLc{background-color:#e6e6e6;height:100%;-webkit-transform-origin:top left;transform-origin:top left;-webkit-transition:-webkit-transform 250ms ease;-webkit-transition:transform 250ms ease;transition:transform 250ms ease;width:100%}.TKVRUb{-webkit-transform:scaleX(0);transform:scaleX(0)}.sUoeld{visibility:hidden}.l3q5xe{background-color:#000;display:inline-block}.xcNBHc{-webkit-background-size:10px 4px;background-size:10px 4px;background-repeat:repeat-x;background-image:url('data:image/svg+xml;charset=UTF-8,%3Csvg%20version%3D%271.1%27%20xmlns%3D%27http%3A%2F%2Fwww.w3.org%2F2000%2Fsvg%27%20xmlns%3Axlink%3D%27http%3A%2F%2Fwww.w3.org%2F1999%2Fxlink%27%20x%3D%270px%27%20y%3D%270px%27%20enable-background%3D%27new%200%200%205%202%27%20xml%3Aspace%3D%27preserve%27%20viewBox%3D%270%200%205%202%27%20preserveAspectRatio%3D%27none%20slice%27%3E%3Ccircle%20cx%3D%271%27%20cy%3D%271%27%20r%3D%271%27%20fill%3D%27%23e6e6e6%27%2F%3E%3C%2Fsvg%3E');visibility:hidden}.sZwd7c.B6Vhqe .MyvhI{-webkit-transition:none;transition:none}.sZwd7c.B6Vhqe .TKVRUb{-webkit-animation:primary-indeterminate-translate 2s infinite linear;animation:primary-indeterminate-translate 2s infinite linear}.sZwd7c.B6Vhqe .TKVRUb>.l3q5xe{-webkit-animation:primary-indeterminate-scale 2s infinite linear;animation:primary-indeterminate-scale 2s infinite linear}.sZwd7c.B6Vhqe .sUoeld{-webkit-animation:auxiliary-indeterminate-translate 2s infinite linear;animation:auxiliary-indeterminate-translate 2s infinite linear;visibility:visible}.sZwd7c.B6Vhqe .sUoeld>.l3q5xe{-webkit-animation:auxiliary-indeterminate-scale 2s infinite linear;animation:auxiliary-indeterminate-scale 2s infinite linear}.sZwd7c.B6Vhqe.ieri7c .l3q5xe{-webkit-transform:scaleX(0.45);transform:scaleX(0.45)}.sZwd7c.B6Vhqe.ieri7c .sUoeld{-webkit-animation:none;animation:none;visibility:hidden}.sZwd7c.B6Vhqe.ieri7c .TKVRUb{-webkit-animation:indeterminate-translate-ie 2s infinite ease-out;animation:indeterminate-translate-ie 2s infinite ease-out}.sZwd7c.B6Vhqe.ieri7c .TKVRUb>.l3q5xe,.sZwd7c.B6Vhqe.ieri7c .sUoeld>.l3q5xe{-webkit-animation:none;animation:none}.sZwd7c.juhVM .w2zcLc,.sZwd7c.juhVM .MyvhI{right:0;-webkit-transform-origin:center right;transform-origin:center right}.sZwd7c.juhVM .TKVRUb{-webkit-animation-name:primary-indeterminate-translate-reverse;animation-name:primary-indeterminate-translate-reverse}.sZwd7c.juhVM .sUoeld{-webkit-animation-name:auxiliary-indeterminate-translate-reverse;animation-name:auxiliary-indeterminate-translate-reverse}.sZwd7c.juhVM.ieri7c .TKVRUb{-webkit-animation-name:indeterminate-translate-reverse-ie;animation-name:indeterminate-translate-reverse-ie}.sZwd7c.qdulke{opacity:0}.sZwd7c.jK7moc .sUoeld,.sZwd7c.jK7moc .TKVRUb,.sZwd7c.jK7moc .sUoeld>.l3q5xe,.sZwd7c.jK7moc .TKVRUb>.l3q5xe{-webkit-animation-play-state:paused;animation-play-state:paused}.sZwd7c.D6TUi .xcNBHc{-webkit-animation:buffering 250ms infinite linear;animation:buffering 250ms infinite linear;visibility:visible}.sZwd7c.D6TUi.juhVM .xcNBHc{-webkit-animation:buffering-reverse 250ms infinite linear;animation:buffering-reverse 250ms infinite linear}.rFrNMe{-webkit-user-select:none;-webkit-tap-highlight-color:transparent;display:inline-block;outline:none;padding-bottom:8px;width:200px}.aCsJod{height:40px;position:relative;vertical-align:top}.aXBtI{display:-webkit-box;display:-webkit-flex;display:flex;position:relative;top:14px}.Xb9hP{display:-webkit-box;display:-webkit-flex;display:flex;-webkit-box-flex:1;box-flex:1;-webkit-flex-grow:1;flex-grow:1;-webkit-flex-shrink:1;flex-shrink:1;min-width:0%;position:relative}.A37UZe{-webkit-box-sizing:border-box;box-sizing:border-box;height:24px;line-height:24px;position:relative}.qgcB3c:not(:empty){padding-right:12px}.sxyYjd:not(:empty){padding-left:12px}.whsOnd{-webkit-box-flex:1;box-flex:1;-webkit-flex-grow:1;flex-grow:1;-webkit-flex-shrink:1;flex-shrink:1;background-color:transparent;border:none;display:block;font:400 16px Roboto,RobotoDraft,Helvetica,Arial,sans-serif;height:24px;line-height:24px;margin:0;min-width:0%;outline:none;padding:0;z-index:0}.rFrNMe.dm7YTc .whsOnd{color:#fff}.whsOnd:invalid,.whsOnd:-moz-submit-invalid,.whsOnd:-moz-ui-invalid{-webkit-box-shadow:none;box-shadow:none}.I0VJ4d>.whsOnd::-ms-clear,.I0VJ4d>.whsOnd::-ms-reveal{display:none}.i9lrp{background-color:rgba(0,0,0,0.12);bottom:-2px;height:1px;left:0;margin:0;padding:0;position:absolute;width:100%}.i9lrp:before{content:\"\";position:absolute;top:0;bottom:-2px;left:0;right:0;border-bottom:1px solid rgba(0,0,0,0);pointer-events:none}.rFrNMe.dm7YTc .i9lrp{background-color:rgba(255,255,255,0.70)}.OabDMe{-webkit-transform:scaleX(0);transform:scaleX(0);background-color:#4285f4;bottom:-2px;height:2px;left:0;margin:0;padding:0;position:absolute;width:100%}.rFrNMe.dm7YTc .OabDMe{background-color:#a1c2fa}.rFrNMe.k0tWj .i9lrp,.rFrNMe.k0tWj .OabDMe{background-color:#d50000;height:2px}.rFrNMe.k0tWj.dm7YTc .i9lrp,.rFrNMe.k0tWj.dm7YTc .OabDMe{background-color:#e06055}.whsOnd[disabled]{color:rgba(0,0,0,0.38)}.rFrNMe.dm7YTc .whsOnd[disabled]{color:rgba(255,255,255,0.50)}.whsOnd[disabled]~.i9lrp{background:none;border-bottom:1px dotted rgba(0,0,0,0.38)}.OabDMe.Y2Zypf{-webkit-animation:quantumWizPaperInputRemoveUnderline .3s cubic-bezier(0.4,0,0.2,1);animation:quantumWizPaperInputRemoveUnderline .3s cubic-bezier(0.4,0,0.2,1)}.rFrNMe.u3bW4e .OabDMe{-webkit-animation:quantumWizPaperInputAddUnderline .3s cubic-bezier(0.4,0,0.2,1);animation:quantumWizPaperInputAddUnderline .3s cubic-bezier(0.4,0,0.2,1);-webkit-transform:scaleX(1);transform:scaleX(1)}.rFrNMe.sdJrJc>.aCsJod{padding-top:24px}.AxOyFc{-webkit-transform-origin:bottom left;transform-origin:bottom left;-webkit-transition:all .3s cubic-bezier(0.4,0,0.2,1);transition:all .3s cubic-bezier(0.4,0,0.2,1);-webkit-transition-property:color,bottom,transform;transition-property:color,bottom,transform;color:rgba(0,0,0,0.38);font:400 16px Roboto,RobotoDraft,Helvetica,Arial,sans-serif;font-size:16px;pointer-events:none;position:absolute;bottom:3px;left:0;width:100%}.whsOnd:not([disabled]):focus~.AxOyFc,.whsOnd[badinput=\"true\"]~.AxOyFc,.rFrNMe.CDELXb .AxOyFc,.rFrNMe.dLgj8b .AxOyFc{-webkit-transform:scale(.75) translateY(-39px);transform:scale(.75) translateY(-39px)}.whsOnd:not([disabled]):focus~.AxOyFc{color:#4285f4}.rFrNMe.dm7YTc .whsOnd:not([disabled]):focus~.AxOyFc{color:#a1c2fa}.rFrNMe.k0tWj .whsOnd:not([disabled]):focus~.AxOyFc{color:#d50000}.ndJi5d{color:rgba(0,0,0,0.38);font:400 16px Roboto,RobotoDraft,Helvetica,Arial,sans-serif;max-width:100%;overflow:hidden;pointer-events:none;position:absolute;text-overflow:ellipsis;top:2px;left:0;white-space:nowrap}.rFrNMe.CDELXb .ndJi5d{display:none}.K0Y8Se{-webkit-tap-highlight-color:transparent;font:400 12px Roboto,RobotoDraft,Helvetica,Arial,sans-serif;height:16px;margin-left:auto;padding-left:16px;padding-top:8px;pointer-events:none;opacity:.3;white-space:nowrap}.rFrNMe.dm7YTc .AxOyFc,.rFrNMe.dm7YTc .K0Y8Se,.rFrNMe.dm7YTc .ndJi5d{color:rgba(255,255,255,0.70)}.rFrNMe.Tyc9J{padding-bottom:4px}.dEOOab,.ovnfwe:not(:empty){-webkit-tap-highlight-color:transparent;-webkit-flex:1 1 auto;flex:1 1 auto;font:400 12px Roboto,RobotoDraft,Helvetica,Arial,sans-serif;min-height:16px;padding-top:8px}.LXRPh{display:-webkit-box;display:-webkit-flex;display:flex}.ovnfwe{pointer-events:none}.dEOOab{color:#d50000}.rFrNMe.dm7YTc .dEOOab,.rFrNMe.dm7YTc.k0tWj .whsOnd:not([disabled]):focus~.AxOyFc{color:#e06055}.ovnfwe{opacity:.3}.rFrNMe.dm7YTc .ovnfwe{color:rgba(255,255,255,0.70);opacity:1}.rFrNMe.k0tWj .ovnfwe,.rFrNMe:not(.k0tWj) .ovnfwe:not(:empty)+.dEOOab{display:none}@keyframes quantumWizPaperInputRemoveUnderline{0%{-webkit-transform:scaleX(1);transform:scaleX(1);opacity:1}to{-webkit-transform:scaleX(1);transform:scaleX(1);opacity:0}}@-webkit-keyframes quantumWizPaperInputRemoveUnderline{0%{-webkit-transform:scaleX(1);transform:scaleX(1);opacity:1}to{-webkit-transform:scaleX(1);transform:scaleX(1);opacity:0}}@keyframes quantumWizPaperInputAddUnderline{0%{-webkit-transform:scaleX(0);transform:scaleX(0)}to{-webkit-transform:scaleX(1);transform:scaleX(1)}}@-webkit-keyframes quantumWizPaperInputAddUnderline{0%{-webkit-transform:scaleX(0);transform:scaleX(0)}to{-webkit-transform:scaleX(1);transform:scaleX(1)}}.d1dlne,.Ax4B8{display:-webkit-box;display:-webkit-flex;display:flex;-webkit-box-flex:1;-webkit-flex:1;flex:1}.L6J0Pc{-webkit-box-flex:1;-webkit-flex:1;flex:1}.v5yLH,.v5yLH .d1dlne,.v5yLH .Ax4B8{display:inline}.BBOA1c{position:absolute;height:4px;bottom:1px;left:1px;right:1px;overflow-x:hidden;background-color:#fff;display:none}.L6J0Pc.ge6pde .BBOA1c{display:block}.u3WVdc{position:absolute;right:0;left:0;z-index:1;outline:none;overflow-y:auto;-webkit-overflow-scrolling:touch}.u3WVdc[data-childcount=\"0\"],.u3WVdc[data-expanded=\"false\"]{display:none}.Cigftf{position:relative;top:-24px}.Ax4B8{position:relative}.yNVtPc{position:absolute;left:0;width:100%;opacity:.3}.Ax4B8,.yNVtPc{background-color:transparent;color:inherit;font:inherit;line-height:inherit}.Ax4B8::-ms-clear{display:none}.d1dlne,.Ax4B8,.yNVtPc{height:100%}.umNhxf{overflow-x:hidden;text-overflow:ellipsis;white-space:nowrap}.MkjOTb{cursor:default}.VOEIyf,.VOEIyf .jBmls,.oKubKe{font:400 16px Roboto,RobotoDraft,Helvetica,Arial,sans-serif;color:#222}.VOEIyf{display:inline-block;height:34px;line-height:34px}.IjMZm{display:inline-block;height:auto;line-height:auto}.VOEIyf .ZAGvjd{border-color:transparent;border-style:solid;border-width:0 1px;outline:none}.oKubKe,.VOEIyf .ZAGvjd{-webkit-box-sizing:border-box;box-sizing:border-box;padding:0 16px}.VOEIyf .jBmls{-webkit-box-sizing:border-box;box-sizing:border-box;padding:8px 0;border:1px solid rgba(0,0,0,.2);background-color:#ffffff;-webkit-border-radius:0 0 2px 2px;border-radius:0 0 2px 2px;-webkit-box-shadow:0 8px 10px 1px rgba(0,0,0,0.14),0 3px 14px 2px rgba(0,0,0,0.12),0 5px 5px -3px rgba(0,0,0,0.2);box-shadow:0 8px 10px 1px rgba(0,0,0,0.14),0 3px 14px 2px rgba(0,0,0,0.12),0 5px 5px -3px rgba(0,0,0,0.2)}.oKubKe{line-height:40px}.oKubKe[aria-selected=\"true\"]{background-color:#eeeeee}.oKubKe.RDPZE{color:rgba(0,0,0,0.38)}.SmXtye{margin:7px 0;border-top:1px solid #dadada}.D4D33b{overflow-x:hidden;text-overflow:ellipsis;white-space:nowrap}.TMT2L,.Mxgq5c{height:100%}.g4E9Cb{height:100%;color:inherit;display:block;font:inherit;line-height:inherit}.g4E9Cb .ZAGvjd{padding-left:0;padding-right:0}.g4E9Cb .jBmls{left:-1px;right:-1px}.MCcOAc{bottom:0;left:0;position:absolute;right:0;top:0;overflow:hidden;z-index:1}.MCcOAc>.pGxpHc{-webkit-flex-shrink:0;flex-shrink:0;-webkit-box-flex:0;box-flex:0;-webkit-flex-grow:0;flex-grow:0}.IqBfM>.HLlAHb{-webkit-align-items:center;align-items:center;display:-webkit-box;display:-webkit-flex;display:flex;height:60px;position:absolute;right:16px;top:0;z-index:9999}.VUoKZ{display:none;position:absolute;top:0;left:0;right:0;height:3px;z-index:1001}.TRHLAc{position:absolute;top:0;left:0;width:25%;height:100%;background:#68e;-webkit-transform:scaleX(0);transform:scaleX(0);-webkit-transform-origin:0 0;transform-origin:0 0}.mIM26c .VUoKZ{display:block}.mIM26c .TRHLAc{-webkit-animation:boqChromeapiPageProgressAnimation 1s infinite;animation:boqChromeapiPageProgressAnimation 1s infinite;-webkit-animation-timing-function:cubic-bezier(0.4,0.0,1,1);animation-timing-function:cubic-bezier(0.4,0.0,1,1);-webkit-animation-delay:.1s;animation-delay:.1s}.ghyPEc .VUoKZ{position:fixed}@keyframes boqChromeapiPageProgressAnimation{0%{-webkit-transform:scaleX(0);transform:scaleX(0)}50%{-webkit-transform:scaleX(5);transform:scaleX(5)}to{-webkit-transform:scaleX(5) translateX(100%);transform:scaleX(5) translateX(100%)}}@-webkit-keyframes boqChromeapiPageProgressAnimation{0%{-webkit-transform:scaleX(0);transform:scaleX(0)}50%{-webkit-transform:scaleX(5);transform:scaleX(5)}to{-webkit-transform:scaleX(5) translateX(100%);transform:scaleX(5) translateX(100%)}}@keyframes quantumWizBoxInkSpread{0%{-webkit-transform:translate(-50%,-50%) scale(.2);transform:translate(-50%,-50%) scale(.2)}to{-webkit-transform:translate(-50%,-50%) scale(2.2);transform:translate(-50%,-50%) scale(2.2)}}@-webkit-keyframes quantumWizBoxInkSpread{0%{-webkit-transform:translate(-50%,-50%) scale(.2);transform:translate(-50%,-50%) scale(.2)}to{-webkit-transform:translate(-50%,-50%) scale(2.2);transform:translate(-50%,-50%) scale(2.2)}}@keyframes quantumWizIconFocusPulse{0%{-webkit-transform:translate(-50%,-50%) scale(1.5);transform:translate(-50%,-50%) scale(1.5);opacity:0}to{-webkit-transform:translate(-50%,-50%) scale(2);transform:translate(-50%,-50%) scale(2);opacity:1}}@-webkit-keyframes quantumWizIconFocusPulse{0%{-webkit-transform:translate(-50%,-50%) scale(1.5);transform:translate(-50%,-50%) scale(1.5);opacity:0}to{-webkit-transform:translate(-50%,-50%) scale(2);transform:translate(-50%,-50%) scale(2);opacity:1}}@keyframes quantumWizRadialInkSpread{0%{-webkit-transform:scale(1.5);transform:scale(1.5);opacity:0}to{-webkit-transform:scale(2.5);transform:scale(2.5);opacity:1}}@-webkit-keyframes quantumWizRadialInkSpread{0%{-webkit-transform:scale(1.5);transform:scale(1.5);opacity:0}to{-webkit-transform:scale(2.5);transform:scale(2.5);opacity:1}}@keyframes quantumWizRadialInkFocusPulse{0%{-webkit-transform:scale(2);transform:scale(2);opacity:0}to{-webkit-transform:scale(2.5);transform:scale(2.5);opacity:1}}@-webkit-keyframes quantumWizRadialInkFocusPulse{0%{-webkit-transform:scale(2);transform:scale(2);opacity:0}to{-webkit-transform:scale(2.5);transform:scale(2.5);opacity:1}}.O0WRkf{-webkit-user-select:none;-webkit-transition:background .2s .1s;transition:background .2s .1s;border:0;-webkit-border-radius:3px;border-radius:3px;cursor:pointer;display:inline-block;font-size:14px;font-weight:500;min-width:4em;outline:none;overflow:hidden;position:relative;text-align:center;text-transform:uppercase;-webkit-tap-highlight-color:transparent;z-index:0}.A9jyad{font-size:13px;line-height:16px}.zZhnYe{-webkit-transition:box-shadow .28s cubic-bezier(0.4,0.0,0.2,1);transition:box-shadow .28s cubic-bezier(0.4,0.0,0.2,1);background:#dfdfdf;-webkit-box-shadow:0 2px 2px 0 rgba(0,0,0,0.14),0 3px 1px -2px rgba(0,0,0,0.12),0 1px 5px 0 rgba(0,0,0,0.2);box-shadow:0 2px 2px 0 rgba(0,0,0,0.14),0 3px 1px -2px rgba(0,0,0,0.12),0 1px 5px 0 rgba(0,0,0,0.2)}.zZhnYe.qs41qe{-webkit-transition:box-shadow .28s cubic-bezier(0.4,0.0,0.2,1);transition:box-shadow .28s cubic-bezier(0.4,0.0,0.2,1);-webkit-transition:background .8s;transition:background .8s;-webkit-box-shadow:0 8px 10px 1px rgba(0,0,0,0.14),0 3px 14px 2px rgba(0,0,0,0.12),0 5px 5px -3px rgba(0,0,0,0.2);box-shadow:0 8px 10px 1px rgba(0,0,0,0.14),0 3px 14px 2px rgba(0,0,0,0.12),0 5px 5px -3px rgba(0,0,0,0.2)}.e3Duub,.e3Duub a,.e3Duub a:hover,.e3Duub a:link,.e3Duub a:visited{background:#4285f4;color:#fff}.HQ8yf,.HQ8yf a{color:#4285f4}.UxubU,.UxubU a{color:#fff}.ZFr60d{position:absolute;top:0;right:0;bottom:0;left:0;background-color:transparent}.O0WRkf.u3bW4e .ZFr60d{background-color:rgba(0,0,0,0.12)}.UxubU.u3bW4e .ZFr60d{background-color:rgba(255,255,255,0.30)}.e3Duub.u3bW4e .ZFr60d{background-color:rgba(0,0,0,0.122)}.HQ8yf.u3bW4e .ZFr60d{background-color:rgba(66,133,244,0.149)}.Vwe4Vb{-webkit-transform:translate(-50%,-50%) scale(0);transform:translate(-50%,-50%) scale(0);-webkit-transition:opacity .2s ease,visibility 0s ease .2s,transform 0s ease .2s;transition:opacity .2s ease,visibility 0s ease .2s,transform 0s ease .2s;-webkit-transition:opacity .2s ease,visibility 0s ease .2s,-webkit-transform 0s ease .2s;transition:opacity .2s ease,visibility 0s ease .2s,-webkit-transform 0s ease .2s;-webkit-background-size:cover;background-size:cover;left:0;opacity:0;pointer-events:none;position:absolute;top:0;visibility:hidden}.O0WRkf.qs41qe .Vwe4Vb{-webkit-transform:translate(-50%,-50%) scale(2.2);transform:translate(-50%,-50%) scale(2.2);opacity:1;visibility:visible}.O0WRkf.qs41qe.M9Bg4d .Vwe4Vb{-webkit-transition:-webkit-transform .3s cubic-bezier(0.0,0.0,0.2,1),opacity .2s cubic-bezier(0.0,0.0,0.2,1);transition:-webkit-transform .3s cubic-bezier(0.0,0.0,0.2,1),opacity .2s cubic-bezier(0.0,0.0,0.2,1);-webkit-transition:transform .3s cubic-bezier(0.0,0.0,0.2,1),opacity .2s cubic-bezier(0.0,0.0,0.2,1);transition:transform .3s cubic-bezier(0.0,0.0,0.2,1),opacity .2s cubic-bezier(0.0,0.0,0.2,1)}.O0WRkf.j7nIZb .Vwe4Vb{-webkit-transform:translate(-50%,-50%) scale(2.2);transform:translate(-50%,-50%) scale(2.2);visibility:visible}.oG5Srb .Vwe4Vb,.zZhnYe .Vwe4Vb{background-image:radial-gradient(circle farthest-side,rgba(0,0,0,0.12),rgba(0,0,0,0.12) 80%,rgba(0,0,0,0) 100%)}.HQ8yf .Vwe4Vb{background-image:radial-gradient(circle farthest-side,rgba(66,133,244,0.251),rgba(66,133,244,0.251) 80%,rgba(66,133,244,0) 100%)}.e3Duub .Vwe4Vb{background-image:radial-gradient(circle farthest-side,#3367d6,#3367d6 80%,rgba(51,103,214,0) 100%)}.UxubU .Vwe4Vb{background-image:radial-gradient(circle farthest-side,rgba(255,255,255,0.30),rgba(255,255,255,0.30) 80%,rgba(255,255,255,0) 100%)}.O0WRkf.RDPZE{-webkit-box-shadow:none;box-shadow:none;color:rgba(68,68,68,0.502);cursor:default;fill:rgba(68,68,68,0.502)}.zZhnYe.RDPZE{background:rgba(153,153,153,0.102)}.UxubU.RDPZE{color:rgba(255,255,255,0.502);fill:rgba(255,255,255,0.502)}.UxubU.zZhnYe.RDPZE{background:rgba(204,204,204,0.102)}.CwaK9{position:relative}.RveJvd{display:inline-block;margin:.5em}.FKF6mc,.FKF6mc:focus{display:block;outline:none;text-decoration:none}.FKF6mc:visited{fill:inherit;stroke:inherit}.U26fgb.u3bW4e{outline:1px solid transparent}.mUbCce{-webkit-user-select:none;-webkit-transition:background .3s;transition:background .3s;border:0;-webkit-border-radius:50%;border-radius:50%;cursor:pointer;display:inline-block;-webkit-flex-shrink:0;flex-shrink:0;height:48px;outline:none;overflow:hidden;position:relative;text-align:center;-webkit-tap-highlight-color:transparent;width:48px;z-index:0}.mUbCce>.TpQm9d{height:48px;width:48px}.mUbCce.u3bW4e,.mUbCce.qs41qe,.mUbCce.j7nIZb{-webkit-transform:translateZ(0);-webkit-mask-image:-webkit-radial-gradient(circle,white 100%,black 100%)}.YYBxpf{-webkit-border-radius:0;border-radius:0;overflow:visible}.YYBxpf.u3bW4e,.YYBxpf.qs41qe,.YYBxpf.j7nIZb{-webkit-mask-image:none}.fKz7Od{color:rgba(0,0,0,0.54);fill:rgba(0,0,0,0.54)}.p9Nwte{color:rgba(255,255,255,0.749);fill:rgba(255,255,255,0.749)}.fKz7Od.u3bW4e{background-color:rgba(0,0,0,0.12)}.p9Nwte.u3bW4e{background-color:rgba(204,204,204,0.251)}.YYBxpf.u3bW4e{background-color:transparent}.VTBa7b{-webkit-transform:translate(-50%,-50%) scale(0);transform:translate(-50%,-50%) scale(0);-webkit-transition:opacity .2s ease,visibility 0s ease .2s,transform 0s ease .2s;transition:opacity .2s ease,visibility 0s ease .2s,transform 0s ease .2s;-webkit-transition:opacity .2s ease,visibility 0s ease .2s,-webkit-transform 0s ease .2s;transition:opacity .2s ease,visibility 0s ease .2s,-webkit-transform 0s ease .2s;-webkit-background-size:cover;background-size:cover;left:0;opacity:0;pointer-events:none;position:absolute;top:0;visibility:hidden}.YYBxpf.u3bW4e .VTBa7b{-webkit-animation:quantumWizIconFocusPulse .7s infinite alternate;animation:quantumWizIconFocusPulse .7s infinite alternate;height:100%;left:50%;top:50%;width:100%;visibility:visible}.mUbCce.qs41qe .VTBa7b{-webkit-transform:translate(-50%,-50%) scale(2.2);transform:translate(-50%,-50%) scale(2.2);opacity:1;visibility:visible}.mUbCce.qs41qe.M9Bg4d .VTBa7b{-webkit-transition:-webkit-transform .3s cubic-bezier(0.0,0.0,0.2,1),opacity .2s cubic-bezier(0.0,0.0,0.2,1);transition:-webkit-transform .3s cubic-bezier(0.0,0.0,0.2,1),opacity .2s cubic-bezier(0.0,0.0,0.2,1);-webkit-transition:transform .3s cubic-bezier(0.0,0.0,0.2,1),opacity .2s cubic-bezier(0.0,0.0,0.2,1);transition:transform .3s cubic-bezier(0.0,0.0,0.2,1),opacity .2s cubic-bezier(0.0,0.0,0.2,1)}.mUbCce.j7nIZb .VTBa7b{-webkit-transform:translate(-50%,-50%) scale(2.2);transform:translate(-50%,-50%) scale(2.2);visibility:visible}.fKz7Od .VTBa7b{background-image:radial-gradient(circle farthest-side,rgba(0,0,0,0.12),rgba(0,0,0,0.12) 80%,rgba(0,0,0,0) 100%)}.p9Nwte .VTBa7b{background-image:radial-gradient(circle farthest-side,rgba(204,204,204,0.251),rgba(204,204,204,0.251) 80%,rgba(204,204,204,0) 100%)}.mUbCce.RDPZE{color:rgba(0,0,0,0.26);fill:rgba(0,0,0,0.26);cursor:default}.p9Nwte.RDPZE{color:rgba(255,255,255,0.502);fill:rgba(255,255,255,0.502)}.xjKiLb{position:relative;top:50%}.xjKiLb>span{display:inline-block;position:relative}.fb0g6{position:relative}.C0oVfc{line-height:20px;min-width:88px}.C0oVfc .RveJvd{margin:8px}.llhEMd{-webkit-transition:opacity .15s cubic-bezier(0.4,0.0,0.2,1) .15s;transition:opacity .15s cubic-bezier(0.4,0.0,0.2,1) .15s;background-color:rgba(0,0,0,0.502);bottom:0;left:0;opacity:0;position:fixed;right:0;top:0;z-index:5000}.llhEMd.iWO5td{-webkit-transition:opacity .05s cubic-bezier(0.4,0.0,0.2,1);transition:opacity .05s cubic-bezier(0.4,0.0,0.2,1);opacity:1}.mjANdc{-webkit-transition:-webkit-transform .4s cubic-bezier(0.4,0.0,0.2,1);transition:-webkit-transform .4s cubic-bezier(0.4,0.0,0.2,1);-webkit-transition:transform .4s cubic-bezier(0.4,0.0,0.2,1);transition:transform .4s cubic-bezier(0.4,0.0,0.2,1);-webkit-box-align:center;box-align:center;-webkit-align-items:center;align-items:center;display:-webkit-box;display:-webkit-flex;display:flex;-webkit-box-orient:vertical;box-orient:vertical;-webkit-flex-direction:column;flex-direction:column;bottom:0;left:0;padding:0 5%;position:absolute;right:0;top:0}.x3wWge,.ONJhl{display:block;height:3em}.eEPege>.x3wWge,.eEPege>.ONJhl{-webkit-box-flex:1;box-flex:1;-webkit-flex-grow:1;flex-grow:1}.J9Nfi{-webkit-flex-shrink:1;flex-shrink:1;max-height:100%}.g3VIld{-webkit-box-align:stretch;box-align:stretch;-webkit-align-items:stretch;align-items:stretch;display:-webkit-box;display:-webkit-flex;display:flex;-webkit-box-orient:vertical;box-orient:vertical;-webkit-flex-direction:column;flex-direction:column;-webkit-transition:-webkit-transform .225s cubic-bezier(0.0,0.0,0.2,1);transition:-webkit-transform .225s cubic-bezier(0.0,0.0,0.2,1);-webkit-transition:transform .225s cubic-bezier(0.0,0.0,0.2,1);transition:transform .225s cubic-bezier(0.0,0.0,0.2,1);position:relative;background-color:#fff;-webkit-border-radius:2px;border-radius:2px;-webkit-box-shadow:0 12px 15px 0 rgba(0,0,0,0.24);box-shadow:0 12px 15px 0 rgba(0,0,0,0.24);max-width:24em;outline:1px solid transparent;overflow:hidden}.vcug3d .g3VIld{padding:0}.g3VIld.kdCdqc{-webkit-transition:-webkit-transform .15s cubic-bezier(0.4,0.0,1,1);transition:-webkit-transform .15s cubic-bezier(0.4,0.0,1,1);-webkit-transition:transform .15s cubic-bezier(0.4,0.0,1,1);transition:transform .15s cubic-bezier(0.4,0.0,1,1)}.Up8vH.CAwICe{-webkit-transform:scale(0.8);transform:scale(0.8)}.Up8vH.kdCdqc{-webkit-transform:scale(0.9);transform:scale(0.9)}.vcug3d{-webkit-box-align:stretch;box-align:stretch;-webkit-align-items:stretch;align-items:stretch;padding:0}.vcug3d>.g3VIld{-webkit-box-flex:2;box-flex:2;-webkit-flex-grow:2;flex-grow:2;-webkit-border-radius:0;border-radius:0;left:0;right:0;max-width:100%}.vcug3d>.ONJhl,.vcug3d>.x3wWge{-webkit-box-flex:0;box-flex:0;-webkit-flex-grow:0;flex-grow:0;height:0}.tOrNgd{display:-webkit-box;display:-webkit-flex;display:flex;-webkit-flex-shrink:0;flex-shrink:0;font:500 20px Roboto,RobotoDraft,Helvetica,Arial,sans-serif;padding:24px 24px 20px 24px}.vcug3d .tOrNgd{display:none}.TNczib{box-pack:justify;-webkit-box-pack:justify;-webkit-justify-content:space-between;justify-content:space-between;-webkit-flex-shrink:0;flex-shrink:0;-webkit-box-shadow:0 3px 4px 0 rgba(0,0,0,0.24);box-shadow:0 3px 4px 0 rgba(0,0,0,0.24);background-color:#455a64;color:white;display:none;font:500 20px Roboto,RobotoDraft,Helvetica,Arial,sans-serif}.vcug3d .TNczib{display:-webkit-box;display:-webkit-flex;display:flex}.PNenzf{-webkit-box-flex:1;box-flex:1;-webkit-flex-grow:1;flex-grow:1;-webkit-flex-shrink:1;flex-shrink:1;overflow:hidden;word-wrap:break-word}.TNczib .PNenzf{margin:16px 0}.VY7JQd{height:0}.TNczib .VY7JQd,.tOrNgd .bZWIgd{display:none}.R6Lfte .Wtw8H{-webkit-flex-shrink:0;flex-shrink:0;display:block;margin:-12px -6px 0 0}.PbnGhe{-webkit-box-flex:2;box-flex:2;-webkit-flex-grow:2;flex-grow:2;-webkit-flex-shrink:2;flex-shrink:2;display:block;font:400  14px / 20px  Roboto,RobotoDraft,Helvetica,Arial,sans-serif;padding:0 24px;overflow-y:auto}.Whe8ub .PbnGhe{padding-top:24px}.hFEqNb .PbnGhe{padding-bottom:24px}.vcug3d .PbnGhe{padding:16px}.XfpsVe{display:-webkit-box;display:-webkit-flex;display:flex;-webkit-flex-shrink:0;flex-shrink:0;box-pack:end;-webkit-box-pack:end;-webkit-justify-content:flex-end;justify-content:flex-end;padding:24px 24px 16px 24px}.vcug3d .XfpsVe{display:none}.OllbWe{box-pack:end;-webkit-box-pack:end;-webkit-justify-content:flex-end;justify-content:flex-end;display:none}.vcug3d .OllbWe{display:-webkit-box;display:-webkit-flex;display:flex;-webkit-box-align:start;box-align:start;-webkit-align-items:flex-start;align-items:flex-start;margin:0 16px}.kHssdc.O0WRkf.C0oVfc,.XfpsVe .O0WRkf.C0oVfc{min-width:64px}.kHssdc+.kHssdc{margin-left:8px}.TNczib .kHssdc{color:#fff;margin-top:10px}.TNczib .Wtw8H{margin:4px 24px 4px 0}.TNczib .kHssdc.u3bW4e,.TNczib .Wtw8H.u3bW4e{background-color:rgba(204,204,204,0.251)}.TNczib .kHssdc>.Vwe4Vb,.TNczib .Wtw8H>.VTBa7b{background-image:radial-gradient(circle farthest-side,rgba(255,255,255,0.30),rgba(255,255,255,0.30) 80%,rgba(255,255,255,0) 100%)}.TNczib .kHssdc.RDPZE,.TNczib .Wtw8H.RDPZE{color:rgba(255,255,255,0.502);fill:rgba(255,255,255,0.502)}.NMm5M{fill:currentColor;-webkit-flex-shrink:0;flex-shrink:0}html[dir=\"rtl\"] .hhikbc{-webkit-transform:scaleX(-1);transform:scaleX(-1)}.DPvwYc{font-family:'Material Icons Extended';font-weight:normal;font-style:normal;font-size:24px;line-height:1;letter-spacing:normal;text-rendering:optimizeLegibility;text-transform:none;display:inline-block;word-wrap:normal;direction:ltr;font-feature-settings:'liga' 1;-webkit-font-smoothing:antialiased}html[dir=\"rtl\"] .sm8sCf{-webkit-transform:scaleX(-1);-webkit-transform:scaleX(-1);transform:scaleX(-1);filter:FlipH}c-wiz{contain:style}c-wiz>c-data{display:none}c-wiz.rETSD{contain:none}c-wiz.Ubi8Z{contain:layout style}.gYehSc{background-color:transparent;border:none;cursor:pointer;outline:none;height:100px;width:60px;margin-left:-5px}.HAxo9e{background-color:transparent;border:none;cursor:pointer;outline:none;height:55px;position:relative;left:0}.gYehSc:hover{cursor:pointer}.gYehSc:hover .VHNUae{visibility:visible;opacity:1}.INWymb{display:inline-block;vertical-align:middle;color:#5f6368;margin-left:15px;padding-bottom:0}.Y8eixb{display:inline-block;vertical-align:middle;color:#5f6368;margin-left:-8px;padding-bottom:0;position:relative;left:0}.VHNUae{visibility:hidden;width:100%;height:20px;background-color:#5f6368;color:#f8f9fa;letter-spacing:.01785714em;font-family:'Google Sans',Roboto,Arial,sans-serif;font-size:.875rem;font-weight:500;line-height:1.25rem;text-align:center;padding:5px;-webkit-border-radius:4px;border-radius:4px;z-index:1;position:relative;margin-top:-50px;margin-left:5px;left:-45px;top:30px;opacity:0;-webkit-transition:opacity .3s;transition:opacity .3s;-webkit-transition-delay:.6s;transition-delay:.6s}.wycomd{letter-spacing:.00625em;font-family:'Google Sans',Roboto,Arial,sans-serif;font-size:1rem;font-weight:500;line-height:1.5rem}.GGeI4c{letter-spacing:.01428571em;font-family:Roboto,Arial,sans-serif;font-size:.875rem;font-weight:400;line-height:1.25rem;padding-bottom:7px;color:#202124}.gVd0We{margin:3px 6px 3px 0}.Cgogtc{opacity:0;display:none;visibility:hidden}.Gcwpvb{display:inline-block;vertical-align:middle;color:#5f6368;margin-bottom:0;padding-bottom:0}.cNzMIc{background-color:Transparent;background-repeat:no-repeat;border:none;cursor:pointer;overflow:hidden;outline:none}.Q8JQJd{position:fixed;right:0;bottom:0;top:0;left:0;z-index:9998;text-align:center;vertical-align:middle;white-space:nowrap;max-height:100%;max-width:100%;overflow:auto}.A9o0Cc{position:fixed;z-index:9997;right:0;bottom:0;top:0;left:0;-webkit-transition:opacity .25s;transition:opacity .25s;opacity:.4;background-color:black}.iBcVSe{letter-spacing:.00625em;font-family:Roboto,Arial,sans-serif;font-size:1rem;font-weight:400;line-height:1.5rem;position:relative;display:inline-block;z-index:9999;margin:auto;margin-left:auto;margin-right:auto;top:30%;-webkit-border-radius:2px;border-radius:2px;border-width:0;padding:20px;background-color:#fff;text-align:left;overflow:hidden;-webkit-transform:translateZ(0);transform:translateZ(0);-webkit-box-shadow:0 5px 26px 0 rgba(0,0,0,0.22),0 20px 28px 0 rgba(0,0,0,0.30);box-shadow:0 5px 26px 0 rgba(0,0,0,0.22),0 20px 28px 0 rgba(0,0,0,0.30)}.iBcVSe:after{display:inline-block;content:'';height:100%;vertical-align:middle}.YBfDed{position:absolute;right:16px;top:13px;cursor:pointer;height:24px;width:24px;padding:8px}.Zbecff{letter-spacing:.00625em;font-family:'Google Sans',Roboto,Arial,sans-serif;font-size:1rem;font-weight:500;line-height:1.5rem;padding-bottom:20px}.Wdg2pc{cursor:pointer;letter-spacing:.01428571em;font-family:Roboto,Arial,sans-serif;font-size:.875rem;font-weight:400;line-height:1.25rem;padding:8px 0}.g6XZc{visibility:hidden;width:60px;background-color:#5f6368;color:#f8f9fa;letter-spacing:.01785714em;font-family:'Google Sans',Roboto,Arial,sans-serif;font-size:.875rem;font-weight:500;line-height:1.25rem;text-align:center;padding:3px 0;-webkit-border-radius:4px;border-radius:4px;position:absolute;z-index:1;bottom:85%;left:50%;margin-left:-25px;margin-bottom:-48px;opacity:0;-webkit-transition:opacity .3s;transition:opacity .3s;-webkit-transition-delay:.6s;transition-delay:.6s}.g6XZc:after{content:\"\";position:absolute;top:100%;left:50%;margin-left:-5px;border-width:5px;border-style:solid;border-color:#f8f9fa transparent transparent transparent}.cNzMIc:hover{cursor:pointer}.cNzMIc:hover .g6XZc{visibility:visible;opacity:1}.TmVnz{color:#5f6368;font-size:12px;margin-left:5px;vertical-align:middle}.EKMrxc{height:24px;width:24px;vertical-align:bottom;margin-right:24px}.SfEBjf{color:#202124;letter-spacing:.01428571em;font-family:Roboto,Arial,sans-serif;font-size:.875rem;font-weight:400;line-height:1.25rem;padding-top:11px;padding-bottom:7px}.zPqhQb{display:inline-block;height:100%;width:-webkit-calc(100% - 400px);width:calc(100% - 400px);-webkit-box-sizing:border-box;box-sizing:border-box;overflow-y:auto;background-color:#ffffff}.ksAXrd{width:100%}.YPUsEb{width:0%;display:none}.hTmcCe{padding:20px 30px;background-color:#ffffff}.ukddFf{border:0;border-bottom:0;border-color:#dddddd;border-style:solid;margin-bottom:16px;padding-bottom:0}.E3HgU{border:0;margin-top:8px;margin-right:14px;margin-bottom:14px;display:inline-block}.z9shoc{border:0;margin-right:14px;margin-bottom:10px;display:inline-block}.jXgtke{border:0;display:inline-block}.jXgtke:hover .yQEV5e{visibility:visible;opacity:1}.yQEV5e{visibility:hidden;width:100%;height:100%;background-color:#5f6368;color:#f8f9fa;letter-spacing:.01785714em;font-family:'Google Sans',Roboto,Arial,sans-serif;font-size:.875rem;font-weight:500;line-height:1.25rem;text-align:center;padding:5px;-webkit-border-radius:4px;border-radius:4px;z-index:1;position:relative;top:30px;left:-60px;opacity:0;-webkit-transition:opacity .3s;transition:opacity .3s;-webkit-transition-delay:.6s;transition-delay:.6s}.cycj3{border:1px;width:fit-content;height:100%;border-color:#eee;border-style:solid;padding:8px 12px 8px 8px;margin-bottom:0;display:inline-block}.Zo5qib{letter-spacing:.01428571em;font-family:Roboto,Arial,sans-serif;font-size:.875rem;font-weight:400;line-height:1.25rem;color:#3c4043}.Klb03b{margin-bottom:15px;padding-bottom:5px;display:block;vertical-align:bottom}.EApCid{display:inline-block;vertical-align:top;margin:0 20px 10px 0;max-height:50px;max-width:100%}.SAyv5{display:block;color:#202124;font-family:'Google Sans',Roboto,Arial,sans-serif;font-size:1.375rem;font-weight:400;letter-spacing:0;line-height:1.75rem;margin-bottom:1px}.Sll3Ye{letter-spacing:.00625em;font-family:'Google Sans',Roboto,Arial,sans-serif;font-size:1rem;font-weight:500;line-height:1.5rem;color:#202124;margin-top:1px;margin-bottom:1px}.QyQxNb{float:left;display:inline-block;vertical-align:center;color:#5f6368;margin-right:1px}.VcqiVe{display:inline-block;margin:5px 20px 10px 0}.ZbRml{display:inline-block;margin-top:1px;margin-left:1px;color:#3c4043;letter-spacing:.01428571em;font-family:Roboto,Arial,sans-serif;font-size:.875rem;font-weight:400;line-height:1.25rem}.wmTTce{padding:4px 0 4px 0;margin:6px 0 6px 0;border-style:solid;border-color:rgba(0,0,0,0.1);border-width:1px 0 1px 0}.gIw6Ob{float:right;position:relative;right:0;top:0}.eEUDce{margin:3px 0 3px 0;list-style-type:none;display:inline-block;padding:0;max-width:100%}.dy4aPc{max-width:100%;display:inline-block}.iH9v7b{word-break:break-word}.pXX2tb{letter-spacing:.00625em;font-family:'Google Sans',Roboto,Arial,sans-serif;font-size:1rem;font-weight:500;line-height:1.5rem;color:#202124;padding:0 0 0 0;margin:0 0 6px}.ZKydGb{letter-spacing:.01428571em;font-family:Roboto,Arial,sans-serif;font-size:.875rem;font-weight:400;line-height:1.25rem;color:#1a73e8;padding:0 0 0 0;margin:0 0 0 0;word-break:break-word}.gHkX8d{letter-spacing:.01428571em;font-family:Roboto,Arial,sans-serif;font-size:.875rem;font-weight:400;line-height:1.25rem;color:#3c4043;padding:0 0 0 0;margin:0 0 0 0}.aXiewb{letter-spacing:.01428571em;font-family:Roboto,Arial,sans-serif;font-size:.875rem;font-weight:400;line-height:1.25rem;color:#3c4043;padding:0 0 0 0;margin:0 0 0 0;position:relative;max-width:70%;max-height:20px;overflow:hidden;text-overflow:ellipsis;overflow-wrap:break-word;display:inline-block;white-space:nowrap}.c0kDNe{letter-spacing:.025em;font-family:Roboto,Arial,sans-serif;font-size:.75rem;font-weight:400;line-height:1rem;color:#80868b;padding:0 0 0 0;margin:0 0 0 0;word-break:break-word}.eZEN4e{margin-top:0}.YWobzd{background-color:black;color:#fff;text-align:center;-webkit-border-radius:6px;border-radius:6px;padding:5px;margin:30px 0 0 -36px;-webkit-align-self:left;align-self:left;opacity:0;visibility:hidden;position:absolute;-webkit-transition:1s ease-in;transition:1s ease-in}.iH9v7b{margin-bottom:5px;margin-left:0}.kOtIBd{margin:20px 0}.RmTkKf{display:inline;-webkit-align-self:center;align-self:center;vertical-align:middle;height:15px;margin-right:6px}.bwmXfe{margin-top:0;display:inline-block;-webkit-box-sizing:border-box;box-sizing:border-box;padding-left:0;padding-right:5px;overflow-x:hidden;overflow-y:auto;float:left;height:100%;width:400px}.UvPsAb{letter-spacing:.00625em;font-family:'Google Sans',Roboto,Arial,sans-serif;font-size:1rem;font-weight:500;line-height:1.5rem;color:#202124;padding-top:10px;padding-bottom:10px;padding-left:30px}.vojOnc{width:0%;display:none}.lY5zDd{font-family:'Google Sans',Roboto,Arial,sans-serif;font-size:1.125rem;font-weight:400;letter-spacing:0;line-height:1.5rem;color:#202124}.m3bpbe{font-family:'Google Sans',Roboto,Arial,sans-serif;font-size:1.125rem;font-weight:400;letter-spacing:0;line-height:1.5rem;color:#1a73e8}.VAt4{padding-top:0;padding-left:0;margin:0}.UnWQ5{display:-webkit-box;display:-webkit-flex;display:flex}.xdICpb{height:100%;width:100%;cursor:pointer;padding:25px 25px 25px 25px;margin-bottom:5px;overflow:auto;border-top-right-radius:100px;border-bottom-right-radius:100px}.xdICpb:hover{background-color:#f8f9fa}.xdICpb:active{background-color:#f1f3f4}.Zu47Be{vertical-align:text-bottom;max-width:55px;float:left;text-align:top;line-height:40px;margin:15px 15px 10px 0;width:55px;height:55px}.GUZzSd{max-width:55px;float:left;margin-right:10px}.Ul9MRe{float:left;vertical-align:text-center;margin:3px 15px 10px 0;width:55px;height:55px;background-color:#424242;color:white;text-align:center;line-height:40px;font-size:20px/24px;font-weight:medium;font-family:'Google Sans',Roboto,RobotoDraft,Helvetica,Arial,sans-serif;-webkit-border-radius:250px;border-radius:250px;text-transform:uppercase}.jWBBzf{margin-left:0;overflow:hidden}.kCClje{margin-bottom:10px}.p86njf{margin:0 0 0}.bvKdnc{list-style-type:none;padding:0;margin-top:5px}.iW1HZe{letter-spacing:.01428571em;font-family:Roboto,Arial,sans-serif;font-size:.875rem;font-weight:400;line-height:1.25rem}.HhFx1d{font:13px 'Roboto'}.U0CpDc{margin:0 0 0 0;letter-spacing:.01428571em;font-family:Roboto,Arial,sans-serif;font-size:.875rem;font-weight:400;line-height:1.25rem}.Wb2Ze{width:100%;padding:0}.VTOOCd{height:100%;width:100%;cursor:default;padding:16px;margin:10px 8px 0;overflow:auto;-webkit-border-radius:6px;border-radius:6px;border:1px solid #dcdddd;-webkit-box-shadow:0 1px 2px #4d3c4043;box-shadow:0 1px 2px #4d3c4043}.iKH1Bc{margin:0 0 0 0;font-family:'Google Sans',Roboto,Arial,sans-serif;font-size:1.125rem;font-weight:400;letter-spacing:0;line-height:1.5rem;color:#202124;vertical-align:bottom;display:-webkit-box;-webkit-line-clamp:2;-webkit-box-orient:vertical;overflow:hidden;text-overflow:ellipsis}.FmGOUc{height:30px;left:65px;top:5px;position:relative;width:fit-content}.zKF3u{display:inline-block;vertical-align:bottom;font-size:14px/20px;letter-spacing:+0.2px;font-family:Roboto,RobotoDraft,Helvetica,Arial,sans-serif;font-weight:regular;color:#5f6368}.ToGeGb{display:inline-block;margin:0 5px 5px 0;font-size:14px;color:#5f6368}.FuZime{display:inline;-webkit-align-self:center;align-self:center;vertical-align:middle;height:15px;margin-right:6px;margin-left:-3px}.Sdfhre{color:#5f6368}.bv5XQc,.bv5XQc:hover{background-color:#f1f3f4}.la70Xb{background-color:transparent;border:none;cursor:pointer;outline:none;overflow:visible;height:100px}.Icbdxc{background-color:transparent;border:none;cursor:pointer;outline:none;overflow:visible;height:55px;width:25px;position:relative;right:0}.la70Xb:hover{cursor:pointer}.la70Xb:hover .A11Qdd{visibility:visible;opacity:1}.eMa7cd{display:inline-block;vertical-align:middle;color:#5f6368;margin-left:5px;padding-bottom:0}.aX7zGd{display:inline-block;vertical-align:middle;color:#5f6368;margin-left:-8px;padding-bottom:0;position:relative;right:0}.A11Qdd{visibility:hidden;width:100%;height:20px;background-color:#5f6368;color:#f8f9fa;letter-spacing:.01785714em;font-family:'Google Sans',Roboto,Arial,sans-serif;font-size:.875rem;font-weight:500;line-height:1.25rem;text-align:center;padding:5px;-webkit-border-radius:4px;border-radius:4px;z-index:1;position:relative;margin-top:-100px;margin-left:-40px;left:5px;top:30px;opacity:0;-webkit-transition:opacity .3s;transition:opacity .3s;-webkit-transition-delay:.6s;transition-delay:.6s}.zQTmif{height:100%}.MCcOAc{display:-webkit-box;display:-webkit-flex;display:flex;-webkit-flex-direction:column;flex-direction:column}.VfPpkd-XPtOyb-UbuQg-JIbuQc{border:none;display:-webkit-inline-box;display:-webkit-inline-flex;display:inline-flex;position:relative;-webkit-align-items:center;align-items:center;-webkit-justify-content:center;justify-content:center;-webkit-box-sizing:border-box;box-sizing:border-box;padding:0;outline:none;cursor:pointer;-webkit-appearance:none;background:none}.VfPpkd-XPtOyb-UbuQg-JIbuQc .VfPpkd-XPtOyb-UbuQg-JIbuQc{color:#000;color:var(--mdc-theme-on-surface,#000)}.VfPpkd-XPtOyb-UbuQg-JIbuQc{--mdc-ripple-fg-size:0;--mdc-ripple-left:0;--mdc-ripple-top:0;--mdc-ripple-fg-scale:1;--mdc-ripple-fg-translate-end:0;--mdc-ripple-fg-translate-start:0;-webkit-tap-highlight-color:rgba(0,0,0,0);will-change:transform,opacity}.VfPpkd-XPtOyb-UbuQg-JIbuQc.VfPpkd-ksKsZd-mWPk3d{--mdc-ripple-fg-opacity:.12}.VfPpkd-Zr1Nwf-OWXEXe-M1Soyc{color:rgba(0,0,0,0.54)}.VfPpkd-XPtOyb-UbuQg-JIbuQc{color:#000}.VfPpkd-Zr1Nwf-OWXEXe-UbuQg{color:rgba(0,0,0,0.54)}.VfPpkd-Zr1Nwf-OWXEXe-UbuQg:hover{color:rgba(0,0,0,0.62)}.VfPpkd-Zr1Nwf-OWXEXe-UbuQg:focus{color:rgba(0,0,0,0.87)}.VfPpkd-Zr1Nwf.VfPpkd-Zr1Nwf-OWXEXe-M1Soyc:not(.VfPpkd-Zr1Nwf-OWXEXe-M1Soyc-L6cTce){width:20px;height:20px;font-size:20px}.VfPpkd-Zr1Nwf.VfPpkd-Zr1Nwf-OWXEXe-UbuQg{width:18px;height:18px;font-size:18px}.VfPpkd-XPtOyb-UbuQg-JIbuQc{margin-left:4px;margin-right:-4px}[dir=rtl] .VfPpkd-XPtOyb-UbuQg-JIbuQc,.VfPpkd-XPtOyb-UbuQg-JIbuQc[dir=rtl]{margin-left:-4px;margin-right:4px}.VfPpkd-Zr1Nwf-OWXEXe-UbuQg{margin-left:4px;margin-right:-4px}[dir=rtl] .VfPpkd-Zr1Nwf-OWXEXe-UbuQg,.VfPpkd-Zr1Nwf-OWXEXe-UbuQg[dir=rtl]{margin-left:-4px;margin-right:4px}.VfPpkd-XPtOyb{-webkit-border-radius:16px;border-radius:16px;background-color:#e0e0e0;color:rgba(0,0,0,0.87);-webkit-font-smoothing:antialiased;font-family:Roboto,sans-serif;font-family:var(--mdc-typography-body2-font-family,var(--mdc-typography-font-family,Roboto,sans-serif));font-size:.875rem;font-size:var(--mdc-typography-body2-font-size,0.875rem);line-height:1.25rem;line-height:var(--mdc-typography-body2-line-height,1.25rem);font-weight:400;font-weight:var(--mdc-typography-body2-font-weight,400);letter-spacing:.0178571429em;letter-spacing:var(--mdc-typography-body2-letter-spacing,0.0178571429em);text-decoration:inherit;text-decoration:var(--mdc-typography-body2-text-decoration,inherit);text-transform:inherit;text-transform:var(--mdc-typography-body2-text-transform,inherit);height:32px;position:relative;display:-webkit-inline-box;display:-webkit-inline-flex;display:inline-flex;-webkit-align-items:center;align-items:center;-webkit-box-sizing:border-box;box-sizing:border-box;padding:0 12px;border-width:0;outline:none;cursor:pointer;-webkit-appearance:none}.VfPpkd-XPtOyb .VfPpkd-v1cqY{-webkit-border-radius:16px;border-radius:16px}.VfPpkd-XPtOyb.VfPpkd-XPtOyb-OWXEXe-gk6SMd .VfPpkd-PvL5qd,.VfPpkd-XPtOyb .VfPpkd-Zr1Nwf-OWXEXe-M1Soyc:not(.VfPpkd-Zr1Nwf-OWXEXe-M1Soyc-L6cTce){margin-left:-4px;margin-right:4px}[dir=rtl] .VfPpkd-XPtOyb.VfPpkd-XPtOyb-OWXEXe-gk6SMd .VfPpkd-PvL5qd,.VfPpkd-XPtOyb.VfPpkd-XPtOyb-OWXEXe-gk6SMd .VfPpkd-PvL5qd[dir=rtl],[dir=rtl] .VfPpkd-XPtOyb .VfPpkd-Zr1Nwf-OWXEXe-M1Soyc:not(.VfPpkd-Zr1Nwf-OWXEXe-M1Soyc-L6cTce),.VfPpkd-XPtOyb .VfPpkd-Zr1Nwf-OWXEXe-M1Soyc:not(.VfPpkd-Zr1Nwf-OWXEXe-M1Soyc-L6cTce)[dir=rtl]{margin-left:4px;margin-right:-4px}.VfPpkd-XPtOyb .VfPpkd-BFbNVe-bF1uUb{width:100%;height:100%;top:0;left:0}.VfPpkd-XPtOyb::-moz-focus-inner{padding:0;border:0}.VfPpkd-XPtOyb:hover{color:#000;color:var(--mdc-theme-on-surface,#000)}.VfPpkd-XPtOyb .VfPpkd-lrT0x{position:absolute;top:50%;right:0;height:48px;left:0;-webkit-transform:translateY(-50%);transform:translateY(-50%)}.VfPpkd-XPtOyb-OWXEXe-SNIJTd{-webkit-transition:opacity 75ms cubic-bezier(0.4,0,0.2,1),width 150ms cubic-bezier(0,0,0.2,1),padding 100ms linear,margin 100ms linear;transition:opacity 75ms cubic-bezier(0.4,0,0.2,1),width 150ms cubic-bezier(0,0,0.2,1),padding 100ms linear,margin 100ms linear;opacity:0}.VfPpkd-TfeOUb{white-space:nowrap}.VfPpkd-Zr1Nwf{-webkit-border-radius:50%;border-radius:50%;outline:none;vertical-align:middle}.VfPpkd-PvL5qd{height:20px}.VfPpkd-PvL5qd-Jt5cK{-webkit-transition:stroke-dashoffset 150ms 50ms cubic-bezier(0.4,0,0.6,1);transition:stroke-dashoffset 150ms 50ms cubic-bezier(0.4,0,0.6,1);stroke-width:2px;stroke-dashoffset:29.7833385;stroke-dasharray:29.7833385}.VfPpkd-rXoKne-JIbuQc:focus{outline:none}.VfPpkd-XPtOyb-OWXEXe-gk6SMd .VfPpkd-PvL5qd-Jt5cK{stroke-dashoffset:0}.VfPpkd-Zr1Nwf-OWXEXe-M1Soyc,.VfPpkd-Zr1Nwf-OWXEXe-UbuQg{position:relative}.VfPpkd-XPtOyb-FCjw3e-OWXEXe-X7AZM .VfPpkd-XPtOyb.VfPpkd-XPtOyb-OWXEXe-gk6SMd{color:#6200ee;color:var(--mdc-theme-primary,#6200ee)}.VfPpkd-XPtOyb-FCjw3e-OWXEXe-X7AZM .VfPpkd-XPtOyb.VfPpkd-XPtOyb-OWXEXe-gk6SMd .VfPpkd-Zr1Nwf-OWXEXe-M1Soyc{color:rgba(98,0,238,0.54)}.VfPpkd-XPtOyb-FCjw3e-OWXEXe-X7AZM .VfPpkd-XPtOyb.VfPpkd-XPtOyb-OWXEXe-gk6SMd:hover{color:#6200ee;color:var(--mdc-theme-primary,#6200ee)}.VfPpkd-XPtOyb-FCjw3e-OWXEXe-X7AZM .VfPpkd-XPtOyb .VfPpkd-PvL5qd-Jt5cK{stroke:#6200ee;stroke:var(--mdc-theme-primary,#6200ee)}.VfPpkd-XPtOyb-FCjw3e-OWXEXe-X7AZM .VfPpkd-XPtOyb-OWXEXe-gk6SMd{background-color:#fff;background-color:var(--mdc-theme-surface,#fff)}.VfPpkd-PvL5qd-OAU7Vd{width:0;height:20px;-webkit-transition:width 150ms cubic-bezier(0.4,0,0.2,1);transition:width 150ms cubic-bezier(0.4,0,0.2,1)}.VfPpkd-XPtOyb-OWXEXe-gk6SMd .VfPpkd-PvL5qd-OAU7Vd{width:20px}.VfPpkd-XPtOyb-FCjw3e-OWXEXe-yOOK0 .VfPpkd-Zr1Nwf-OWXEXe-M1Soyc{-webkit-transition:opacity 75ms linear;transition:opacity 75ms linear;-webkit-transition-delay:-50ms;transition-delay:-50ms;opacity:1}.VfPpkd-XPtOyb-FCjw3e-OWXEXe-yOOK0 .VfPpkd-Zr1Nwf-OWXEXe-M1Soyc+.VfPpkd-PvL5qd{-webkit-transition:opacity 75ms linear;transition:opacity 75ms linear;-webkit-transition-delay:80ms;transition-delay:80ms;opacity:0}.VfPpkd-XPtOyb-FCjw3e-OWXEXe-yOOK0 .VfPpkd-Zr1Nwf-OWXEXe-M1Soyc+.VfPpkd-PvL5qd .VfPpkd-PvL5qd-OAU7Vd{-webkit-transition:width 0ms;transition:width 0ms}.VfPpkd-XPtOyb-FCjw3e-OWXEXe-yOOK0 .VfPpkd-XPtOyb-OWXEXe-gk6SMd .VfPpkd-Zr1Nwf-OWXEXe-M1Soyc{opacity:0}.VfPpkd-XPtOyb-FCjw3e-OWXEXe-yOOK0 .VfPpkd-XPtOyb-OWXEXe-gk6SMd .VfPpkd-Zr1Nwf-OWXEXe-M1Soyc+.VfPpkd-PvL5qd{width:0;opacity:1}.VfPpkd-XPtOyb-FCjw3e-OWXEXe-yOOK0 .VfPpkd-Zr1Nwf-OWXEXe-M1Soyc-L6cTce.VfPpkd-Zr1Nwf-OWXEXe-M1Soyc{width:0;opacity:0}.VfPpkd-XPtOyb-FCjw3e-OWXEXe-yOOK0 .VfPpkd-Zr1Nwf-OWXEXe-M1Soyc-L6cTce.VfPpkd-Zr1Nwf-OWXEXe-M1Soyc+.VfPpkd-PvL5qd{width:20px}.VfPpkd-XPtOyb{--mdc-ripple-fg-size:0;--mdc-ripple-left:0;--mdc-ripple-top:0;--mdc-ripple-fg-scale:1;--mdc-ripple-fg-translate-end:0;--mdc-ripple-fg-translate-start:0;-webkit-tap-highlight-color:rgba(0,0,0,0);will-change:transform,opacity}.VfPpkd-XPtOyb .VfPpkd-v1cqY::before,.VfPpkd-XPtOyb .VfPpkd-v1cqY::after{position:absolute;-webkit-border-radius:50%;border-radius:50%;opacity:0;pointer-events:none;content:\"\"}.VfPpkd-XPtOyb .VfPpkd-v1cqY::before{-webkit-transition:opacity 15ms linear,background-color 15ms linear;transition:opacity 15ms linear,background-color 15ms linear;z-index:1}.VfPpkd-XPtOyb.VfPpkd-ksKsZd-mWPk3d .VfPpkd-v1cqY::before{-webkit-transform:scale(var(--mdc-ripple-fg-scale,1));transform:scale(var(--mdc-ripple-fg-scale,1))}.VfPpkd-XPtOyb.VfPpkd-ksKsZd-mWPk3d .VfPpkd-v1cqY::after{top:0;left:0;-webkit-transform:scale(0);transform:scale(0);-webkit-transform-origin:center center;transform-origin:center center}.VfPpkd-XPtOyb.VfPpkd-ksKsZd-mWPk3d-OWXEXe-ZNMTqd .VfPpkd-v1cqY::after{top:var(--mdc-ripple-top,0);left:var(--mdc-ripple-left,0)}.VfPpkd-XPtOyb.VfPpkd-ksKsZd-mWPk3d-OWXEXe-Tv8l5d-lJfZMc .VfPpkd-v1cqY::after{-webkit-animation:mdc-ripple-fg-radius-in 225ms forwards,mdc-ripple-fg-opacity-in 75ms forwards;animation:mdc-ripple-fg-radius-in 225ms forwards,mdc-ripple-fg-opacity-in 75ms forwards}.VfPpkd-XPtOyb.VfPpkd-ksKsZd-mWPk3d-OWXEXe-Tv8l5d-OmS1vf .VfPpkd-v1cqY::after{-webkit-animation:mdc-ripple-fg-opacity-out 150ms;animation:mdc-ripple-fg-opacity-out 150ms;-webkit-transform:translate(var(--mdc-ripple-fg-translate-end,0)) scale(var(--mdc-ripple-fg-scale,1));transform:translate(var(--mdc-ripple-fg-translate-end,0)) scale(var(--mdc-ripple-fg-scale,1))}.VfPpkd-XPtOyb .VfPpkd-v1cqY::before,.VfPpkd-XPtOyb .VfPpkd-v1cqY::after{top:-webkit-calc(50% - 100%);top:calc(50% - 100%);left:-webkit-calc(50% - 100%);left:calc(50% - 100%);width:200%;height:200%}.VfPpkd-XPtOyb.VfPpkd-ksKsZd-mWPk3d .VfPpkd-v1cqY::after{width:var(--mdc-ripple-fg-size,100%);height:var(--mdc-ripple-fg-size,100%)}.VfPpkd-XPtOyb .VfPpkd-v1cqY::before,.VfPpkd-XPtOyb .VfPpkd-v1cqY::after{background-color:rgba(0,0,0,0.87)}.VfPpkd-XPtOyb:hover .VfPpkd-v1cqY::before{opacity:.04}.VfPpkd-XPtOyb.VfPpkd-ksKsZd-mWPk3d-OWXEXe-AHe6Kc-XpnDCe .VfPpkd-v1cqY::before,.VfPpkd-XPtOyb.VfPpkd-ksKsZd-mWPk3d:focus-within .VfPpkd-v1cqY::before,.VfPpkd-XPtOyb:not(.VfPpkd-ksKsZd-mWPk3d):focus .VfPpkd-v1cqY::before,.VfPpkd-XPtOyb:not(.VfPpkd-ksKsZd-mWPk3d):focus-within .VfPpkd-v1cqY::before{-webkit-transition-duration:75ms;transition-duration:75ms;opacity:.12}.VfPpkd-XPtOyb:not(.VfPpkd-ksKsZd-mWPk3d) .VfPpkd-v1cqY::after{-webkit-transition:opacity 150ms linear;transition:opacity 150ms linear}.VfPpkd-XPtOyb:not(.VfPpkd-ksKsZd-mWPk3d):active .VfPpkd-v1cqY::after{-webkit-transition-duration:75ms;transition-duration:75ms;opacity:.12}.VfPpkd-XPtOyb.VfPpkd-ksKsZd-mWPk3d{--mdc-ripple-fg-opacity:.12}.VfPpkd-XPtOyb .VfPpkd-v1cqY{position:absolute;top:0;left:0;width:100%;height:100%;pointer-events:none;overflow:hidden}.VfPpkd-XPtOyb-FCjw3e-OWXEXe-X7AZM .VfPpkd-XPtOyb.VfPpkd-XPtOyb-OWXEXe-gk6SMd .VfPpkd-v1cqY::before{opacity:.08;background-color:#6200ee;background-color:var(--mdc-theme-primary,#6200ee)}.VfPpkd-XPtOyb-FCjw3e-OWXEXe-X7AZM .VfPpkd-XPtOyb.VfPpkd-XPtOyb-OWXEXe-gk6SMd .VfPpkd-v1cqY::after{background-color:#6200ee;background-color:var(--mdc-theme-primary,#6200ee)}.VfPpkd-XPtOyb-FCjw3e-OWXEXe-X7AZM .VfPpkd-XPtOyb.VfPpkd-XPtOyb-OWXEXe-gk6SMd:hover .VfPpkd-v1cqY::before{opacity:.12}.VfPpkd-XPtOyb-FCjw3e-OWXEXe-X7AZM .VfPpkd-XPtOyb.VfPpkd-XPtOyb-OWXEXe-gk6SMd.VfPpkd-ksKsZd-mWPk3d-OWXEXe-AHe6Kc-XpnDCe .VfPpkd-v1cqY::before,.VfPpkd-XPtOyb-FCjw3e-OWXEXe-X7AZM .VfPpkd-XPtOyb.VfPpkd-XPtOyb-OWXEXe-gk6SMd.VfPpkd-ksKsZd-mWPk3d:focus-within .VfPpkd-v1cqY::before,.VfPpkd-XPtOyb-FCjw3e-OWXEXe-X7AZM .VfPpkd-XPtOyb.VfPpkd-XPtOyb-OWXEXe-gk6SMd:not(.VfPpkd-ksKsZd-mWPk3d):focus .VfPpkd-v1cqY::before,.VfPpkd-XPtOyb-FCjw3e-OWXEXe-X7AZM .VfPpkd-XPtOyb.VfPpkd-XPtOyb-OWXEXe-gk6SMd:not(.VfPpkd-ksKsZd-mWPk3d):focus-within .VfPpkd-v1cqY::before{-webkit-transition-duration:75ms;transition-duration:75ms;opacity:.2}.VfPpkd-XPtOyb-FCjw3e-OWXEXe-X7AZM .VfPpkd-XPtOyb.VfPpkd-XPtOyb-OWXEXe-gk6SMd:not(.VfPpkd-ksKsZd-mWPk3d) .VfPpkd-v1cqY::after{-webkit-transition:opacity 150ms linear;transition:opacity 150ms linear}.VfPpkd-XPtOyb-FCjw3e-OWXEXe-X7AZM .VfPpkd-XPtOyb.VfPpkd-XPtOyb-OWXEXe-gk6SMd:not(.VfPpkd-ksKsZd-mWPk3d):active .VfPpkd-v1cqY::after{-webkit-transition-duration:75ms;transition-duration:75ms;opacity:.2}.VfPpkd-XPtOyb-FCjw3e-OWXEXe-X7AZM .VfPpkd-XPtOyb.VfPpkd-XPtOyb-OWXEXe-gk6SMd.VfPpkd-ksKsZd-mWPk3d{--mdc-ripple-fg-opacity:.2}@keyframes mdc-chip-entry{0%{-webkit-transform:scale(0.8);transform:scale(0.8);opacity:.4}to{-webkit-transform:scale(1);transform:scale(1);opacity:1}}.VfPpkd-XPtOyb-FCjw3e{padding:4px;display:-webkit-box;display:-webkit-flex;display:flex;-webkit-flex-wrap:wrap;flex-wrap:wrap;-webkit-box-sizing:border-box;box-sizing:border-box}.VfPpkd-XPtOyb-FCjw3e .VfPpkd-XPtOyb{margin:4px}.VfPpkd-XPtOyb-FCjw3e .VfPpkd-XPtOyb-OWXEXe-dgl2Hf{margin-top:8px;margin-bottom:8px}.VfPpkd-XPtOyb-FCjw3e-OWXEXe-YPqjbf .VfPpkd-XPtOyb{-webkit-animation:mdc-chip-entry 100ms cubic-bezier(0,0,0.2,1);animation:mdc-chip-entry 100ms cubic-bezier(0,0,0.2,1)}.P2wJPb{font-family:\"Google Sans\",Roboto,Arial,sans-serif;font-weight:500;font-size:.875rem;letter-spacing:.0178571429em;line-height:1.25rem;-webkit-transition:box-shadow 280ms cubic-bezier(0.4,0,0.2,1);transition:box-shadow 280ms cubic-bezier(0.4,0,0.2,1);z-index:0;color:#5f6368;color:var(--gm-chip-ink-color,#5f6368)}.P2wJPb.VfPpkd-XPtOyb-OWXEXe-SNIJTd{-webkit-transition:box-shadow 280ms cubic-bezier(0.4,0,0.2,1),opacity 75ms cubic-bezier(0.4,0,0.2,1),width 150ms cubic-bezier(0,0,0.2,1),padding 100ms linear,margin 100ms linear;transition:box-shadow 280ms cubic-bezier(0.4,0,0.2,1),opacity 75ms cubic-bezier(0.4,0,0.2,1),width 150ms cubic-bezier(0,0,0.2,1),padding 100ms linear,margin 100ms linear}.P2wJPb .VfPpkd-v1cqY::before,.P2wJPb .VfPpkd-v1cqY::after{z-index:-1}.P2wJPb .VfPpkd-Zr1Nwf-OWXEXe-M1Soyc{color:#5f6368}.P2wJPb .VfPpkd-XPtOyb-UbuQg-JIbuQc{color:#5f6368;color:var(--gm-chip-ink-color,#5f6368)}.P2wJPb .VfPpkd-Zr1Nwf-OWXEXe-UbuQg,.P2wJPb .VfPpkd-Zr1Nwf-OWXEXe-UbuQg:hover,.P2wJPb .VfPpkd-Zr1Nwf-OWXEXe-UbuQg:focus{color:#5f6368}.P2wJPb .VfPpkd-PvL5qd-Jt5cK{stroke:#5f6368;stroke:var(--gm-chip-ink-color,#5f6368)}.P2wJPb:hover,.P2wJPb:active,.P2wJPb:not(.VfPpkd-ksKsZd-mWPk3d):focus,.P2wJPb.VfPpkd-ksKsZd-mWPk3d-OWXEXe-AHe6Kc-XpnDCe{color:#202124;color:var(--gm-chip-ink-color--stateful,#202124)}.P2wJPb:hover .VfPpkd-Zr1Nwf-OWXEXe-M1Soyc,.P2wJPb:active .VfPpkd-Zr1Nwf-OWXEXe-M1Soyc,.P2wJPb:not(.VfPpkd-ksKsZd-mWPk3d):focus .VfPpkd-Zr1Nwf-OWXEXe-M1Soyc,.P2wJPb.VfPpkd-ksKsZd-mWPk3d-OWXEXe-AHe6Kc-XpnDCe .VfPpkd-Zr1Nwf-OWXEXe-M1Soyc{color:#202124}.P2wJPb:hover .VfPpkd-XPtOyb-UbuQg-JIbuQc,.P2wJPb:active .VfPpkd-XPtOyb-UbuQg-JIbuQc,.P2wJPb:not(.VfPpkd-ksKsZd-mWPk3d):focus .VfPpkd-XPtOyb-UbuQg-JIbuQc,.P2wJPb.VfPpkd-ksKsZd-mWPk3d-OWXEXe-AHe6Kc-XpnDCe .VfPpkd-XPtOyb-UbuQg-JIbuQc{color:#202124;color:var(--gm-chip-ink-color--stateful,#202124)}.P2wJPb:hover .VfPpkd-Zr1Nwf-OWXEXe-UbuQg,.P2wJPb:active .VfPpkd-Zr1Nwf-OWXEXe-UbuQg,.P2wJPb:not(.VfPpkd-ksKsZd-mWPk3d):focus .VfPpkd-Zr1Nwf-OWXEXe-UbuQg,.P2wJPb.VfPpkd-ksKsZd-mWPk3d-OWXEXe-AHe6Kc-XpnDCe .VfPpkd-Zr1Nwf-OWXEXe-UbuQg,.P2wJPb:hover .VfPpkd-Zr1Nwf-OWXEXe-UbuQg:hover,.P2wJPb:active .VfPpkd-Zr1Nwf-OWXEXe-UbuQg:hover,.P2wJPb:not(.VfPpkd-ksKsZd-mWPk3d):focus .VfPpkd-Zr1Nwf-OWXEXe-UbuQg:hover,.P2wJPb.VfPpkd-ksKsZd-mWPk3d-OWXEXe-AHe6Kc-XpnDCe .VfPpkd-Zr1Nwf-OWXEXe-UbuQg:hover,.P2wJPb:hover .VfPpkd-Zr1Nwf-OWXEXe-UbuQg:focus,.P2wJPb:active .VfPpkd-Zr1Nwf-OWXEXe-UbuQg:focus,.P2wJPb:not(.VfPpkd-ksKsZd-mWPk3d):focus .VfPpkd-Zr1Nwf-OWXEXe-UbuQg:focus,.P2wJPb.VfPpkd-ksKsZd-mWPk3d-OWXEXe-AHe6Kc-XpnDCe .VfPpkd-Zr1Nwf-OWXEXe-UbuQg:focus{color:#202124}.P2wJPb:hover .VfPpkd-PvL5qd-Jt5cK,.P2wJPb:active .VfPpkd-PvL5qd-Jt5cK,.P2wJPb:not(.VfPpkd-ksKsZd-mWPk3d):focus .VfPpkd-PvL5qd-Jt5cK,.P2wJPb.VfPpkd-ksKsZd-mWPk3d-OWXEXe-AHe6Kc-XpnDCe .VfPpkd-PvL5qd-Jt5cK{stroke:#202124;stroke:var(--gm-chip-ink-color--stateful,#202124)}.P2wJPb.RgtwTe.VfPpkd-XPtOyb-OWXEXe-gk6SMd{background-color:#e8f0fe;background-color:var(--gm-chip-container-color,#e8f0fe);color:#1967d2;color:var(--gm-chip-ink-color,#1967d2);border-color:#174ea6;border-color:var(--gm-chip-outline-color--stateful,#174ea6)}.P2wJPb.RgtwTe.VfPpkd-XPtOyb-OWXEXe-gk6SMd .VfPpkd-Zr1Nwf-OWXEXe-M1Soyc{color:#1967d2}.P2wJPb.RgtwTe.VfPpkd-XPtOyb-OWXEXe-gk6SMd .VfPpkd-XPtOyb-UbuQg-JIbuQc{color:#1967d2;color:var(--gm-chip-ink-color,#1967d2)}.P2wJPb.RgtwTe.VfPpkd-XPtOyb-OWXEXe-gk6SMd .VfPpkd-Zr1Nwf-OWXEXe-UbuQg,.P2wJPb.RgtwTe.VfPpkd-XPtOyb-OWXEXe-gk6SMd .VfPpkd-Zr1Nwf-OWXEXe-UbuQg:hover,.P2wJPb.RgtwTe.VfPpkd-XPtOyb-OWXEXe-gk6SMd .VfPpkd-Zr1Nwf-OWXEXe-UbuQg:focus{color:#1967d2}.P2wJPb.RgtwTe.VfPpkd-XPtOyb-OWXEXe-gk6SMd .VfPpkd-PvL5qd-Jt5cK{stroke:#1967d2;stroke:var(--gm-chip-ink-color,#1967d2)}.P2wJPb.RgtwTe.VfPpkd-XPtOyb-OWXEXe-gk6SMd:hover,.P2wJPb.RgtwTe.VfPpkd-XPtOyb-OWXEXe-gk6SMd:active,.P2wJPb.RgtwTe.VfPpkd-XPtOyb-OWXEXe-gk6SMd:not(.VfPpkd-ksKsZd-mWPk3d):focus,.P2wJPb.RgtwTe.VfPpkd-XPtOyb-OWXEXe-gk6SMd.VfPpkd-ksKsZd-mWPk3d-OWXEXe-AHe6Kc-XpnDCe{color:#174ea6;color:var(--gm-chip-ink-color--stateful,#174ea6)}.P2wJPb.RgtwTe.VfPpkd-XPtOyb-OWXEXe-gk6SMd:hover .VfPpkd-Zr1Nwf-OWXEXe-M1Soyc,.P2wJPb.RgtwTe.VfPpkd-XPtOyb-OWXEXe-gk6SMd:active .VfPpkd-Zr1Nwf-OWXEXe-M1Soyc,.P2wJPb.RgtwTe.VfPpkd-XPtOyb-OWXEXe-gk6SMd:not(.VfPpkd-ksKsZd-mWPk3d):focus .VfPpkd-Zr1Nwf-OWXEXe-M1Soyc,.P2wJPb.RgtwTe.VfPpkd-XPtOyb-OWXEXe-gk6SMd.VfPpkd-ksKsZd-mWPk3d-OWXEXe-AHe6Kc-XpnDCe .VfPpkd-Zr1Nwf-OWXEXe-M1Soyc{color:#174ea6}.P2wJPb.RgtwTe.VfPpkd-XPtOyb-OWXEXe-gk6SMd:hover .VfPpkd-XPtOyb-UbuQg-JIbuQc,.P2wJPb.RgtwTe.VfPpkd-XPtOyb-OWXEXe-gk6SMd:active .VfPpkd-XPtOyb-UbuQg-JIbuQc,.P2wJPb.RgtwTe.VfPpkd-XPtOyb-OWXEXe-gk6SMd:not(.VfPpkd-ksKsZd-mWPk3d):focus .VfPpkd-XPtOyb-UbuQg-JIbuQc,.P2wJPb.RgtwTe.VfPpkd-XPtOyb-OWXEXe-gk6SMd.VfPpkd-ksKsZd-mWPk3d-OWXEXe-AHe6Kc-XpnDCe .VfPpkd-XPtOyb-UbuQg-JIbuQc{color:#174ea6;color:var(--gm-chip-ink-color--stateful,#174ea6)}.P2wJPb.RgtwTe.VfPpkd-XPtOyb-OWXEXe-gk6SMd:hover .VfPpkd-Zr1Nwf-OWXEXe-UbuQg,.P2wJPb.RgtwTe.VfPpkd-XPtOyb-OWXEXe-gk6SMd:active .VfPpkd-Zr1Nwf-OWXEXe-UbuQg,.P2wJPb.RgtwTe.VfPpkd-XPtOyb-OWXEXe-gk6SMd:not(.VfPpkd-ksKsZd-mWPk3d):focus .VfPpkd-Zr1Nwf-OWXEXe-UbuQg,.P2wJPb.RgtwTe.VfPpkd-XPtOyb-OWXEXe-gk6SMd.VfPpkd-ksKsZd-mWPk3d-OWXEXe-AHe6Kc-XpnDCe .VfPpkd-Zr1Nwf-OWXEXe-UbuQg,.P2wJPb.RgtwTe.VfPpkd-XPtOyb-OWXEXe-gk6SMd:hover .VfPpkd-Zr1Nwf-OWXEXe-UbuQg:hover,.P2wJPb.RgtwTe.VfPpkd-XPtOyb-OWXEXe-gk6SMd:active .VfPpkd-Zr1Nwf-OWXEXe-UbuQg:hover,.P2wJPb.RgtwTe.VfPpkd-XPtOyb-OWXEXe-gk6SMd:not(.VfPpkd-ksKsZd-mWPk3d):focus .VfPpkd-Zr1Nwf-OWXEXe-UbuQg:hover,.P2wJPb.RgtwTe.VfPpkd-XPtOyb-OWXEXe-gk6SMd.VfPpkd-ksKsZd-mWPk3d-OWXEXe-AHe6Kc-XpnDCe .VfPpkd-Zr1Nwf-OWXEXe-UbuQg:hover,.P2wJPb.RgtwTe.VfPpkd-XPtOyb-OWXEXe-gk6SMd:hover .VfPpkd-Zr1Nwf-OWXEXe-UbuQg:focus,.P2wJPb.RgtwTe.VfPpkd-XPtOyb-OWXEXe-gk6SMd:active .VfPpkd-Zr1Nwf-OWXEXe-UbuQg:focus,.P2wJPb.RgtwTe.VfPpkd-XPtOyb-OWXEXe-gk6SMd:not(.VfPpkd-ksKsZd-mWPk3d):focus .VfPpkd-Zr1Nwf-OWXEXe-UbuQg:focus,.P2wJPb.RgtwTe.VfPpkd-XPtOyb-OWXEXe-gk6SMd.VfPpkd-ksKsZd-mWPk3d-OWXEXe-AHe6Kc-XpnDCe .VfPpkd-Zr1Nwf-OWXEXe-UbuQg:focus{color:#174ea6}.P2wJPb.RgtwTe.VfPpkd-XPtOyb-OWXEXe-gk6SMd:hover .VfPpkd-PvL5qd-Jt5cK,.P2wJPb.RgtwTe.VfPpkd-XPtOyb-OWXEXe-gk6SMd:active .VfPpkd-PvL5qd-Jt5cK,.P2wJPb.RgtwTe.VfPpkd-XPtOyb-OWXEXe-gk6SMd:not(.VfPpkd-ksKsZd-mWPk3d):focus .VfPpkd-PvL5qd-Jt5cK,.P2wJPb.RgtwTe.VfPpkd-XPtOyb-OWXEXe-gk6SMd.VfPpkd-ksKsZd-mWPk3d-OWXEXe-AHe6Kc-XpnDCe .VfPpkd-PvL5qd-Jt5cK{stroke:#174ea6;stroke:var(--gm-chip-ink-color--stateful,#174ea6)}.P2wJPb.RgtwTe.VfPpkd-XPtOyb-OWXEXe-gk6SMd .VfPpkd-BFbNVe-bF1uUb{opacity:0}.P2wJPb.RgtwTe.VfPpkd-XPtOyb-OWXEXe-gk6SMd .VfPpkd-v1cqY::before,.P2wJPb.RgtwTe.VfPpkd-XPtOyb-OWXEXe-gk6SMd .VfPpkd-v1cqY::after{background-color:#1967d2;background-color:var(--gm-chip-state-color,#1967d2)}.P2wJPb.RgtwTe.VfPpkd-XPtOyb-OWXEXe-gk6SMd:hover .VfPpkd-v1cqY::before{opacity:.04}.P2wJPb.RgtwTe.VfPpkd-XPtOyb-OWXEXe-gk6SMd.VfPpkd-ksKsZd-mWPk3d-OWXEXe-AHe6Kc-XpnDCe .VfPpkd-v1cqY::before,.P2wJPb.RgtwTe.VfPpkd-XPtOyb-OWXEXe-gk6SMd:not(.VfPpkd-ksKsZd-mWPk3d):focus .VfPpkd-v1cqY::before{-webkit-transition-duration:75ms;transition-duration:75ms;opacity:.12}.P2wJPb.RgtwTe.VfPpkd-XPtOyb-OWXEXe-gk6SMd:not(.VfPpkd-ksKsZd-mWPk3d) .VfPpkd-v1cqY::after{-webkit-transition:opacity 150ms linear;transition:opacity 150ms linear}.P2wJPb.RgtwTe.VfPpkd-XPtOyb-OWXEXe-gk6SMd:not(.VfPpkd-ksKsZd-mWPk3d):active .VfPpkd-v1cqY::after{-webkit-transition-duration:75ms;transition-duration:75ms;opacity:.12}.P2wJPb.RgtwTe.VfPpkd-XPtOyb-OWXEXe-gk6SMd.VfPpkd-ksKsZd-mWPk3d{--mdc-ripple-fg-opacity:.12}.YfmZeb{background-color:transparent;background-color:var(--gm-chip-container-color,transparent);border-style:solid;padding-right:15px;padding-left:15px;border-width:1px;border-color:#dadce0;border-color:var(--gm-chip-outline-color,#dadce0)}.YfmZeb .VfPpkd-v1cqY{top:-1px;left:-1px;border:1px solid transparent}.YfmZeb .VfPpkd-v1cqY::before,.YfmZeb .VfPpkd-v1cqY::after{background-color:#3c4043;background-color:var(--gm-chip-state-color,#3c4043)}.YfmZeb:hover .VfPpkd-v1cqY::before{opacity:.04}.YfmZeb.VfPpkd-ksKsZd-mWPk3d-OWXEXe-AHe6Kc-XpnDCe .VfPpkd-v1cqY::before,.YfmZeb:not(.VfPpkd-ksKsZd-mWPk3d):focus .VfPpkd-v1cqY::before{-webkit-transition-duration:75ms;transition-duration:75ms;opacity:.12}.YfmZeb:not(.VfPpkd-ksKsZd-mWPk3d) .VfPpkd-v1cqY::after{-webkit-transition:opacity 150ms linear;transition:opacity 150ms linear}.YfmZeb:not(.VfPpkd-ksKsZd-mWPk3d):active .VfPpkd-v1cqY::after{-webkit-transition-duration:75ms;transition-duration:75ms;opacity:.12}.YfmZeb.VfPpkd-ksKsZd-mWPk3d{--mdc-ripple-fg-opacity:.12}.YfmZeb:focus,.YfmZeb.VfPpkd-XPtOyb-OWXEXe-ssJRIf-JIbuQc-XpnDCe{border-color:#202124;border-color:var(--gm-chip-outline-color--stateful,#202124)}.YfmZeb:active{-webkit-box-shadow:0 2px 1px -1px rgba(0,0,0,0.2),0 1px 1px 0 rgba(0,0,0,0.14),0 1px 3px 0 rgba(0,0,0,0.12);box-shadow:0 2px 1px -1px rgba(0,0,0,0.2),0 1px 1px 0 rgba(0,0,0,0.14),0 1px 3px 0 rgba(0,0,0,0.12)}.YfmZeb.RgtwTe.VfPpkd-XPtOyb-OWXEXe-gk6SMd{padding-right:16px;padding-left:16px;border-width:0}.YfmZeb.RgtwTe.VfPpkd-XPtOyb-OWXEXe-gk6SMd .VfPpkd-v1cqY{top:0;left:0;border:0 solid transparent}.YfmZeb.RgtwTe.VfPpkd-XPtOyb-OWXEXe-gk6SMd:focus,.YfmZeb.RgtwTe.VfPpkd-XPtOyb-OWXEXe-gk6SMd.VfPpkd-XPtOyb-OWXEXe-ssJRIf-JIbuQc-XpnDCe{padding-right:15px;padding-left:15px;border-width:1px}.YfmZeb.RgtwTe.VfPpkd-XPtOyb-OWXEXe-gk6SMd:focus .VfPpkd-v1cqY,.YfmZeb.RgtwTe.VfPpkd-XPtOyb-OWXEXe-gk6SMd.VfPpkd-XPtOyb-OWXEXe-ssJRIf-JIbuQc-XpnDCe .VfPpkd-v1cqY{top:-1px;left:-1px;border:1px solid transparent}.MUK9yc{background-color:#fff;background-color:var(--gm-chip-container-color,#fff);padding-right:16px;padding-left:16px;-webkit-box-shadow:0 2px 1px -1px rgba(0,0,0,0.2),0 1px 1px 0 rgba(0,0,0,0.14),0 1px 3px 0 rgba(0,0,0,0.12);box-shadow:0 2px 1px -1px rgba(0,0,0,0.2),0 1px 1px 0 rgba(0,0,0,0.14),0 1px 3px 0 rgba(0,0,0,0.12)}.MUK9yc .VfPpkd-v1cqY::before,.MUK9yc .VfPpkd-v1cqY::after{background-color:#3c4043;background-color:var(--gm-chip-state-color,#3c4043)}.MUK9yc:hover .VfPpkd-v1cqY::before{opacity:.04}.MUK9yc.VfPpkd-ksKsZd-mWPk3d-OWXEXe-AHe6Kc-XpnDCe .VfPpkd-v1cqY::before,.MUK9yc:not(.VfPpkd-ksKsZd-mWPk3d):focus .VfPpkd-v1cqY::before{-webkit-transition-duration:75ms;transition-duration:75ms;opacity:.12}.MUK9yc:not(.VfPpkd-ksKsZd-mWPk3d) .VfPpkd-v1cqY::after{-webkit-transition:opacity 150ms linear;transition:opacity 150ms linear}.MUK9yc:not(.VfPpkd-ksKsZd-mWPk3d):active .VfPpkd-v1cqY::after{-webkit-transition-duration:75ms;transition-duration:75ms;opacity:.12}.MUK9yc.VfPpkd-ksKsZd-mWPk3d{--mdc-ripple-fg-opacity:.12}.MUK9yc:active{-webkit-box-shadow:0 3px 3px -2px rgba(0,0,0,0.2),0 3px 4px 0 rgba(0,0,0,0.14),0 1px 8px 0 rgba(0,0,0,0.12);box-shadow:0 3px 3px -2px rgba(0,0,0,0.2),0 3px 4px 0 rgba(0,0,0,0.14),0 1px 8px 0 rgba(0,0,0,0.12)}.tTvXye{font-family:Roboto,Arial,sans-serif;font-size:.875rem;font-weight:500;letter-spacing:.0178571429em;line-height:1.25rem;padding-right:11px;padding-left:11px;border-width:1px}.tTvXye .VfPpkd-Zr1Nwf.VfPpkd-Zr1Nwf-OWXEXe-M1Soyc:not(.VfPpkd-Zr1Nwf-OWXEXe-M1Soyc-L6cTce){width:20px;height:20px;font-size:20px}.tTvXye.VfPpkd-XPtOyb-OWXEXe-gk6SMd .VfPpkd-PvL5qd,.tTvXye .VfPpkd-Zr1Nwf-OWXEXe-M1Soyc:not(.VfPpkd-Zr1Nwf-OWXEXe-M1Soyc-L6cTce){margin-left:-3px;margin-right:8px}[dir=rtl] .tTvXye.VfPpkd-XPtOyb-OWXEXe-gk6SMd .VfPpkd-PvL5qd,.tTvXye.VfPpkd-XPtOyb-OWXEXe-gk6SMd .VfPpkd-PvL5qd[dir=rtl],[dir=rtl] .tTvXye .VfPpkd-Zr1Nwf-OWXEXe-M1Soyc:not(.VfPpkd-Zr1Nwf-OWXEXe-M1Soyc-L6cTce),.tTvXye .VfPpkd-Zr1Nwf-OWXEXe-M1Soyc:not(.VfPpkd-Zr1Nwf-OWXEXe-M1Soyc-L6cTce)[dir=rtl]{margin-left:8px;margin-right:-3px}.tTvXye .VfPpkd-XPtOyb-UbuQg-JIbuQc{margin-left:8px;margin-right:-7px}[dir=rtl] .tTvXye .VfPpkd-XPtOyb-UbuQg-JIbuQc,.tTvXye .VfPpkd-XPtOyb-UbuQg-JIbuQc[dir=rtl]{margin-left:-7px;margin-right:8px}.tTvXye .VfPpkd-Zr1Nwf-OWXEXe-UbuQg{margin-left:8px;margin-right:-7px}[dir=rtl] .tTvXye .VfPpkd-Zr1Nwf-OWXEXe-UbuQg,.tTvXye .VfPpkd-Zr1Nwf-OWXEXe-UbuQg[dir=rtl]{margin-left:-7px;margin-right:8px}.tTvXye .VfPpkd-v1cqY{top:-1px;left:-1px;border:1px solid transparent}.tTvXye.RgtwTe.VfPpkd-XPtOyb-OWXEXe-gk6SMd{padding-right:11px;padding-left:11px;border-width:1px;border-color:#e8f0fe;border-color:var(--gm-chip-outline-color,#e8f0fe)}.tTvXye.RgtwTe.VfPpkd-XPtOyb-OWXEXe-gk6SMd:focus,.tTvXye.RgtwTe.VfPpkd-XPtOyb-OWXEXe-gk6SMd.VfPpkd-XPtOyb-OWXEXe-ssJRIf-JIbuQc-XpnDCe{padding-right:11px;padding-left:11px;border-width:1px}.tTvXye.RgtwTe.VfPpkd-XPtOyb-OWXEXe-gk6SMd:focus .VfPpkd-v1cqY,.tTvXye.RgtwTe.VfPpkd-XPtOyb-OWXEXe-gk6SMd.VfPpkd-XPtOyb-OWXEXe-ssJRIf-JIbuQc-XpnDCe .VfPpkd-v1cqY,.tTvXye.RgtwTe.VfPpkd-XPtOyb-OWXEXe-gk6SMd .VfPpkd-v1cqY{top:-1px;left:-1px;border:1px solid transparent}.tTvXye.RgtwTe.VfPpkd-XPtOyb-OWXEXe-gk6SMd:focus,.tTvXye.RgtwTe.VfPpkd-XPtOyb-OWXEXe-gk6SMd.VfPpkd-XPtOyb-OWXEXe-ssJRIf-JIbuQc-XpnDCe{border-color:#174ea6;border-color:var(--gm-chip-outline-color--stateful,#174ea6)}.KshDhe{color:#3c4043;color:var(--gm-chip-ink-color,#3c4043)}.KshDhe .VfPpkd-Zr1Nwf.VfPpkd-Zr1Nwf-OWXEXe-M1Soyc:not(.VfPpkd-Zr1Nwf-OWXEXe-M1Soyc-L6cTce){width:20px;height:20px;font-size:20px}.KshDhe.VfPpkd-XPtOyb-OWXEXe-gk6SMd .VfPpkd-PvL5qd,.KshDhe .VfPpkd-Zr1Nwf-OWXEXe-M1Soyc:not(.VfPpkd-Zr1Nwf-OWXEXe-M1Soyc-L6cTce){margin-left:-8px;margin-right:8px}[dir=rtl] .KshDhe.VfPpkd-XPtOyb-OWXEXe-gk6SMd .VfPpkd-PvL5qd,.KshDhe.VfPpkd-XPtOyb-OWXEXe-gk6SMd .VfPpkd-PvL5qd[dir=rtl],[dir=rtl] .KshDhe .VfPpkd-Zr1Nwf-OWXEXe-M1Soyc:not(.VfPpkd-Zr1Nwf-OWXEXe-M1Soyc-L6cTce),.KshDhe .VfPpkd-Zr1Nwf-OWXEXe-M1Soyc:not(.VfPpkd-Zr1Nwf-OWXEXe-M1Soyc-L6cTce)[dir=rtl]{margin-left:8px;margin-right:-8px}.KshDhe .VfPpkd-Zr1Nwf-OWXEXe-M1Soyc{color:#3c4043}.KshDhe .VfPpkd-XPtOyb-UbuQg-JIbuQc{color:#3c4043;color:var(--gm-chip-ink-color,#3c4043)}.KshDhe .VfPpkd-Zr1Nwf-OWXEXe-UbuQg,.KshDhe .VfPpkd-Zr1Nwf-OWXEXe-UbuQg:hover,.KshDhe .VfPpkd-Zr1Nwf-OWXEXe-UbuQg:focus{color:#3c4043}.KshDhe .VfPpkd-PvL5qd-Jt5cK{stroke:#3c4043;stroke:var(--gm-chip-ink-color,#3c4043)}.KshDhe:hover,.KshDhe:active,.KshDhe:not(.VfPpkd-ksKsZd-mWPk3d):focus,.KshDhe.VfPpkd-ksKsZd-mWPk3d-OWXEXe-AHe6Kc-XpnDCe{color:#202124;color:var(--gm-chip-ink-color--stateful,#202124)}.KshDhe:hover .VfPpkd-Zr1Nwf-OWXEXe-M1Soyc,.KshDhe:active .VfPpkd-Zr1Nwf-OWXEXe-M1Soyc,.KshDhe:not(.VfPpkd-ksKsZd-mWPk3d):focus .VfPpkd-Zr1Nwf-OWXEXe-M1Soyc,.KshDhe.VfPpkd-ksKsZd-mWPk3d-OWXEXe-AHe6Kc-XpnDCe .VfPpkd-Zr1Nwf-OWXEXe-M1Soyc{color:#202124}.KshDhe:hover .VfPpkd-XPtOyb-UbuQg-JIbuQc,.KshDhe:active .VfPpkd-XPtOyb-UbuQg-JIbuQc,.KshDhe:not(.VfPpkd-ksKsZd-mWPk3d):focus .VfPpkd-XPtOyb-UbuQg-JIbuQc,.KshDhe.VfPpkd-ksKsZd-mWPk3d-OWXEXe-AHe6Kc-XpnDCe .VfPpkd-XPtOyb-UbuQg-JIbuQc{color:#202124;color:var(--gm-chip-ink-color--stateful,#202124)}.KshDhe:hover .VfPpkd-Zr1Nwf-OWXEXe-UbuQg,.KshDhe:active .VfPpkd-Zr1Nwf-OWXEXe-UbuQg,.KshDhe:not(.VfPpkd-ksKsZd-mWPk3d):focus .VfPpkd-Zr1Nwf-OWXEXe-UbuQg,.KshDhe.VfPpkd-ksKsZd-mWPk3d-OWXEXe-AHe6Kc-XpnDCe .VfPpkd-Zr1Nwf-OWXEXe-UbuQg,.KshDhe:hover .VfPpkd-Zr1Nwf-OWXEXe-UbuQg:hover,.KshDhe:active .VfPpkd-Zr1Nwf-OWXEXe-UbuQg:hover,.KshDhe:not(.VfPpkd-ksKsZd-mWPk3d):focus .VfPpkd-Zr1Nwf-OWXEXe-UbuQg:hover,.KshDhe.VfPpkd-ksKsZd-mWPk3d-OWXEXe-AHe6Kc-XpnDCe .VfPpkd-Zr1Nwf-OWXEXe-UbuQg:hover,.KshDhe:hover .VfPpkd-Zr1Nwf-OWXEXe-UbuQg:focus,.KshDhe:active .VfPpkd-Zr1Nwf-OWXEXe-UbuQg:focus,.KshDhe:not(.VfPpkd-ksKsZd-mWPk3d):focus .VfPpkd-Zr1Nwf-OWXEXe-UbuQg:focus,.KshDhe.VfPpkd-ksKsZd-mWPk3d-OWXEXe-AHe6Kc-XpnDCe .VfPpkd-Zr1Nwf-OWXEXe-UbuQg:focus{color:#202124}.KshDhe:hover .VfPpkd-PvL5qd-Jt5cK,.KshDhe:active .VfPpkd-PvL5qd-Jt5cK,.KshDhe:not(.VfPpkd-ksKsZd-mWPk3d):focus .VfPpkd-PvL5qd-Jt5cK,.KshDhe.VfPpkd-ksKsZd-mWPk3d-OWXEXe-AHe6Kc-XpnDCe .VfPpkd-PvL5qd-Jt5cK{stroke:#202124;stroke:var(--gm-chip-ink-color--stateful,#202124)}.PdGJo,.PdGJo .VfPpkd-v1cqY,.Zn20Xd,.Zn20Xd .VfPpkd-v1cqY{-webkit-border-radius:8px;border-radius:8px}.Zn20Xd.VfPpkd-XPtOyb-OWXEXe-gk6SMd .VfPpkd-PvL5qd,.Zn20Xd .VfPpkd-Zr1Nwf-OWXEXe-M1Soyc:not(.VfPpkd-Zr1Nwf-OWXEXe-M1Soyc-L6cTce){margin-left:-8px;margin-right:8px}[dir=rtl] .Zn20Xd.VfPpkd-XPtOyb-OWXEXe-gk6SMd .VfPpkd-PvL5qd,.Zn20Xd.VfPpkd-XPtOyb-OWXEXe-gk6SMd .VfPpkd-PvL5qd[dir=rtl],[dir=rtl] .Zn20Xd .VfPpkd-Zr1Nwf-OWXEXe-M1Soyc:not(.VfPpkd-Zr1Nwf-OWXEXe-M1Soyc-L6cTce),.Zn20Xd .VfPpkd-Zr1Nwf-OWXEXe-M1Soyc:not(.VfPpkd-Zr1Nwf-OWXEXe-M1Soyc-L6cTce)[dir=rtl]{margin-left:8px;margin-right:-8px}.VI0jIf{background-color:#e8f0fe;color:#1a73e8;fill:#1a73e8;border:0}.pEXJMe{-webkit-border-radius:80px;border-radius:80px}.uLzOif{border-style:solid;border-color:rgba(0,0,0,0.1);border-width:0 1.2px 0 0;margin-right:8px;padding-right:8px}.ay3Y3e{visibility:hidden;max-width:350px;max-height:220px;background-color:#5f6368;color:#f8f9fa;letter-spacing:.01785714em;font-family:'Google Sans',Roboto,Arial,sans-serif;font-size:.875rem;font-weight:500;line-height:1.25rem;text-align:left;padding:5px 8px;-webkit-border-radius:4px;border-radius:4px;z-index:1;position:relative;left:350px;margin-left:-370px;margin-bottom:-120px;float:left;opacity:0;-webkit-transition:opacity .3s;transition:opacity .3s;-webkit-transition-delay:.8s;transition-delay:.8s}.nkkWn{color:#f8f9fa;letter-spacing:.01428571em;font-family:Roboto,Arial,sans-serif;font-size:.875rem;font-weight:400;line-height:1.25rem}.kozhDc:hover .ay3Y3e{visibility:visible;opacity:1}.SJsObd:hover .ay3Y3e{visibility:visible;opacity:1;top:48px}.wcUu5b{padding:0 0 0 50px;display:-webkit-box;display:-webkit-flex;display:flex;-webkit-flex-direction:row;flex-direction:row;margin-top:-5px;margin-bottom:-5px}.R8ei2d{padding:0 0 0 50px;margin-bottom:-5px}.Dmv2Tb{letter-spacing:.01785714em;font-family:Roboto,Arial,sans-serif;font-size:.875rem;font-weight:500;line-height:1.25rem;color:#1a73e8;margin-top:18px;margin-left:15px;background-color:inherit}.Dmv2Tb:hover{cursor:pointer}.ZaqXIe{display:block;height:100%;width:100%;overflow-x:auto;overflow-y:hidden}.SxWeZe{letter-spacing:.0125em;font-family:Roboto,Arial,sans-serif;font-size:1rem;font-weight:500;line-height:1.5rem}.B4Ef{color:#1a73e8;font-family:'Google Sans',Roboto,Arial,sans-serif;font-size:1.125rem;font-weight:400;letter-spacing:0;line-height:1.5rem}.QCRhVe{font-family:'Google Sans',Roboto,Arial,sans-serif;font-size:1.125rem;font-weight:400;letter-spacing:0;line-height:1.5rem;padding:30px 10px 20px 20px;color:#202124;margin:0 auto;width:fit-content}.eunMq{color:#202124;letter-spacing:.00625em;font-family:Roboto,Arial,sans-serif;font-size:1rem;font-weight:400;line-height:1.5rem}.foClme{height:-webkit-calc(100% - 20px);height:calc(100% - 20px);width:100%;min-width:unset;margin-top:10px;display:inline-block;overflow-y:hidden;background-color:#ffffff;border-top-width:1px;border-top-color:#dddddd;border-top-style:solid;padding-top:0}.RtnJ1d{margin-top:10px;padding:10px 0 0 0;margin-left:0;border-style:solid;border-color:rgba(0,0,0,0.1);border-width:1px 0 0 0;width:100%}.aMTrYd{letter-spacing:.00625em;font-family:Roboto,Arial,sans-serif;font-size:1rem;font-weight:400;line-height:1.5rem}.vcXxY{font-weight:bold;color:#202124}.EF4C4c{font-weight:normal;color:#5f6368}h1,h2,h3,h4,h5,h6{letter-spacing:.00625em;font-family:Roboto,Arial,sans-serif;font-size:1rem;font-weight:400;line-height:1.5rem;color:#202124}a{color:#1a73e8;letter-spacing:.01428571em;font-family:Roboto,Arial,sans-serif;font-size:.875rem;font-weight:400;line-height:1.25rem}p,li,ul,strong{letter-spacing:.01428571em;font-family:Roboto,Arial,sans-serif;font-size:.875rem;font-weight:400;line-height:1.25rem;color:#202124}img{max-width:100%}sentinel{}\n"
          ],
          "name": "stdout"
        }
      ]
    },
    {
      "cell_type": "markdown",
      "metadata": {
        "id": "6jU4_GZ4ZWcX",
        "colab_type": "text"
      },
      "source": [
        "---\n",
        "---\n",
        "##**[2] キーワード検索結果からURL抽出**\n",
        "\n",
        "\n",
        "- 2-1: HTMLファイルからURLを正規表現(https://)で抽出\n",
        "- 2-2: URLのsortとuniue化処理\n",
        "- 2-3:URLリストを表示\n",
        "- 2-4:URLリストをColabディスクに保存\n",
        "- 2-5:URLリストをLocal PCへダウンロード"
      ]
    },
    {
      "cell_type": "code",
      "metadata": {
        "id": "thxacLje-B3v",
        "colab_type": "code",
        "outputId": "add37966-d28f-42ed-f367-dca07c73d7d4",
        "colab": {
          "base_uri": "https://localhost:8080/",
          "height": 73
        }
      },
      "source": [
        "#---------[2-1: HTMLファイルからURLを正規表現(https://)で抽出]-----------------------------\n",
        "# -*- coding: utf-8 -*-\n",
        "# HTMLファイルの中身から、URLのみ抽出。\n",
        "#\n",
        "# HTMLのタグ構造でURLを取得できないので、\n",
        "# BeautifulSoupを使わず、正規表現でURLを取得する。\n",
        "#------------------------------------------------------------------------\n",
        "import re\n",
        " \n",
        "pattern = \"https?://[\\w/:%#\\$&\\?\\(\\)~\\.=\\+\\-]+\"\n",
        " \n",
        "url_list = re.findall(pattern, geturl.text)\n",
        "print(url_list)\n",
        "print('LIST LENGTH=%d' % len(url_list))"
      ],
      "execution_count": 8,
      "outputs": [
        {
          "output_type": "stream",
          "text": [
            "['https://datasetsearch.research.google.com/', 'https://datasetsearch.research.google.com/search', 'https://www.gstatic.com/_/mss/boq-dataset-search/_/ss/k=boq-dataset-search.ResearchSciencesearchDesktopUi.LL28nv8USFM.L.W.O/am=AlE/d=1/ed=1/ct=zgms/rs=ADoVvm_wp-Vs3UPfe69XULB16pzlaABfxQ/m=immersiveview', 'https://www.gstatic.com/_/mss/boq-dataset-search/_/js/k=boq-dataset-search.ResearchSciencesearchDesktopUi.en_US.mwF6bW5w0XY.es5.O/am=AlE/d=1/excm=_b', 'https://www.gstatic.com/images/branding/googlelogo/svg/googlelogo_clr_74x24px.svg', 'https://www.gstatic.com/images/branding/googlelogo/svg/googlelogo_light_clr_74x24px.svg', 'https://www.gstatic.com/images/branding/googlelogo/svg/googlelogo_dark_clr_74x24px.svg', 'https://www.gstatic.com/images/branding/googlelogo/svg/googlelogo_dark_clr_74x24px.svg', 'https://www.gstatic.com/images/branding/googlelogo/svg/googlelogo_light_clr_74x24px.svg', 'https://lh3.googleusercontent.com/ogw/default-user=s24)', 'https://lh3.googleusercontent.com/ogw/default-user=s96)', 'https://lh3.googleusercontent.com/ogw/default-user=s24)', 'https://lh3.googleusercontent.com/ogw/default-user=s96)', 'https://apis.google.com', 'https://www.gstatic.com/og/_/js/k=og.qtm.en_US.sdX7eYboDQI.O/rt=j/m=q_d', 'https://www.gstatic.com/og/_/ss/k=og.qtm.-1ja76zl7zruhx.L.X.O/m=q_sf', 'https://www.google.com', 'http://www.w3.org/2000/svg', 'http://www.w3.org/2000/svg', 'http://www.w3.org/2000/svg', 'https://www.google.com/intl/en/about/products', 'https://myaccount.google.com/?utm_source=OGB&amp', 'https://www.google.com/webhp', 'https://maps.google.com/maps?hl=en', 'https://www.youtube.com/?gl=US', 'https://play.google.com/?hl=en', 'https://news.google.com/nwshp?hl=en', 'https://mail.google.com/mail/', 'https://contacts.google.com/?hl=en', 'https://drive.google.com/', 'https://www.google.com/calendar', 'https://translate.google.com/?hl=en', 'https://photos.google.com/?pageId=none', 'https://duo.google.com/?usp=duo_ald', 'https://www.google.com/chrome/?brand=CHZO&amp', 'https://www.google.com/shopping?hl=en&amp', 'https://www.google.com/finance', 'https://docs.google.com/document/?usp=docs_alc', 'https://docs.google.com/spreadsheets/?usp=sheets_alc', 'https://docs.google.com/presentation/?usp=slides_alc', 'https://books.google.com/bkshp?hl=en', 'https://www.blogger.com/', 'https://hangouts.google.com/', 'https://keep.google.com/', 'https://jamboard.google.com/?usp=jam_ald', 'https://earth.google.com/web/', 'https://www.google.com/save', 'https://artsandculture.google.com/?hl=en', 'https://www.google.com/intl/en/about/products', 'https://accounts.google.com/ServiceLogin?passive=1209600&amp', 'https://datasetsearch.research.google.com/search?query%3Dapoplexy&amp', 'https://datasetsearch.research.google.com/search?query%3Dapoplexy', 'https://www.gstatic.com/images/icons/material/system/1x/search_black_24dp.png', 'https://fonts.googleapis.com/css?family=Google+Sans', 'https://fonts.googleapis.com/icon?family=Material+Icons+Extended', 'https://encrypted-tbn3.gstatic.com/images?q=tbn:ANd9GcQwbWxksazyBm5wWpa762MATxhA0PLos8kVXd9ri2NhG61Uxkd1', 'https://encrypted-tbn3.gstatic.com/images?q=tbn:ANd9GcQwbWxksazyBm5wWpa762MATxhA0PLos8kVXd9ri2NhG61Uxkd1', 'https://www.gstatic.com/images/icons/material/system/svg/search_48px.svg', 'https://developers.google.com/search/docs/data-types/dataset', 'https://www.gstatic.com/images/icons/material/system/1x/clear_black_24dp.png', 'https://www.gstatic.com/kpui/social/fb_32x32.png', 'https://www.gstatic.com/kpui/social/twitter_32x32.png', 'https://www.gstatic.com/images/icons/material/system/1x/mail_grey600_24dp.png', 'https://doi.org/10.1590/2359-3997000000047', 'https://scielo.figshare.com/articles/Pituitary_apoplexy_pathophysiology_diagnosis_and_management/7511510/1', 'https://scielo.figshare.com/articles/Pituitary_apoplexy_pathophysiology_diagnosis_and_management/7511510/1', 'https://scielo.figshare.com/articles/Pituitary_apoplexy_pathophysiology_diagnosis_and_management/7511510/1', 'https://doi.org/10.6084/m9.figshare.7511510.v1', 'https://doi.org/10.6084/m9.figshare.7511510.v1', 'https://creativecommons.org/licenses/by/4.0/', 'https://creativecommons.org/licenses/by/4.0/', 'https://scielo.figshare.com/articles/Pituitary_apoplexy_pathophysiology_diagnosis_and_management/7511510/1', 'https://doi.org/10.1590/2359-3997000000047', 'https://doi.org/10.1590/2359-3997000000047', 'https://scielo.figshare.com/articles/Pituitary_apoplexy_pathophysiology_diagnosis_and_management/7511510/1#__sid', 'https://www.omicsdi.org/dataset/pride/PRD000582', 'http://www.omicsdi.org/dataset/pride/PRD000582', 'https://www.omicsdi.org/dataset/pride/PRD000582#__sid', 'https://figshare.com/articles/Apoplexy_cerebrovascular_disease_and_stroke_Historical_evolution_of_terms_and_definitions/5772570/1', 'https://doi.org/10.1590/1980-57642016dn11-040016', 'https://doi.org/10.1590/1980-57642016dn11-040016', 'https://figshare.com/articles/Apoplexy_cerebrovascular_disease_and_stroke_Historical_evolution_of_terms_and_definitions/5772570/1#__sid', 'https://www.omicsdi.org/dataset/pride/PXD000015', 'http://www.omicsdi.org/dataset/pride/PXD000015', 'https://www.omicsdi.org/dataset/pride/PXD000015#__sid', 'https://scielo.figshare.com/articles/Bilateral_acute_visual_loss_from_Rathke_s_cleft_cyst_apoplexy_in_a_patient_with_dengue_fever/7101689/1', 'https://doi.org/10.5935/0004-2749.20140083', 'https://doi.org/10.5935/0004-2749.20140083', 'https://scielo.figshare.com/articles/Bilateral_acute_visual_loss_from_Rathke_s_cleft_cyst_apoplexy_in_a_patient_with_dengue_fever/7101689/1#__sid', 'http://digitalcommons.us/dataset/1999', 'http://digitalcommons.us/dataset/1999#__sid', 'https://figshare.com/articles/Physiological_Changes_in_Green_Stems_of_i_Vitis_vinifera_i_L_cv_Chardonnay_in_Response_to_Esca_Proper_and_Apoplexy_Revealed_by_Proteomic_and_Transcriptomic_Analyses/2566051', 'https://doi.org/10.1021/pr200892g', 'https://doi.org/10.1021/pr200892g', 'https://figshare.com/articles/Physiological_Changes_in_Green_Stems_of_i_Vitis_vinifera_i_L_cv_Chardonnay_in_Response_to_Esca_Proper_and_Apoplexy_Revealed_by_Proteomic_and_Transcriptomic_Analyses/2566051#__sid', 'https://plos.figshare.com/articles/_Incidence_of_PA_in_subgroups_/1557603/1', 'https://doi.org/10.1371/journal.pone.0139088', 'https://doi.org/10.1371/journal.pone.0139088', 'https://plos.figshare.com/articles/_Incidence_of_PA_in_subgroups_/1557603/1#__sid', 'https://explore.openaire.eu/search/publication?articleId', 'https://doi.org/10.1590/S0004-27302013000600012', 'https://explore.openaire.eu/search/publication?articleId', 'https://explore.openaire.eu/search/publication?articleId', 'https://explore.openaire.eu/search/publication?articleId', 'https://explore.openaire.eu/search/publication?articleId', 'https://explore.openaire.eu/search/publication?articleId', 'https://figshare.com/articles/_Surgical_approach_and_postoperative_complications_/1557606/1', 'https://doi.org/10.1371/journal.pone.0139088', 'https://doi.org/10.1371/journal.pone.0139088', 'https://figshare.com/articles/_Surgical_approach_and_postoperative_complications_/1557606/1#__sid', 'https://datamed.org/display-item.php?repository', 'https://omictools.com/24a6ca7b6c5b763f407e27da9e6f9192-dataset', 'https://datamed.org/display-item.php?repository', 'https://explore.openaire.eu/search/publication?articleId', 'https://doi.org/10.18869/acadpub.irjns.1.3.11', 'https://explore.openaire.eu/search/publication?articleId', 'https://researchdata.ands.org.au/reports-inquests/169091', 'https://www.records.nsw.gov.au/', 'https://encrypted-tbn3.gstatic.com/images?q', 'https://researchdata.ands.org.au/reports-inquests/169091#__sid', 'https://scielo.figshare.com/articles/A_review_on_the_diagnosis_and_treatment_of_patients_with_clinically_nonfunctioning_pituitary_adenoma_by_the_Neuroendocrinology_Department_of_the_Brazilian_Society_of_Endocrinology_and_Metabolism/7514726/1', 'https://doi.org/10.1590/2359-3997000000179', 'https://doi.org/10.1590/2359-3997000000179', 'https://scielo.figshare.com/articles/A_review_on_the_diagnosis_and_treatment_of_patients_with_clinically_nonfunctioning_pituitary_adenoma_by_the_Neuroendocrinology_Department_of_the_Brazilian_Society_of_Endocrinology_and_Metabolism/7514726/1#__sid', 'https://researchdata.ands.org.au/172919/172919', 'https://www.records.nsw.gov.au/', 'https://encrypted-tbn3.gstatic.com/images?q', 'https://researchdata.ands.org.au/172919/172919#__sid', 'https://explore.openaire.eu/search/publication?articleId', 'https://scholar.google.com/scholar?q', 'https://explore.openaire.eu/search/publication?articleId']\n",
            "LIST LENGTH=131\n"
          ],
          "name": "stdout"
        }
      ]
    },
    {
      "cell_type": "code",
      "metadata": {
        "id": "dWjM6U862rWG",
        "colab_type": "code",
        "outputId": "b5e58d03-2a46-48c7-be64-21a1f11ff845",
        "colab": {
          "base_uri": "https://localhost:8080/",
          "height": 35
        }
      },
      "source": [
        "#-----[2-2: URLのsortとuniue化処理]--------------------------------\n",
        "#\n",
        "# URLのリストをsortして、unique化\n",
        "#\n",
        "#-------------------------------------------------\n",
        "\n",
        "url_list_uniq = list(set(url_list)) \n",
        "url_list2 = sorted(url_list_uniq)\n",
        "print('LIST LENGTH=%d' % len(url_list2))"
      ],
      "execution_count": 9,
      "outputs": [
        {
          "output_type": "stream",
          "text": [
            "LIST LENGTH=97\n"
          ],
          "name": "stdout"
        }
      ]
    },
    {
      "cell_type": "code",
      "metadata": {
        "id": "wMTyIWVnps10",
        "colab_type": "code",
        "outputId": "d90183ce-9190-4317-83d8-62912b5e03bb",
        "colab": {
          "base_uri": "https://localhost:8080/",
          "height": 1000
        }
      },
      "source": [
        "#---[2-3:URLリストを表示]------------------------\n",
        "#\n",
        "# URLリストを確認する\n",
        "#---------------------------------\n",
        "import pprint\n",
        "\n",
        "pprint.pprint(url_list2)"
      ],
      "execution_count": 10,
      "outputs": [
        {
          "output_type": "stream",
          "text": [
            "['http://digitalcommons.us/dataset/1999',\n",
            " 'http://digitalcommons.us/dataset/1999#__sid',\n",
            " 'http://www.omicsdi.org/dataset/pride/PRD000582',\n",
            " 'http://www.omicsdi.org/dataset/pride/PXD000015',\n",
            " 'http://www.w3.org/2000/svg',\n",
            " 'https://accounts.google.com/ServiceLogin?passive=1209600&amp',\n",
            " 'https://apis.google.com',\n",
            " 'https://artsandculture.google.com/?hl=en',\n",
            " 'https://books.google.com/bkshp?hl=en',\n",
            " 'https://contacts.google.com/?hl=en',\n",
            " 'https://creativecommons.org/licenses/by/4.0/',\n",
            " 'https://datamed.org/display-item.php?repository',\n",
            " 'https://datasetsearch.research.google.com/',\n",
            " 'https://datasetsearch.research.google.com/search',\n",
            " 'https://datasetsearch.research.google.com/search?query%3Dapoplexy',\n",
            " 'https://datasetsearch.research.google.com/search?query%3Dapoplexy&amp',\n",
            " 'https://developers.google.com/search/docs/data-types/dataset',\n",
            " 'https://docs.google.com/document/?usp=docs_alc',\n",
            " 'https://docs.google.com/presentation/?usp=slides_alc',\n",
            " 'https://docs.google.com/spreadsheets/?usp=sheets_alc',\n",
            " 'https://doi.org/10.1021/pr200892g',\n",
            " 'https://doi.org/10.1371/journal.pone.0139088',\n",
            " 'https://doi.org/10.1590/1980-57642016dn11-040016',\n",
            " 'https://doi.org/10.1590/2359-3997000000047',\n",
            " 'https://doi.org/10.1590/2359-3997000000179',\n",
            " 'https://doi.org/10.1590/S0004-27302013000600012',\n",
            " 'https://doi.org/10.18869/acadpub.irjns.1.3.11',\n",
            " 'https://doi.org/10.5935/0004-2749.20140083',\n",
            " 'https://doi.org/10.6084/m9.figshare.7511510.v1',\n",
            " 'https://drive.google.com/',\n",
            " 'https://duo.google.com/?usp=duo_ald',\n",
            " 'https://earth.google.com/web/',\n",
            " 'https://encrypted-tbn3.gstatic.com/images?q',\n",
            " 'https://encrypted-tbn3.gstatic.com/images?q=tbn:ANd9GcQwbWxksazyBm5wWpa762MATxhA0PLos8kVXd9ri2NhG61Uxkd1',\n",
            " 'https://explore.openaire.eu/search/publication?articleId',\n",
            " 'https://figshare.com/articles/Apoplexy_cerebrovascular_disease_and_stroke_Historical_evolution_of_terms_and_definitions/5772570/1',\n",
            " 'https://figshare.com/articles/Apoplexy_cerebrovascular_disease_and_stroke_Historical_evolution_of_terms_and_definitions/5772570/1#__sid',\n",
            " 'https://figshare.com/articles/Physiological_Changes_in_Green_Stems_of_i_Vitis_vinifera_i_L_cv_Chardonnay_in_Response_to_Esca_Proper_and_Apoplexy_Revealed_by_Proteomic_and_Transcriptomic_Analyses/2566051',\n",
            " 'https://figshare.com/articles/Physiological_Changes_in_Green_Stems_of_i_Vitis_vinifera_i_L_cv_Chardonnay_in_Response_to_Esca_Proper_and_Apoplexy_Revealed_by_Proteomic_and_Transcriptomic_Analyses/2566051#__sid',\n",
            " 'https://figshare.com/articles/_Surgical_approach_and_postoperative_complications_/1557606/1',\n",
            " 'https://figshare.com/articles/_Surgical_approach_and_postoperative_complications_/1557606/1#__sid',\n",
            " 'https://fonts.googleapis.com/css?family=Google+Sans',\n",
            " 'https://fonts.googleapis.com/icon?family=Material+Icons+Extended',\n",
            " 'https://hangouts.google.com/',\n",
            " 'https://jamboard.google.com/?usp=jam_ald',\n",
            " 'https://keep.google.com/',\n",
            " 'https://lh3.googleusercontent.com/ogw/default-user=s24)',\n",
            " 'https://lh3.googleusercontent.com/ogw/default-user=s96)',\n",
            " 'https://mail.google.com/mail/',\n",
            " 'https://maps.google.com/maps?hl=en',\n",
            " 'https://myaccount.google.com/?utm_source=OGB&amp',\n",
            " 'https://news.google.com/nwshp?hl=en',\n",
            " 'https://omictools.com/24a6ca7b6c5b763f407e27da9e6f9192-dataset',\n",
            " 'https://photos.google.com/?pageId=none',\n",
            " 'https://play.google.com/?hl=en',\n",
            " 'https://plos.figshare.com/articles/_Incidence_of_PA_in_subgroups_/1557603/1',\n",
            " 'https://plos.figshare.com/articles/_Incidence_of_PA_in_subgroups_/1557603/1#__sid',\n",
            " 'https://researchdata.ands.org.au/172919/172919',\n",
            " 'https://researchdata.ands.org.au/172919/172919#__sid',\n",
            " 'https://researchdata.ands.org.au/reports-inquests/169091',\n",
            " 'https://researchdata.ands.org.au/reports-inquests/169091#__sid',\n",
            " 'https://scholar.google.com/scholar?q',\n",
            " 'https://scielo.figshare.com/articles/A_review_on_the_diagnosis_and_treatment_of_patients_with_clinically_nonfunctioning_pituitary_adenoma_by_the_Neuroendocrinology_Department_of_the_Brazilian_Society_of_Endocrinology_and_Metabolism/7514726/1',\n",
            " 'https://scielo.figshare.com/articles/A_review_on_the_diagnosis_and_treatment_of_patients_with_clinically_nonfunctioning_pituitary_adenoma_by_the_Neuroendocrinology_Department_of_the_Brazilian_Society_of_Endocrinology_and_Metabolism/7514726/1#__sid',\n",
            " 'https://scielo.figshare.com/articles/Bilateral_acute_visual_loss_from_Rathke_s_cleft_cyst_apoplexy_in_a_patient_with_dengue_fever/7101689/1',\n",
            " 'https://scielo.figshare.com/articles/Bilateral_acute_visual_loss_from_Rathke_s_cleft_cyst_apoplexy_in_a_patient_with_dengue_fever/7101689/1#__sid',\n",
            " 'https://scielo.figshare.com/articles/Pituitary_apoplexy_pathophysiology_diagnosis_and_management/7511510/1',\n",
            " 'https://scielo.figshare.com/articles/Pituitary_apoplexy_pathophysiology_diagnosis_and_management/7511510/1#__sid',\n",
            " 'https://translate.google.com/?hl=en',\n",
            " 'https://www.blogger.com/',\n",
            " 'https://www.google.com',\n",
            " 'https://www.google.com/calendar',\n",
            " 'https://www.google.com/chrome/?brand=CHZO&amp',\n",
            " 'https://www.google.com/finance',\n",
            " 'https://www.google.com/intl/en/about/products',\n",
            " 'https://www.google.com/save',\n",
            " 'https://www.google.com/shopping?hl=en&amp',\n",
            " 'https://www.google.com/webhp',\n",
            " 'https://www.gstatic.com/_/mss/boq-dataset-search/_/js/k=boq-dataset-search.ResearchSciencesearchDesktopUi.en_US.mwF6bW5w0XY.es5.O/am=AlE/d=1/excm=_b',\n",
            " 'https://www.gstatic.com/_/mss/boq-dataset-search/_/ss/k=boq-dataset-search.ResearchSciencesearchDesktopUi.LL28nv8USFM.L.W.O/am=AlE/d=1/ed=1/ct=zgms/rs=ADoVvm_wp-Vs3UPfe69XULB16pzlaABfxQ/m=immersiveview',\n",
            " 'https://www.gstatic.com/images/branding/googlelogo/svg/googlelogo_clr_74x24px.svg',\n",
            " 'https://www.gstatic.com/images/branding/googlelogo/svg/googlelogo_dark_clr_74x24px.svg',\n",
            " 'https://www.gstatic.com/images/branding/googlelogo/svg/googlelogo_light_clr_74x24px.svg',\n",
            " 'https://www.gstatic.com/images/icons/material/system/1x/clear_black_24dp.png',\n",
            " 'https://www.gstatic.com/images/icons/material/system/1x/mail_grey600_24dp.png',\n",
            " 'https://www.gstatic.com/images/icons/material/system/1x/search_black_24dp.png',\n",
            " 'https://www.gstatic.com/images/icons/material/system/svg/search_48px.svg',\n",
            " 'https://www.gstatic.com/kpui/social/fb_32x32.png',\n",
            " 'https://www.gstatic.com/kpui/social/twitter_32x32.png',\n",
            " 'https://www.gstatic.com/og/_/js/k=og.qtm.en_US.sdX7eYboDQI.O/rt=j/m=q_d',\n",
            " 'https://www.gstatic.com/og/_/ss/k=og.qtm.-1ja76zl7zruhx.L.X.O/m=q_sf',\n",
            " 'https://www.omicsdi.org/dataset/pride/PRD000582',\n",
            " 'https://www.omicsdi.org/dataset/pride/PRD000582#__sid',\n",
            " 'https://www.omicsdi.org/dataset/pride/PXD000015',\n",
            " 'https://www.omicsdi.org/dataset/pride/PXD000015#__sid',\n",
            " 'https://www.records.nsw.gov.au/',\n",
            " 'https://www.youtube.com/?gl=US']\n"
          ],
          "name": "stdout"
        }
      ]
    },
    {
      "cell_type": "code",
      "metadata": {
        "id": "Guk6J2JUtRCX",
        "colab_type": "code",
        "outputId": "1cb15ccf-f692-4efc-c976-fecc59de3c59",
        "colab": {
          "base_uri": "https://localhost:8080/",
          "height": 266
        }
      },
      "source": [
        "#---[2-4:URLリストをColabディスクに保存]------------------------\n",
        "#\n",
        "# ファイルに出力:url_list2.txt\n",
        "#\n",
        "#--------------------------------------------\n",
        "str_ = '\\n'.join(url_list2)\n",
        "with open(\"url_list2.txt\", 'wt') as f1:\n",
        "    f1.write(str_)\n",
        "\n",
        "!ls -l   \n",
        "!head url_list2.txt"
      ],
      "execution_count": 11,
      "outputs": [
        {
          "output_type": "stream",
          "text": [
            "total 360\n",
            "drwxr-xr-x 1 root root   4096 May  4 16:26 sample_data\n",
            "-rw-r--r-- 1 root root   6280 May  7 01:50 url_list2.txt\n",
            "-rw-r--r-- 1 root root 352458 May  7 00:50 url_test1.htm\n",
            "http://digitalcommons.us/dataset/1999\n",
            "http://digitalcommons.us/dataset/1999#__sid\n",
            "http://www.omicsdi.org/dataset/pride/PRD000582\n",
            "http://www.omicsdi.org/dataset/pride/PXD000015\n",
            "http://www.w3.org/2000/svg\n",
            "https://accounts.google.com/ServiceLogin?passive=1209600&amp\n",
            "https://apis.google.com\n",
            "https://artsandculture.google.com/?hl=en\n",
            "https://books.google.com/bkshp?hl=en\n",
            "https://contacts.google.com/?hl=en\n"
          ],
          "name": "stdout"
        }
      ]
    },
    {
      "cell_type": "code",
      "metadata": {
        "id": "3YTFUtbznxQ3",
        "colab_type": "code",
        "colab": {}
      },
      "source": [
        "#---[2-5:URLリストをLocal PCへダウンロード]------------------------------\n",
        "#\n",
        "# ColabからLocal PCへurl_list2.txtをダウンロード\n",
        "#\n",
        "#------------------------------------\n",
        "from google.colab import files\n",
        "\n",
        "files.download('url_list2.txt')\n"
      ],
      "execution_count": 0,
      "outputs": []
    },
    {
      "cell_type": "markdown",
      "metadata": {
        "id": "hv68mwAQacGt",
        "colab_type": "text"
      },
      "source": [
        "---\n",
        "---\n",
        "##**[3]. URLのうちhttps://figshare.com/のみ抽出**\n",
        "\n",
        "- 3-1: https://figshare.com/のURLのみ抽出\n",
        "- 3-2: #__sidを除外\n",
        "- 3-3: figshare URLをLocal PCへダウンロード"
      ]
    },
    {
      "cell_type": "code",
      "metadata": {
        "id": "mIRxlFYiGWG1",
        "colab_type": "code",
        "outputId": "3e0da34a-01f7-4938-f92e-122bbc1a2d3a",
        "colab": {
          "base_uri": "https://localhost:8080/",
          "height": 286
        }
      },
      "source": [
        "#--[3-1: https://figshare.com/のURLのみ抽出]-------------------------------\n",
        "#\n",
        "# url_list2.txtからfigshare.comのみ抽出\n",
        "#---------------------------------------------------------\n",
        "\n",
        "!grep 'figshare.com' url_list2.txt > url_list2_fs.txt\n",
        "!cat url_list2_fs.txt \n"
      ],
      "execution_count": 13,
      "outputs": [
        {
          "output_type": "stream",
          "text": [
            "https://figshare.com/articles/Apoplexy_cerebrovascular_disease_and_stroke_Historical_evolution_of_terms_and_definitions/5772570/1\n",
            "https://figshare.com/articles/Apoplexy_cerebrovascular_disease_and_stroke_Historical_evolution_of_terms_and_definitions/5772570/1#__sid\n",
            "https://figshare.com/articles/Physiological_Changes_in_Green_Stems_of_i_Vitis_vinifera_i_L_cv_Chardonnay_in_Response_to_Esca_Proper_and_Apoplexy_Revealed_by_Proteomic_and_Transcriptomic_Analyses/2566051\n",
            "https://figshare.com/articles/Physiological_Changes_in_Green_Stems_of_i_Vitis_vinifera_i_L_cv_Chardonnay_in_Response_to_Esca_Proper_and_Apoplexy_Revealed_by_Proteomic_and_Transcriptomic_Analyses/2566051#__sid\n",
            "https://figshare.com/articles/_Surgical_approach_and_postoperative_complications_/1557606/1\n",
            "https://figshare.com/articles/_Surgical_approach_and_postoperative_complications_/1557606/1#__sid\n",
            "https://plos.figshare.com/articles/_Incidence_of_PA_in_subgroups_/1557603/1\n",
            "https://plos.figshare.com/articles/_Incidence_of_PA_in_subgroups_/1557603/1#__sid\n",
            "https://scielo.figshare.com/articles/A_review_on_the_diagnosis_and_treatment_of_patients_with_clinically_nonfunctioning_pituitary_adenoma_by_the_Neuroendocrinology_Department_of_the_Brazilian_Society_of_Endocrinology_and_Metabolism/7514726/1\n",
            "https://scielo.figshare.com/articles/A_review_on_the_diagnosis_and_treatment_of_patients_with_clinically_nonfunctioning_pituitary_adenoma_by_the_Neuroendocrinology_Department_of_the_Brazilian_Society_of_Endocrinology_and_Metabolism/7514726/1#__sid\n",
            "https://scielo.figshare.com/articles/Bilateral_acute_visual_loss_from_Rathke_s_cleft_cyst_apoplexy_in_a_patient_with_dengue_fever/7101689/1\n",
            "https://scielo.figshare.com/articles/Bilateral_acute_visual_loss_from_Rathke_s_cleft_cyst_apoplexy_in_a_patient_with_dengue_fever/7101689/1#__sid\n",
            "https://scielo.figshare.com/articles/Pituitary_apoplexy_pathophysiology_diagnosis_and_management/7511510/1\n",
            "https://scielo.figshare.com/articles/Pituitary_apoplexy_pathophysiology_diagnosis_and_management/7511510/1#__sid\n"
          ],
          "name": "stdout"
        }
      ]
    },
    {
      "cell_type": "code",
      "metadata": {
        "id": "beLC4cRnG0bZ",
        "colab_type": "code",
        "outputId": "e6fce0b5-1c91-4fb4-8b3b-de39455c41ff",
        "colab": {
          "base_uri": "https://localhost:8080/",
          "height": 179
        }
      },
      "source": [
        "#--------[3-2: #__sidを除外]--------------------------------------\n",
        "#\n",
        "# URLの最後に[#__sid]があるURLは、重複なので除外する。\n",
        "#-------------------------------------------------------------------\n",
        "!grep -v \"__sid$\" url_list2_fs.txt > url_list2_fscl.txt\n",
        "!cat url_list2_fscl.txt\n",
        "!wc -l url_list2_fscl.txt"
      ],
      "execution_count": 14,
      "outputs": [
        {
          "output_type": "stream",
          "text": [
            "https://figshare.com/articles/Apoplexy_cerebrovascular_disease_and_stroke_Historical_evolution_of_terms_and_definitions/5772570/1\n",
            "https://figshare.com/articles/Physiological_Changes_in_Green_Stems_of_i_Vitis_vinifera_i_L_cv_Chardonnay_in_Response_to_Esca_Proper_and_Apoplexy_Revealed_by_Proteomic_and_Transcriptomic_Analyses/2566051\n",
            "https://figshare.com/articles/_Surgical_approach_and_postoperative_complications_/1557606/1\n",
            "https://plos.figshare.com/articles/_Incidence_of_PA_in_subgroups_/1557603/1\n",
            "https://scielo.figshare.com/articles/A_review_on_the_diagnosis_and_treatment_of_patients_with_clinically_nonfunctioning_pituitary_adenoma_by_the_Neuroendocrinology_Department_of_the_Brazilian_Society_of_Endocrinology_and_Metabolism/7514726/1\n",
            "https://scielo.figshare.com/articles/Bilateral_acute_visual_loss_from_Rathke_s_cleft_cyst_apoplexy_in_a_patient_with_dengue_fever/7101689/1\n",
            "https://scielo.figshare.com/articles/Pituitary_apoplexy_pathophysiology_diagnosis_and_management/7511510/1\n",
            "7 url_list2_fscl.txt\n"
          ],
          "name": "stdout"
        }
      ]
    },
    {
      "cell_type": "code",
      "metadata": {
        "id": "VGzZtOFlaaPk",
        "colab_type": "code",
        "colab": {}
      },
      "source": [
        "#---[3-3: figshare URLをLocal PCへダウンロード]------------------------------\n",
        "# ColabからLocal PCへ「url_list2_fscl.txt」をダウンロード\n",
        "#\n",
        "#------------------------------------\n",
        "from google.colab import files\n",
        "\n",
        "files.download('url_list2_fscl.txt')"
      ],
      "execution_count": 0,
      "outputs": []
    },
    {
      "cell_type": "markdown",
      "metadata": {
        "id": "HHYGOXCdL8lO",
        "colab_type": "text"
      },
      "source": [
        "---\n",
        "---\n",
        "##**[4]　figshareサイトからオープンデータのURL取得**\n",
        "\n",
        "GDS検索結果から得た「figshare.com」URLをreadlinesでファイルから読込み、データのダウンロードURLを取得する。\n",
        "\n",
        "- 4-1:ファイルからfigshareのURLを読み込む\n",
        "- 4-2:正規表現でオープンデータのURLを抽出\n",
        "- 4-3:取得ファイルの確認\n",
        "- 4-4:ファイルからbibのURLを読み込む\n",
        "- 4-5: bibデータリストをLocal PCへダウンロード\n",
        "\n"
      ]
    },
    {
      "cell_type": "code",
      "metadata": {
        "id": "s3hQJtIGS3pE",
        "colab_type": "code",
        "outputId": "4a19ce85-e93c-48af-e676-ceee569a79e6",
        "colab": {
          "base_uri": "https://localhost:8080/",
          "height": 179
        }
      },
      "source": [
        "#---[4-1:ファイルからfigshareのURLを読み込む]------------------------------\n",
        "# \n",
        "# https://ndownloader.figshare.com/files/1650964\n",
        "# \n",
        "#\n",
        "#------------------------------------\n",
        "import os\n",
        "str.rstrip(os.linesep)\n",
        "\n",
        "f = open('url_list2_fscl.txt', 'r', encoding='utf-8')\n",
        "list = f.readlines()\n",
        "\n",
        "NHIT=len(list)\n",
        "\n",
        "nn=1\n",
        "for tmpline1 in list:\n",
        "  tmp1 = tmpline1.replace('\\n','')\n",
        "  tmpline = tmp1.replace('\\r','')\n",
        "  print(\"%d[%s]\" % (nn,tmpline)) \n",
        "  nn=nn+1\n",
        "f.close()\n",
        "\n",
        "print('NHIT=%d' % NHIT)"
      ],
      "execution_count": 15,
      "outputs": [
        {
          "output_type": "stream",
          "text": [
            "1[https://figshare.com/articles/Apoplexy_cerebrovascular_disease_and_stroke_Historical_evolution_of_terms_and_definitions/5772570/1]\n",
            "2[https://figshare.com/articles/Physiological_Changes_in_Green_Stems_of_i_Vitis_vinifera_i_L_cv_Chardonnay_in_Response_to_Esca_Proper_and_Apoplexy_Revealed_by_Proteomic_and_Transcriptomic_Analyses/2566051]\n",
            "3[https://figshare.com/articles/_Surgical_approach_and_postoperative_complications_/1557606/1]\n",
            "4[https://plos.figshare.com/articles/_Incidence_of_PA_in_subgroups_/1557603/1]\n",
            "5[https://scielo.figshare.com/articles/A_review_on_the_diagnosis_and_treatment_of_patients_with_clinically_nonfunctioning_pituitary_adenoma_by_the_Neuroendocrinology_Department_of_the_Brazilian_Society_of_Endocrinology_and_Metabolism/7514726/1]\n",
            "6[https://scielo.figshare.com/articles/Bilateral_acute_visual_loss_from_Rathke_s_cleft_cyst_apoplexy_in_a_patient_with_dengue_fever/7101689/1]\n",
            "7[https://scielo.figshare.com/articles/Pituitary_apoplexy_pathophysiology_diagnosis_and_management/7511510/1]\n",
            "NHIT=7\n"
          ],
          "name": "stdout"
        }
      ]
    },
    {
      "cell_type": "code",
      "metadata": {
        "id": "LjESaqq9fYaX",
        "colab_type": "code",
        "outputId": "38751386-0a6f-4fe3-938c-7cdd1759f917",
        "colab": {
          "base_uri": "https://localhost:8080/",
          "height": 535
        }
      },
      "source": [
        "#-----[4-2:正規表現で特定URLを抽出（①https://ndownloader.figshare.com/,②citations/bibtex]------------------------------------\n",
        "#\n",
        "# 正規表現で取得したいURLは2種類\n",
        "#\n",
        "# ① ndwonloader.figshare.comのURL抽出\n",
        "#   https://ndownloader.figshare.com/articles/1207864/versions/1\n",
        "#   \n",
        "# ②bibtexファイルのURL抽出\n",
        "#\n",
        "#-----------------------------------------------------------------------\n",
        "\n",
        "import requests\n",
        "import re\n",
        "\n",
        "nn=1\n",
        "for tmpline1 in list:\n",
        "  #-----[1] get url with removed \\r\\n-------------------------\n",
        "  tmp1 = tmpline1.replace('\\n','')\n",
        "  tmpline = tmp1.replace('\\r','')\n",
        "  print(\"%d[%s]\" % (nn,tmpline)) \n",
        "\n",
        "  #-----[2] get web html-------------------------\n",
        "  web_cmd=tmpline\n",
        "  geturl = requests.get(web_cmd)\n",
        "\n",
        "  #-----[3-①] extract url from web html-------------------------\n",
        "  pattern = \"https?://ndownloader.figshare.com/[\\w/:%#\\$&\\?\\(\\)~\\.=\\+\\-]+\"\n",
        "  url_list = re.findall(pattern, geturl.text)\n",
        "  print(\"%d [%d]\" % (nn,len(url_list)))\n",
        "  \n",
        "  pattern = \"https://ndownloader.figshare.com/articles/\\d+?/versions/\"\n",
        "  url_data_hit = re.findall(pattern, geturl.text)\n",
        "  print(\"%d [%d]\" % (nn,len(url_data_hit)))\n",
        "  \n",
        "\n",
        "\n",
        "  #-----[3-②] extract bib from web html-------------------------\n",
        "  pattern_bib = \"articles/\\d+?/1/citations/bibtex\"\n",
        "  url_bib_tmp = re.findall(pattern_bib, geturl.text)\n",
        "  for bib1 in url_bib_tmp:\n",
        "    tmp1=str(bib1)\n",
        "    tmp2 = tmp1.replace('\\']','')\n",
        "    url_bib_tmp = tmp2.replace('[\\'','')\n",
        "    url_bib='https://figshare.com/%s' % url_bib_tmp\n",
        "    print(\"%d [%s]\" % (nn,url_bib))\n",
        "\n",
        "  #-----[4-1-1] save url--------------\n",
        "  str_ = '\\n'.join(url_list)\n",
        "  oname='data_list_%d.txt' % nn\n",
        "  with open(oname, 'wt') as f1:\n",
        "    f1.write(str_)\n",
        "\n",
        "  #-----[4-1-2] save outputfile--------------\n",
        "  str_ = '\\n'.join(url_data_hit)\n",
        "  oname='data_hit_%d.txt' % nn\n",
        "  with open(oname, 'wt') as f1:\n",
        "    f1.write(str_)\n",
        "\n",
        "  #-----[4-1-3] save outputfile--------------\n",
        "  oname='data_bib_%d.txt' % nn\n",
        "  with open(oname, 'wt') as f1:\n",
        "    f1.write(url_bib)\n",
        "\n",
        "  #-----[5] update-------------------------\n",
        "  nn=nn+1"
      ],
      "execution_count": 16,
      "outputs": [
        {
          "output_type": "stream",
          "text": [
            "1[https://figshare.com/articles/Apoplexy_cerebrovascular_disease_and_stroke_Historical_evolution_of_terms_and_definitions/5772570/1]\n",
            "1 [9]\n",
            "1 [1]\n",
            "1 [https://figshare.com/articles/5772570/1/citations/bibtex]\n",
            "2[https://figshare.com/articles/Physiological_Changes_in_Green_Stems_of_i_Vitis_vinifera_i_L_cv_Chardonnay_in_Response_to_Esca_Proper_and_Apoplexy_Revealed_by_Proteomic_and_Transcriptomic_Analyses/2566051]\n",
            "2 [7]\n",
            "2 [1]\n",
            "2 [https://figshare.com/articles/2566051/1/citations/bibtex]\n",
            "3[https://figshare.com/articles/_Surgical_approach_and_postoperative_complications_/1557606/1]\n",
            "3 [5]\n",
            "3 [1]\n",
            "3 [https://figshare.com/articles/1557606/1/citations/bibtex]\n",
            "4[https://plos.figshare.com/articles/_Incidence_of_PA_in_subgroups_/1557603/1]\n",
            "4 [0]\n",
            "4 [0]\n",
            "4 [https://figshare.com/articles/1557603/1/citations/bibtex]\n",
            "5[https://scielo.figshare.com/articles/A_review_on_the_diagnosis_and_treatment_of_patients_with_clinically_nonfunctioning_pituitary_adenoma_by_the_Neuroendocrinology_Department_of_the_Brazilian_Society_of_Endocrinology_and_Metabolism/7514726/1]\n",
            "5 [0]\n",
            "5 [0]\n",
            "5 [https://figshare.com/articles/7514726/1/citations/bibtex]\n",
            "6[https://scielo.figshare.com/articles/Bilateral_acute_visual_loss_from_Rathke_s_cleft_cyst_apoplexy_in_a_patient_with_dengue_fever/7101689/1]\n",
            "6 [0]\n",
            "6 [0]\n",
            "6 [https://figshare.com/articles/7101689/1/citations/bibtex]\n",
            "7[https://scielo.figshare.com/articles/Pituitary_apoplexy_pathophysiology_diagnosis_and_management/7511510/1]\n",
            "7 [0]\n",
            "7 [0]\n",
            "7 [https://figshare.com/articles/7511510/1/citations/bibtex]\n"
          ],
          "name": "stdout"
        }
      ]
    },
    {
      "cell_type": "code",
      "metadata": {
        "id": "vpAZNWNrXGeb",
        "colab_type": "code",
        "outputId": "a1369ea6-2fd8-493e-86d0-45b739b85284",
        "colab": {
          "base_uri": "https://localhost:8080/",
          "height": 675
        }
      },
      "source": [
        "#---[4-3:取得ファイルの確認]----------------------\n",
        "#\n",
        "# 1)lsでリストを表示\n",
        "# 2)1番目のファイルだけ中身を表示する\n",
        "#\n",
        "#--------------------------------------------------\n",
        "!ls -l\n",
        "\n",
        "!cat data_hit_1.txt\n",
        "!echo \" \" \n",
        "!cat data_bib_1.txt"
      ],
      "execution_count": 25,
      "outputs": [
        {
          "output_type": "stream",
          "text": [
            "total 452\n",
            "-rw-r--r-- 1 root root    373 May  7 01:51 bib_1.txt\n",
            "-rw-r--r-- 1 root root    711 May  7 01:51 bib_2.txt\n",
            "-rw-r--r-- 1 root root    471 May  7 01:51 bib_3.txt\n",
            "-rw-r--r-- 1 root root    429 May  7 01:51 bib_4.txt\n",
            "-rw-r--r-- 1 root root    819 May  7 01:51 bib_5.txt\n",
            "-rw-r--r-- 1 root root    474 May  7 01:51 bib_6.txt\n",
            "-rw-r--r-- 1 root root    331 May  7 01:51 bib_7.txt\n",
            "-rw-r--r-- 1 root root     56 May  7 01:51 data_bib_1.txt\n",
            "-rw-r--r-- 1 root root     56 May  7 01:51 data_bib_2.txt\n",
            "-rw-r--r-- 1 root root     56 May  7 01:51 data_bib_3.txt\n",
            "-rw-r--r-- 1 root root     56 May  7 01:51 data_bib_4.txt\n",
            "-rw-r--r-- 1 root root     56 May  7 01:51 data_bib_5.txt\n",
            "-rw-r--r-- 1 root root     56 May  7 01:51 data_bib_6.txt\n",
            "-rw-r--r-- 1 root root     56 May  7 01:51 data_bib_7.txt\n",
            "-rw-r--r-- 1 root root     59 May  7 01:51 data_hit_1.txt\n",
            "-rw-r--r-- 1 root root     59 May  7 01:51 data_hit_2.txt\n",
            "-rw-r--r-- 1 root root     59 May  7 01:51 data_hit_3.txt\n",
            "-rw-r--r-- 1 root root      0 May  7 01:51 data_hit_4.txt\n",
            "-rw-r--r-- 1 root root      0 May  7 01:51 data_hit_5.txt\n",
            "-rw-r--r-- 1 root root      0 May  7 01:51 data_hit_6.txt\n",
            "-rw-r--r-- 1 root root      0 May  7 01:51 data_hit_7.txt\n",
            "-rw-r--r-- 1 root root    448 May  7 01:51 data_list_1.txt\n",
            "-rw-r--r-- 1 root root    361 May  7 01:51 data_list_2.txt\n",
            "-rw-r--r-- 1 root root    251 May  7 01:51 data_list_3.txt\n",
            "-rw-r--r-- 1 root root      0 May  7 01:51 data_list_4.txt\n",
            "-rw-r--r-- 1 root root      0 May  7 01:51 data_list_5.txt\n",
            "-rw-r--r-- 1 root root      0 May  7 01:51 data_list_6.txt\n",
            "-rw-r--r-- 1 root root      0 May  7 01:51 data_list_7.txt\n",
            "-rw-r--r-- 1 root root    398 May  7 01:51 list_bibfile.txt\n",
            "drwxr-xr-x 1 root root   4096 May  4 16:26 sample_data\n",
            "-rw-r--r-- 1 root root    990 May  7 01:50 url_list2_fscl.txt\n",
            "-rw-r--r-- 1 root root   2022 May  7 01:50 url_list2_fs.txt\n",
            "-rw-r--r-- 1 root root   6280 May  7 01:50 url_list2.txt\n",
            "-rw-r--r-- 1 root root 352458 May  7 00:50 url_test1.htm\n",
            "https://ndownloader.figshare.com/articles/5772570/versions/ \n",
            "https://figshare.com/articles/5772570/1/citations/bibtex"
          ],
          "name": "stdout"
        }
      ]
    },
    {
      "cell_type": "code",
      "metadata": {
        "id": "bBjlcJ5r-MNK",
        "colab_type": "code",
        "outputId": "4be0f557-3159-4fcd-e859-66d48965838e",
        "colab": {
          "base_uri": "https://localhost:8080/",
          "height": 141
        }
      },
      "source": [
        "#---[4-4:ファイルからbibのURLを読み込む]------------------------------\n",
        "# \n",
        "#　データがある個数だけ、bibとndownloaderのURLを読み込む\n",
        "#---------------------------------------------------------------------\n",
        "import requests\n",
        "import re\n",
        "\n",
        "list_bibfile = []\n",
        "list_data_idx = []\n",
        "\n",
        "for kk in range(1, NHIT + 1):\n",
        "    iname = 'data_bib_%d.txt' % kk\n",
        "    f = open(iname, 'r', encoding='utf-8')\n",
        "    list = f.readlines()\n",
        "    oname='bib_%d.txt' % kk\n",
        "\n",
        "    nn=1\n",
        "    for tmpline1 in list:\n",
        "      tmp_bib0 = tmpline1.replace('\\n','')\n",
        "      tmp_bib_cmd = tmp_bib0.replace('\\r','')\n",
        "      list_bibfile.append(tmp_bib_cmd)\n",
        "      print(\"%d:%d[%s]\" % (kk,nn,tmp_bib_cmd)) \n",
        "      #-----------------------------------\n",
        "      \n",
        "      data_article_id = re.match('https://figshare.com/articles/(\\d+?)/1/citations/bibtex', tmp_bib_cmd)\n",
        "      list_data_idx.append(data_article_id)\n",
        "      #-----------------\n",
        "      geturl = requests.get(tmp_bib_cmd)\n",
        "      with open(oname, 'wt') as f0:\n",
        "        f0.write(geturl.text)\n",
        "\n",
        "      #--------------\n",
        "      nn=nn+1\n",
        "\n",
        "f.close()\n",
        "\n",
        "\n",
        "bibout = '\\n'.join(list_bibfile)\n",
        "with open('list_bibfile.txt', 'wt') as f2:\n",
        "  f2.write(str(bibout))\n",
        "\n"
      ],
      "execution_count": 18,
      "outputs": [
        {
          "output_type": "stream",
          "text": [
            "1:1[https://figshare.com/articles/5772570/1/citations/bibtex]\n",
            "2:1[https://figshare.com/articles/2566051/1/citations/bibtex]\n",
            "3:1[https://figshare.com/articles/1557606/1/citations/bibtex]\n",
            "4:1[https://figshare.com/articles/1557603/1/citations/bibtex]\n",
            "5:1[https://figshare.com/articles/7514726/1/citations/bibtex]\n",
            "6:1[https://figshare.com/articles/7101689/1/citations/bibtex]\n",
            "7:1[https://figshare.com/articles/7511510/1/citations/bibtex]\n"
          ],
          "name": "stdout"
        }
      ]
    },
    {
      "cell_type": "code",
      "metadata": {
        "id": "_C7RwYlFSOLr",
        "colab_type": "code",
        "colab": {}
      },
      "source": [
        "#----[4-5: bibデータリストをLocal PCへダウンロード]\n",
        "#\n",
        "# ColabからLocal PCへダウンロード\n",
        "#\n",
        "#------------------------------------\n",
        "from google.colab import files\n",
        "\n",
        "files.download('list_bibfile.txt')"
      ],
      "execution_count": 0,
      "outputs": []
    },
    {
      "cell_type": "markdown",
      "metadata": {
        "id": "tK5jQ7awTQfF",
        "colab_type": "text"
      },
      "source": [
        "---\n",
        "##**[5]. オープンデータのデータファイル(csv,xlsx等)を取得する。**\n",
        "\n",
        "figshareのダウンロードデータを、data_??,zipとしてコラボディスクに保存。\n",
        "その後でalldata.zipで1つにまとめて、ローカルPCにダウンロードする。\n",
        "\n",
        "- 5-1:figshareのダウンロード対象リストを確認\n",
        "- 5-2:ndownloaderのURLが存在するか確認\n",
        "- 5-3:figshareのサプリメンタルファイルをダウンロードしてzipファイル(data_??.zip)に保存\n",
        "- 5-4:複数のdata_??.zipを1つのZIPファイル(alldata.zip)に圧縮\n",
        "- 5-5: data_*.zipを全部まとめたalldata.zipをLocal PCへダウンロード"
      ]
    },
    {
      "cell_type": "code",
      "metadata": {
        "id": "vzIXTwgXYeNz",
        "colab_type": "code",
        "outputId": "512cfdce-8783-4df3-b3d2-14e7b225b655",
        "colab": {
          "base_uri": "https://localhost:8080/",
          "height": 55
        }
      },
      "source": [
        "#----[5-1:figshareのダウンロード対象リストを確認]--------------------------------\n",
        "#\n",
        "#--------------------------------------------\n",
        "print(list_data_idx)"
      ],
      "execution_count": 27,
      "outputs": [
        {
          "output_type": "stream",
          "text": [
            "[<_sre.SRE_Match object; span=(0, 56), match='https://figshare.com/articles/5772570/1/citations>, <_sre.SRE_Match object; span=(0, 56), match='https://figshare.com/articles/2566051/1/citations>, <_sre.SRE_Match object; span=(0, 56), match='https://figshare.com/articles/1557606/1/citations>, <_sre.SRE_Match object; span=(0, 56), match='https://figshare.com/articles/1557603/1/citations>, <_sre.SRE_Match object; span=(0, 56), match='https://figshare.com/articles/7514726/1/citations>, <_sre.SRE_Match object; span=(0, 56), match='https://figshare.com/articles/7101689/1/citations>, <_sre.SRE_Match object; span=(0, 56), match='https://figshare.com/articles/7511510/1/citations>]\n"
          ],
          "name": "stdout"
        }
      ]
    },
    {
      "cell_type": "code",
      "metadata": {
        "id": "vrbKXwJT63qu",
        "colab_type": "code",
        "colab": {
          "base_uri": "https://localhost:8080/",
          "height": 159
        },
        "outputId": "68f87893-1681-411a-b1c2-347b726a9d47"
      },
      "source": [
        "#----[5-2:ndownloaderのURLが存在するか確認]--------------------------------------------\n",
        "#\n",
        "# data_hist_?.txtの中身を確認\n",
        "#\n",
        "#-----------------------------------------------------\n",
        "import zipfile, urllib.request, shutil\n",
        "import os\n",
        "\n",
        "NALL=len(list_bibfile)\n",
        "NHIT=0\n",
        "print('NALL=%d' % NALL)\n",
        "for kk in range(NALL):\n",
        "  iname = 'data_hit_%d.txt' % (kk+1)\n",
        "  f = open(iname, 'r', encoding='utf-8')\n",
        "  list = f.readline()\n",
        "\n",
        "  if len(list) == 0:\n",
        "     print('%d: URL IS NULL' % (kk+1))\n",
        "  else:\n",
        "    print('%d: %s' % (kk+1, list))\n",
        "    NHIT=kk+1"
      ],
      "execution_count": 56,
      "outputs": [
        {
          "output_type": "stream",
          "text": [
            "NALL=7\n",
            "1: https://ndownloader.figshare.com/articles/5772570/versions/\n",
            "2: https://ndownloader.figshare.com/articles/2566051/versions/\n",
            "3: https://ndownloader.figshare.com/articles/1557606/versions/\n",
            "4: URL IS NULL\n",
            "5: URL IS NULL\n",
            "6: URL IS NULL\n",
            "7: URL IS NULL\n"
          ],
          "name": "stdout"
        }
      ]
    },
    {
      "cell_type": "code",
      "metadata": {
        "id": "Ln1WfT6N-yPM",
        "colab_type": "code",
        "colab": {
          "base_uri": "https://localhost:8080/",
          "height": 70
        },
        "outputId": "8b5bf074-0423-44c9-ec7f-6bcabbcde970"
      },
      "source": [
        "#----[5-3:figshareのサプリメンタルファイルをダウンロードしてzipファイル(data_??.zip)に保存]---------------------------\n",
        "#\n",
        "#\n",
        "#------------------------------------------------------------------------------------------\n",
        "import zipfile, urllib.request, shutil\n",
        "\n",
        "\n",
        "for kk in range(NHIT):\n",
        "  iname = 'data_hit_%d.txt' % (kk+1)\n",
        "  f = open(iname, 'r', encoding='utf-8')\n",
        "  list = f.readline()\n",
        "  \n",
        "  list_tmp =  list + '1'\n",
        "  print(list_tmp)\n",
        "\n",
        "  output_name = 'data_%d.zip' % (kk+1)\n",
        "\n",
        "  with urllib.request.urlopen(list_tmp) as response, open(output_name, 'wb') as out_file:\n",
        "    shutil.copyfileobj(response, out_file)\n",
        "    with zipfile.ZipFile(output_name) as zf:\n",
        "        zf.extractall()\n",
        "  "
      ],
      "execution_count": 55,
      "outputs": [
        {
          "output_type": "stream",
          "text": [
            "https://ndownloader.figshare.com/articles/5772570/versions/1\n",
            "https://ndownloader.figshare.com/articles/2566051/versions/1\n",
            "https://ndownloader.figshare.com/articles/1557606/versions/1\n"
          ],
          "name": "stdout"
        }
      ]
    },
    {
      "cell_type": "code",
      "metadata": {
        "id": "UrHDE2dhykze",
        "colab_type": "code",
        "outputId": "ff85bb9e-bb67-47c1-c80e-5aa72b54a573",
        "colab": {
          "base_uri": "https://localhost:8080/",
          "height": 141
        }
      },
      "source": [
        "#----[5-4:複数のdata_??.zipを1つのZIPファイル(alldata.zip)に圧縮]------------------\n",
        "#\n",
        "# 　1)更にLocal PCへダウンロードする為に、1つのZIPにまとめる。\n",
        "#   2)zipファイルのリストを確認\n",
        "#\n",
        "#-------------------------------------------------------------\n",
        "\n",
        "!zip alldata.zip data_*.zip\n",
        "!ls -l *.zip"
      ],
      "execution_count": 60,
      "outputs": [
        {
          "output_type": "stream",
          "text": [
            "  adding: data_1.zip (stored 0%)\n",
            "  adding: data_2.zip (stored 0%)\n",
            "  adding: data_3.zip (stored 0%)\n",
            "-rw-r--r-- 1 root root 102606 May  7 02:48 alldata.zip\n",
            "-rw-r--r-- 1 root root  21422 May  7 02:40 data_1.zip\n",
            "-rw-r--r-- 1 root root  70832 May  7 02:40 data_2.zip\n",
            "-rw-r--r-- 1 root root   9886 May  7 02:40 data_3.zip\n"
          ],
          "name": "stdout"
        }
      ]
    },
    {
      "cell_type": "code",
      "metadata": {
        "id": "uQJy7Itq21xF",
        "colab_type": "code",
        "colab": {}
      },
      "source": [
        "#----[5-5: data_*.zipを全部まとめたalldata.zipをLocal PCへダウンロード]--------------\n",
        "#\n",
        "# ColabからLocal PCへダウンロード\n",
        "#\n",
        "#-------------------------------------------------------------------------------------\n",
        "from google.colab import files\n",
        "\n",
        "files.download('alldata.zip')"
      ],
      "execution_count": 0,
      "outputs": []
    },
    {
      "cell_type": "markdown",
      "metadata": {
        "id": "VObNpjFiMaB9",
        "colab_type": "text"
      },
      "source": [
        "---\n",
        "---\n",
        "---\n"
      ]
    }
  ]
}